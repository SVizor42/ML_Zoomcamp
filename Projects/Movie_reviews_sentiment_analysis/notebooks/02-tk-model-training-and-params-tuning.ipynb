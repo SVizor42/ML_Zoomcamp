{
 "cells": [
  {
   "cell_type": "code",
   "execution_count": 1,
   "id": "70244982-9cd5-4f95-981a-1c6513b2bf7f",
   "metadata": {},
   "outputs": [],
   "source": [
    "import pandas as pd\n",
    "import numpy as np\n",
    "import pickle\n",
    "\n",
    "import matplotlib.pyplot as plt\n",
    "import seaborn as sns\n",
    "%matplotlib inline\n",
    "\n",
    "from sklearn.model_selection import train_test_split\n",
    "from sklearn.feature_extraction.text import CountVectorizer, TfidfVectorizer\n",
    "from sklearn.linear_model import LogisticRegression\n",
    "from sklearn.ensemble import RandomForestClassifier\n",
    "from sklearn.svm import LinearSVC\n",
    "from sklearn.pipeline import Pipeline\n",
    "from sklearn.model_selection import GridSearchCV, RandomizedSearchCV, StratifiedKFold\n",
    "from sklearn.metrics import classification_report, confusion_matrix, plot_confusion_matrix\n",
    "from sklearn.metrics import accuracy_score, precision_score, recall_score, f1_score, roc_auc_score\n",
    "\n",
    "import warnings\n",
    "warnings.filterwarnings('ignore')"
   ]
  },
  {
   "cell_type": "code",
   "execution_count": 2,
   "id": "4fd38ff8-ca74-43d1-90ee-a4a1ca1845a3",
   "metadata": {},
   "outputs": [],
   "source": [
    "DATA_DIR = '../data'\n",
    "MODEL_DIR = '../models'\n",
    "SEED = 42 # used to fix random_state"
   ]
  },
  {
   "cell_type": "code",
   "execution_count": 3,
   "id": "e652e3b8-cfa1-4cb5-a638-8180255dff7b",
   "metadata": {},
   "outputs": [],
   "source": [
    "full_train_df = pd.read_csv(DATA_DIR + '/processed/full_train.csv', index_col=0)"
   ]
  },
  {
   "cell_type": "code",
   "execution_count": 4,
   "id": "c40a5a55-d5ca-407b-862a-6b41a2a81f13",
   "metadata": {},
   "outputs": [
    {
     "name": "stdout",
     "output_type": "stream",
     "text": [
      "(40000, 2)\n"
     ]
    },
    {
     "data": {
      "text/html": [
       "<div>\n",
       "<style scoped>\n",
       "    .dataframe tbody tr th:only-of-type {\n",
       "        vertical-align: middle;\n",
       "    }\n",
       "\n",
       "    .dataframe tbody tr th {\n",
       "        vertical-align: top;\n",
       "    }\n",
       "\n",
       "    .dataframe thead th {\n",
       "        text-align: right;\n",
       "    }\n",
       "</style>\n",
       "<table border=\"1\" class=\"dataframe\">\n",
       "  <thead>\n",
       "    <tr style=\"text-align: right;\">\n",
       "      <th></th>\n",
       "      <th>review</th>\n",
       "      <th>sentiment</th>\n",
       "    </tr>\n",
       "  </thead>\n",
       "  <tbody>\n",
       "    <tr>\n",
       "      <th>0</th>\n",
       "      <td>thats kept asking many fight screaming match s...</td>\n",
       "      <td>0</td>\n",
       "    </tr>\n",
       "    <tr>\n",
       "      <th>1</th>\n",
       "      <td>watch entire movie could watch entire movie st...</td>\n",
       "      <td>0</td>\n",
       "    </tr>\n",
       "    <tr>\n",
       "      <th>2</th>\n",
       "      <td>touching love story reminiscent mood love draw...</td>\n",
       "      <td>1</td>\n",
       "    </tr>\n",
       "    <tr>\n",
       "      <th>3</th>\n",
       "      <td>latterday fulci schlocker totally abysmal conc...</td>\n",
       "      <td>0</td>\n",
       "    </tr>\n",
       "    <tr>\n",
       "      <th>4</th>\n",
       "      <td>first firmly believe norwegian movie continual...</td>\n",
       "      <td>0</td>\n",
       "    </tr>\n",
       "  </tbody>\n",
       "</table>\n",
       "</div>"
      ],
      "text/plain": [
       "                                              review  sentiment\n",
       "0  thats kept asking many fight screaming match s...          0\n",
       "1  watch entire movie could watch entire movie st...          0\n",
       "2  touching love story reminiscent mood love draw...          1\n",
       "3  latterday fulci schlocker totally abysmal conc...          0\n",
       "4  first firmly believe norwegian movie continual...          0"
      ]
     },
     "execution_count": 4,
     "metadata": {},
     "output_type": "execute_result"
    }
   ],
   "source": [
    "print(full_train_df.shape)\n",
    "full_train_df.head(5)"
   ]
  },
  {
   "cell_type": "markdown",
   "id": "645d5112-8187-4b31-b918-8852d7e2f838",
   "metadata": {},
   "source": [
    "## 1. Model training and selection"
   ]
  },
  {
   "cell_type": "markdown",
   "id": "414f5f80-4a80-4ab6-9f04-119b385a02fb",
   "metadata": {},
   "source": [
    "Let's split full training dataset into training and validation parts at first."
   ]
  },
  {
   "cell_type": "code",
   "execution_count": 5,
   "id": "542048b1-ccd4-4a61-ba00-810772abe888",
   "metadata": {},
   "outputs": [],
   "source": [
    "train_df, val_df = train_test_split(full_train_df, test_size=0.25, shuffle=True, random_state=SEED)\n",
    "train_df = train_df.reset_index(drop=True)\n",
    "val_df = val_df.reset_index(drop=True)"
   ]
  },
  {
   "cell_type": "markdown",
   "id": "0f71211d-f11f-4a4f-af78-0670bdcc9f46",
   "metadata": {},
   "source": [
    "As mentioned in [01-tk-data-preprocessing-and-EDA.ipynb](01-tk-data-preprocessing-and-EDA.ipynb), we need to remove data duplicates from our training dataset. It's time to do it."
   ]
  },
  {
   "cell_type": "code",
   "execution_count": 6,
   "id": "2d337066-21ad-4e3c-be7a-6ce8bba73852",
   "metadata": {},
   "outputs": [],
   "source": [
    "train_df = train_df.drop_duplicates()"
   ]
  },
  {
   "cell_type": "code",
   "execution_count": 7,
   "id": "8d7282ee-17b2-4841-8d23-39db255d3adf",
   "metadata": {},
   "outputs": [
    {
     "data": {
      "text/html": [
       "<div>\n",
       "<style scoped>\n",
       "    .dataframe tbody tr th:only-of-type {\n",
       "        vertical-align: middle;\n",
       "    }\n",
       "\n",
       "    .dataframe tbody tr th {\n",
       "        vertical-align: top;\n",
       "    }\n",
       "\n",
       "    .dataframe thead th {\n",
       "        text-align: right;\n",
       "    }\n",
       "</style>\n",
       "<table border=\"1\" class=\"dataframe\">\n",
       "  <thead>\n",
       "    <tr style=\"text-align: right;\">\n",
       "      <th></th>\n",
       "      <th>review</th>\n",
       "      <th>sentiment</th>\n",
       "    </tr>\n",
       "  </thead>\n",
       "  <tbody>\n",
       "    <tr>\n",
       "      <th>0</th>\n",
       "      <td>one game love bit hate shred even hardcore mar...</td>\n",
       "      <td>1</td>\n",
       "    </tr>\n",
       "    <tr>\n",
       "      <th>1</th>\n",
       "      <td>film noire set piece suffers murky sound least...</td>\n",
       "      <td>1</td>\n",
       "    </tr>\n",
       "    <tr>\n",
       "      <th>2</th>\n",
       "      <td>sat turkey seen premise sounded like potential...</td>\n",
       "      <td>0</td>\n",
       "    </tr>\n",
       "    <tr>\n",
       "      <th>3</th>\n",
       "      <td>excellent film depicting cross current life mu...</td>\n",
       "      <td>1</td>\n",
       "    </tr>\n",
       "    <tr>\n",
       "      <th>4</th>\n",
       "      <td>cast actor actress columbo episode beside pete...</td>\n",
       "      <td>1</td>\n",
       "    </tr>\n",
       "    <tr>\n",
       "      <th>...</th>\n",
       "      <td>...</td>\n",
       "      <td>...</td>\n",
       "    </tr>\n",
       "    <tr>\n",
       "      <th>29995</th>\n",
       "      <td>one creepy underrated gem chilling performance...</td>\n",
       "      <td>1</td>\n",
       "    </tr>\n",
       "    <tr>\n",
       "      <th>29996</th>\n",
       "      <td>final chapter hanzo razor trilogy provides fit...</td>\n",
       "      <td>1</td>\n",
       "    </tr>\n",
       "    <tr>\n",
       "      <th>29997</th>\n",
       "      <td>saw movie say drive in day seems like would gr...</td>\n",
       "      <td>0</td>\n",
       "    </tr>\n",
       "    <tr>\n",
       "      <th>29998</th>\n",
       "      <td>cameron diaz woman married judge played harvey...</td>\n",
       "      <td>0</td>\n",
       "    </tr>\n",
       "    <tr>\n",
       "      <th>29999</th>\n",
       "      <td>good idea use live animal department store win...</td>\n",
       "      <td>1</td>\n",
       "    </tr>\n",
       "  </tbody>\n",
       "</table>\n",
       "<p>29849 rows × 2 columns</p>\n",
       "</div>"
      ],
      "text/plain": [
       "                                                  review  sentiment\n",
       "0      one game love bit hate shred even hardcore mar...          1\n",
       "1      film noire set piece suffers murky sound least...          1\n",
       "2      sat turkey seen premise sounded like potential...          0\n",
       "3      excellent film depicting cross current life mu...          1\n",
       "4      cast actor actress columbo episode beside pete...          1\n",
       "...                                                  ...        ...\n",
       "29995  one creepy underrated gem chilling performance...          1\n",
       "29996  final chapter hanzo razor trilogy provides fit...          1\n",
       "29997  saw movie say drive in day seems like would gr...          0\n",
       "29998  cameron diaz woman married judge played harvey...          0\n",
       "29999  good idea use live animal department store win...          1\n",
       "\n",
       "[29849 rows x 2 columns]"
      ]
     },
     "execution_count": 7,
     "metadata": {},
     "output_type": "execute_result"
    }
   ],
   "source": [
    "train_df"
   ]
  },
  {
   "cell_type": "code",
   "execution_count": 8,
   "id": "0ff6cc19-bd9c-40c3-8335-a90dddf0f72e",
   "metadata": {},
   "outputs": [],
   "source": [
    "X_train, y_train = train_df['review'], train_df['sentiment']\n",
    "X_val, y_val = val_df['review'], val_df['sentiment']"
   ]
  },
  {
   "cell_type": "code",
   "execution_count": 9,
   "id": "1bc587a0-f465-49fd-85ef-ca7c74c0ee92",
   "metadata": {},
   "outputs": [
    {
     "name": "stdout",
     "output_type": "stream",
     "text": [
      "Training dataset shape is (29849,), validation part shape is (10000,).\n"
     ]
    }
   ],
   "source": [
    "print(f'Training dataset shape is {X_train.shape}, validation part shape is {X_val.shape}.')"
   ]
  },
  {
   "cell_type": "markdown",
   "id": "07f1f7c0-c615-4059-bf61-dce6e7fbd3aa",
   "metadata": {},
   "source": [
    "Before training different models, we need to transform our text collections into a matrix of tokens. For such purposes we are going to use two types of transformations on data: `CountVectorizer` and `TfidfVectorizer`. It's the most popular feature extraction techniques for text data. After that we will train models on each and choose the best one.\n",
    "* [CountVectorizer](https://scikit-learn.org/stable/modules/generated/sklearn.feature_extraction.text.CountVectorizer.html) converts a collection of text documents to a matrix of token counts: the occurrences of tokens in each document or bag of words.\n",
    "* [TfidfVectorizer](https://scikit-learn.org/stable/modules/generated/sklearn.feature_extraction.text.TfidfVectorizer.html) converts a collection of raw documents to a matrix of [TF-IDF](https://en.wikipedia.org/wiki/Tf%E2%80%93idf) features: it computes the word counts, IDF values, and TF-IDF scores all using the same data set.\n",
    "\n",
    "Both are the most popular feature extraction techniques for text data."
   ]
  },
  {
   "cell_type": "markdown",
   "id": "eccca1ae-0370-482a-b308-e33da2ab6537",
   "metadata": {},
   "source": [
    "So, let's create both transformations and apply them to our training dataset."
   ]
  },
  {
   "cell_type": "code",
   "execution_count": 10,
   "id": "f5dc14d0-ce96-4806-9e97-4301f3d88f37",
   "metadata": {},
   "outputs": [],
   "source": [
    "cv = CountVectorizer()\n",
    "X_train_cv = cv.fit_transform(X_train)\n",
    "X_val_cv = cv.transform(X_val)"
   ]
  },
  {
   "cell_type": "code",
   "execution_count": 11,
   "id": "d9feea2d-66bb-41a7-94b5-98e37ade6e3d",
   "metadata": {},
   "outputs": [],
   "source": [
    "tv = TfidfVectorizer()\n",
    "X_train_tfidf = tv.fit_transform(X_train)\n",
    "X_val_tfidf = tv.transform(X_val)"
   ]
  },
  {
   "cell_type": "code",
   "execution_count": 12,
   "id": "42abe734-6150-4273-bd25-9f726cab6eb2",
   "metadata": {},
   "outputs": [],
   "source": [
    "def calc_metrics(y_true: pd.Series, y_pred: np.array, predict_proba: np.array) -> dict:\n",
    "    \"\"\" Calculates and prints basic metrics \"\"\"\n",
    "    accuracy = round(accuracy_score(y_true, y_pred), 3)\n",
    "    precision = round(precision_score(y_true, y_pred, average='binary'), 3)\n",
    "    recall = round(recall_score(y_true, y_pred, average='binary'), 3)\n",
    "    f1 = round(f1_score(y_true, y_pred, average='binary'), 3)\n",
    "    if predict_proba.size:\n",
    "        roc_auc = round(roc_auc_score(y_true, predict_proba[:, 1]), 3)\n",
    "    else:\n",
    "        roc_auc = None\n",
    "\n",
    "    print(f'Accuracy: {accuracy}')\n",
    "    print(f'Precision: {precision}')\n",
    "    print(f'Recall: {recall}')\n",
    "    print(f'F1-score: {f1}')\n",
    "    print(f'ROC-AUC: {roc_auc}')\n",
    "    \n",
    "    return {\n",
    "        'accuracy': accuracy,\n",
    "        'precision': precision,\n",
    "        'recall': recall,\n",
    "        'f1_score': f1,\n",
    "        'ROC_AUC': roc_auc\n",
    "    }"
   ]
  },
  {
   "cell_type": "code",
   "execution_count": 13,
   "id": "cc7a7887-6205-4e6d-bd8f-4be9fc0bf470",
   "metadata": {},
   "outputs": [],
   "source": [
    "score = dict()\n",
    "scores_df = pd.DataFrame()"
   ]
  },
  {
   "cell_type": "markdown",
   "id": "e8aec5fc-677d-4558-92a7-10afa8587d0f",
   "metadata": {},
   "source": [
    "It's time to try different models for training. We start from linear models. With Logistic Regression, to be exact."
   ]
  },
  {
   "cell_type": "markdown",
   "id": "00a0ae80-70a4-42c2-824a-0b06d8a65c40",
   "metadata": {},
   "source": [
    "### 1.1. Logistic Regression"
   ]
  },
  {
   "cell_type": "markdown",
   "id": "db7528fa-04e6-4d9a-8f07-600daa8918e8",
   "metadata": {},
   "source": [
    "For a start, we will take dataset transformed by CountVectorizer."
   ]
  },
  {
   "cell_type": "code",
   "execution_count": 14,
   "id": "f565584b-a293-47af-a880-8260a35fa16a",
   "metadata": {},
   "outputs": [
    {
     "name": "stdout",
     "output_type": "stream",
     "text": [
      "Wall time: 7.93 s\n"
     ]
    },
    {
     "data": {
      "text/plain": [
       "LogisticRegression(random_state=42)"
      ]
     },
     "execution_count": 14,
     "metadata": {},
     "output_type": "execute_result"
    }
   ],
   "source": [
    "%%time\n",
    "model_lr = LogisticRegression(random_state=SEED)\n",
    "model_lr.fit(X_train_cv, y_train)"
   ]
  },
  {
   "cell_type": "code",
   "execution_count": 15,
   "id": "1294ec3d-fd99-455e-ab19-a02e1d94265f",
   "metadata": {},
   "outputs": [],
   "source": [
    "y_pred_train = model_lr.predict(X_train_cv)\n",
    "proba_train = model_lr.predict_proba(X_train_cv)"
   ]
  },
  {
   "cell_type": "markdown",
   "id": "a404f74f-b2af-4c4e-aa2a-4db4306b6fd5",
   "metadata": {},
   "source": [
    "Next we calculate some metrics on training dataset and then on validation part."
   ]
  },
  {
   "cell_type": "code",
   "execution_count": 16,
   "id": "8ed75147-5952-41e1-8e9e-0490d0348688",
   "metadata": {},
   "outputs": [
    {
     "name": "stdout",
     "output_type": "stream",
     "text": [
      "Logistic Regression metrics on training data:\n",
      "Accuracy: 0.997\n",
      "Precision: 0.997\n",
      "Recall: 0.997\n",
      "F1-score: 0.997\n",
      "ROC-AUC: 1.0\n"
     ]
    }
   ],
   "source": [
    "print(f'Logistic Regression metrics on training data:')\n",
    "score['model'] = 'CountVect_LogisticRegression_train'\n",
    "score.update(calc_metrics(y_train, y_pred_train, proba_train))\n",
    "scores_df = scores_df.append(score, ignore_index=True)"
   ]
  },
  {
   "cell_type": "code",
   "execution_count": 17,
   "id": "b012bd11-a073-449b-aa43-39f1acad3ce2",
   "metadata": {},
   "outputs": [],
   "source": [
    "y_pred_val = model_lr.predict(X_val_cv)\n",
    "proba_val = model_lr.predict_proba(X_val_cv)"
   ]
  },
  {
   "cell_type": "code",
   "execution_count": 18,
   "id": "4d00287d-d22f-4144-88be-aa3650c278dc",
   "metadata": {},
   "outputs": [
    {
     "name": "stdout",
     "output_type": "stream",
     "text": [
      "Logistic Regression metrics on validation data:\n",
      "Accuracy: 0.877\n",
      "Precision: 0.881\n",
      "Recall: 0.876\n",
      "F1-score: 0.879\n",
      "ROC-AUC: 0.945\n"
     ]
    }
   ],
   "source": [
    "print(f'Logistic Regression metrics on validation data:')\n",
    "score['model'] = 'CountVect_LogisticRegression_val'\n",
    "score.update(calc_metrics(y_val, y_pred_val, proba_val))\n",
    "scores_df = scores_df.append(score, ignore_index=True)"
   ]
  },
  {
   "cell_type": "markdown",
   "id": "1baf4800-87b9-4332-970f-4a100c3e9407",
   "metadata": {},
   "source": [
    "Then we plot the classification report ..."
   ]
  },
  {
   "cell_type": "code",
   "execution_count": 19,
   "id": "ef898882-1720-4e85-917b-86a6752808c2",
   "metadata": {},
   "outputs": [
    {
     "name": "stdout",
     "output_type": "stream",
     "text": [
      "              precision    recall  f1-score   support\n",
      "\n",
      "    negative       0.87      0.88      0.88      4937\n",
      "    positive       0.88      0.88      0.88      5063\n",
      "\n",
      "    accuracy                           0.88     10000\n",
      "   macro avg       0.88      0.88      0.88     10000\n",
      "weighted avg       0.88      0.88      0.88     10000\n",
      "\n"
     ]
    }
   ],
   "source": [
    "report_lr_cv = classification_report(y_val, y_pred_val, target_names=['negative', 'positive'])\n",
    "print(report_lr_cv)"
   ]
  },
  {
   "cell_type": "markdown",
   "id": "dfe029bc-3d51-457b-8c5d-ab079fe88346",
   "metadata": {},
   "source": [
    "... and confusion matrix."
   ]
  },
  {
   "cell_type": "code",
   "execution_count": 20,
   "id": "075a4e09-6a5f-4ebd-978e-c2f7d11f98e5",
   "metadata": {},
   "outputs": [
    {
     "data": {
      "image/png": "[encoded data removed]",
      "text/plain": [
       "<Figure size 432x288 with 2 Axes>"
      ]
     },
     "metadata": {
      "needs_background": "light"
     },
     "output_type": "display_data"
    }
   ],
   "source": [
    "plot_confusion_matrix(model_lr, X_val_cv, y_val, cmap = 'Blues', display_labels=['negative', 'positive'])\n",
    "plt.grid(False)"
   ]
  },
  {
   "cell_type": "markdown",
   "id": "df85faef-39de-4acb-ba07-29df93495940",
   "metadata": {},
   "source": [
    "The results are quite good enough. Let's try to train Logistic Regression on a data transformed by TfidfVectorizer. We will repeat all the above steps."
   ]
  },
  {
   "cell_type": "code",
   "execution_count": 21,
   "id": "a3838bf4-4011-4779-9f74-1525adfcaf90",
   "metadata": {},
   "outputs": [
    {
     "name": "stdout",
     "output_type": "stream",
     "text": [
      "Wall time: 2.24 s\n"
     ]
    },
    {
     "data": {
      "text/plain": [
       "LogisticRegression(random_state=42)"
      ]
     },
     "execution_count": 21,
     "metadata": {},
     "output_type": "execute_result"
    }
   ],
   "source": [
    "%%time\n",
    "model_lr.fit(X_train_tfidf, y_train)"
   ]
  },
  {
   "cell_type": "code",
   "execution_count": 22,
   "id": "d78b6c24-db16-4ce1-8d2a-5802b602daa6",
   "metadata": {},
   "outputs": [],
   "source": [
    "y_pred_train = model_lr.predict(X_train_tfidf)\n",
    "proba_train = model_lr.predict_proba(X_train_tfidf)"
   ]
  },
  {
   "cell_type": "code",
   "execution_count": 23,
   "id": "48dad40d-d05d-45e8-855e-c382400a2251",
   "metadata": {},
   "outputs": [
    {
     "name": "stdout",
     "output_type": "stream",
     "text": [
      "Logistic Regression metrics on training data:\n",
      "Accuracy: 0.934\n",
      "Precision: 0.926\n",
      "Recall: 0.943\n",
      "F1-score: 0.934\n",
      "ROC-AUC: 0.982\n"
     ]
    }
   ],
   "source": [
    "print(f'Logistic Regression metrics on training data:')\n",
    "score['model'] = 'TfidfVect_LogisticRegression_train'\n",
    "score.update(calc_metrics(y_train, y_pred_train, proba_train))\n",
    "scores_df = scores_df.append(score, ignore_index=True)"
   ]
  },
  {
   "cell_type": "code",
   "execution_count": 24,
   "id": "579aa722-4cfe-4856-9ab2-325224dd0365",
   "metadata": {},
   "outputs": [],
   "source": [
    "y_pred_val = model_lr.predict(X_val_tfidf)\n",
    "proba_val = model_lr.predict_proba(X_val_tfidf)"
   ]
  },
  {
   "cell_type": "code",
   "execution_count": 25,
   "id": "9efd7882-7f1e-4668-869b-f91d0792bfd2",
   "metadata": {},
   "outputs": [
    {
     "name": "stdout",
     "output_type": "stream",
     "text": [
      "Logistic Regression metrics on validation data:\n",
      "Accuracy: 0.89\n",
      "Precision: 0.89\n",
      "Recall: 0.894\n",
      "F1-score: 0.892\n",
      "ROC-AUC: 0.958\n"
     ]
    }
   ],
   "source": [
    "print(f'Logistic Regression metrics on validation data:')\n",
    "score['model'] = 'TfidfVect_LogisticRegression_val'\n",
    "score.update(calc_metrics(y_val, y_pred_val, proba_val))\n",
    "scores_df = scores_df.append(score, ignore_index=True)"
   ]
  },
  {
   "cell_type": "code",
   "execution_count": 26,
   "id": "d7c756c7-14c0-4c15-9a4a-359e38b18165",
   "metadata": {},
   "outputs": [
    {
     "name": "stdout",
     "output_type": "stream",
     "text": [
      "              precision    recall  f1-score   support\n",
      "\n",
      "    negative       0.89      0.89      0.89      4937\n",
      "    positive       0.89      0.89      0.89      5063\n",
      "\n",
      "    accuracy                           0.89     10000\n",
      "   macro avg       0.89      0.89      0.89     10000\n",
      "weighted avg       0.89      0.89      0.89     10000\n",
      "\n"
     ]
    }
   ],
   "source": [
    "report_lr_tfidf = classification_report(y_val, y_pred_val, target_names=['negative', 'positive'])\n",
    "print(report_lr_tfidf)"
   ]
  },
  {
   "cell_type": "code",
   "execution_count": 27,
   "id": "030ae81c-d6ce-49e0-877d-bc2f75ad386b",
   "metadata": {},
   "outputs": [
    {
     "data": {
      "image/png": "[encoded data removed]",
      "text/plain": [
       "<Figure size 432x288 with 2 Axes>"
      ]
     },
     "metadata": {
      "needs_background": "light"
     },
     "output_type": "display_data"
    }
   ],
   "source": [
    "plot_confusion_matrix(model_lr, X_val_tfidf, y_val, cmap = 'Blues', display_labels=['negative', 'positive'])\n",
    "plt.grid(False)"
   ]
  },
  {
   "cell_type": "code",
   "execution_count": 28,
   "id": "4d9361a7-5cc3-40ae-9208-1e9e5b740ba9",
   "metadata": {},
   "outputs": [
    {
     "data": {
      "text/html": [
       "<div>\n",
       "<style scoped>\n",
       "    .dataframe tbody tr th:only-of-type {\n",
       "        vertical-align: middle;\n",
       "    }\n",
       "\n",
       "    .dataframe tbody tr th {\n",
       "        vertical-align: top;\n",
       "    }\n",
       "\n",
       "    .dataframe thead th {\n",
       "        text-align: right;\n",
       "    }\n",
       "</style>\n",
       "<table border=\"1\" class=\"dataframe\">\n",
       "  <thead>\n",
       "    <tr style=\"text-align: right;\">\n",
       "      <th></th>\n",
       "      <th>accuracy</th>\n",
       "      <th>precision</th>\n",
       "      <th>recall</th>\n",
       "      <th>f1_score</th>\n",
       "      <th>ROC_AUC</th>\n",
       "    </tr>\n",
       "    <tr>\n",
       "      <th>model</th>\n",
       "      <th></th>\n",
       "      <th></th>\n",
       "      <th></th>\n",
       "      <th></th>\n",
       "      <th></th>\n",
       "    </tr>\n",
       "  </thead>\n",
       "  <tbody>\n",
       "    <tr>\n",
       "      <th>CountVect_LogisticRegression_train</th>\n",
       "      <td>0.997</td>\n",
       "      <td>0.997</td>\n",
       "      <td>0.997</td>\n",
       "      <td>0.997</td>\n",
       "      <td>1.000</td>\n",
       "    </tr>\n",
       "    <tr>\n",
       "      <th>CountVect_LogisticRegression_val</th>\n",
       "      <td>0.877</td>\n",
       "      <td>0.881</td>\n",
       "      <td>0.876</td>\n",
       "      <td>0.879</td>\n",
       "      <td>0.945</td>\n",
       "    </tr>\n",
       "    <tr>\n",
       "      <th>TfidfVect_LogisticRegression_train</th>\n",
       "      <td>0.934</td>\n",
       "      <td>0.926</td>\n",
       "      <td>0.943</td>\n",
       "      <td>0.934</td>\n",
       "      <td>0.982</td>\n",
       "    </tr>\n",
       "    <tr>\n",
       "      <th>TfidfVect_LogisticRegression_val</th>\n",
       "      <td>0.890</td>\n",
       "      <td>0.890</td>\n",
       "      <td>0.894</td>\n",
       "      <td>0.892</td>\n",
       "      <td>0.958</td>\n",
       "    </tr>\n",
       "  </tbody>\n",
       "</table>\n",
       "</div>"
      ],
      "text/plain": [
       "                                    accuracy  precision  recall  f1_score  \\\n",
       "model                                                                       \n",
       "CountVect_LogisticRegression_train     0.997      0.997   0.997     0.997   \n",
       "CountVect_LogisticRegression_val       0.877      0.881   0.876     0.879   \n",
       "TfidfVect_LogisticRegression_train     0.934      0.926   0.943     0.934   \n",
       "TfidfVect_LogisticRegression_val       0.890      0.890   0.894     0.892   \n",
       "\n",
       "                                    ROC_AUC  \n",
       "model                                        \n",
       "CountVect_LogisticRegression_train    1.000  \n",
       "CountVect_LogisticRegression_val      0.945  \n",
       "TfidfVect_LogisticRegression_train    0.982  \n",
       "TfidfVect_LogisticRegression_val      0.958  "
      ]
     },
     "execution_count": 28,
     "metadata": {},
     "output_type": "execute_result"
    }
   ],
   "source": [
    "scores_df.set_index('model')"
   ]
  },
  {
   "cell_type": "markdown",
   "id": "c3716ad3-7b47-472d-8acb-5307fbb582b4",
   "metadata": {},
   "source": [
    "As you can see from this table, we got a slightly better results for the data after CountVectorizer transformation over the training part (`ROC_AUC = 1.0`). But at the same time, all metrics on the validation dataset are more preferable for the data after TfidfVectorizer convertion."
   ]
  },
  {
   "cell_type": "markdown",
   "id": "9700924b-c338-457f-95e2-981d79d649a3",
   "metadata": {},
   "source": [
    "What we do next is hyperparameters tuning. First we will do it manually by searching each parameter step by step and dropping out the worst one. Then we are going to take a special function that is usually used for such kind of purpose.\n",
    "\n",
    "The transformers like CountVectorizer or TfidfVectorizer have the following parameters to tune:\n",
    "* `ngram_range` - the lower and upper boundary of the range of n-values for different word n-grams to be extracted;\n",
    "* `max_df` - when building the vocabulary ignore terms that have a document frequency strictly higher than the given threshold (corpus-specific stop words).\n",
    "* `max_features` - build a vocabulary that only consider the top max_features ordered by term frequency across the corpus.\n",
    "\n",
    "**Note: All the next steps related to parameters tuning can take a significant amount of your time (from 10 to 60 minutes for each notebook cell). So please be careful!**"
   ]
  },
  {
   "cell_type": "markdown",
   "id": "73e29cf5-56ca-41fb-8fb7-19b92574848c",
   "metadata": {},
   "source": [
    "We start with CountVectorizer as a transformer, and our first parameter for turning will be `ngram_range`."
   ]
  },
  {
   "cell_type": "code",
   "execution_count": 29,
   "id": "77d6e5b2-2d4f-4d9b-9a74-53578fa76772",
   "metadata": {},
   "outputs": [],
   "source": [
    "scores = []\n",
    "ngram_range = [(1, 1), (1, 2), (1, 3)]\n",
    "for ngram in ngram_range:\n",
    "    pipeline = Pipeline([\n",
    "        ('transformer', CountVectorizer(ngram_range=ngram)),\n",
    "        ('model', LogisticRegression(random_state=SEED)),\n",
    "    ])\n",
    "    pipeline.fit(X_train, y_train)\n",
    "\n",
    "    y_pred = pipeline.predict(X_val)\n",
    "    accuracy = accuracy_score(y_val, y_pred)\n",
    "    \n",
    "    scores.append((ngram, accuracy))"
   ]
  },
  {
   "cell_type": "code",
   "execution_count": 30,
   "id": "a613683f-7d60-4bfd-ab9e-4ef469ba23ae",
   "metadata": {},
   "outputs": [
    {
     "data": {
      "text/plain": [
       "[((1, 1), 0.8774), ((1, 2), 0.8924), ((1, 3), 0.8918)]"
      ]
     },
     "execution_count": 30,
     "metadata": {},
     "output_type": "execute_result"
    }
   ],
   "source": [
    "scores"
   ]
  },
  {
   "cell_type": "markdown",
   "id": "4b2ec183-355a-4896-8f57-9a45be628b75",
   "metadata": {},
   "source": [
    "Using only unigrams give us a worse result. Therefore, we continue with `ngram_range=[(1, 2), (1, 3)]`. Next, we will tune `max_df` parameter."
   ]
  },
  {
   "cell_type": "code",
   "execution_count": 31,
   "id": "1530b8de-aa57-40a3-8cc0-d26b7f7a69f6",
   "metadata": {},
   "outputs": [],
   "source": [
    "scores = []\n",
    "ngram_range = [(1, 2), (1, 3)]\n",
    "max_df_range = [0.5, 0.75, 1]\n",
    "for max_df in max_df_range:\n",
    "    for ngram in ngram_range:\n",
    "        pipeline = Pipeline([\n",
    "            ('transformer', CountVectorizer(ngram_range=ngram, max_df=max_df)),\n",
    "            ('model', LogisticRegression(random_state=SEED)),\n",
    "        ])\n",
    "        pipeline.fit(X_train, y_train)\n",
    "\n",
    "        y_pred = pipeline.predict(X_val)\n",
    "        accuracy = accuracy_score(y_val, y_pred)\n",
    "\n",
    "        scores.append((max_df, ngram, accuracy))"
   ]
  },
  {
   "cell_type": "code",
   "execution_count": 32,
   "id": "e703c64c-c99c-4399-b07e-75cf02d66778",
   "metadata": {},
   "outputs": [
    {
     "data": {
      "text/plain": [
       "[(0.5, (1, 2), 0.8924),\n",
       " (0.5, (1, 3), 0.8913),\n",
       " (0.75, (1, 2), 0.8924),\n",
       " (0.75, (1, 3), 0.8918),\n",
       " (1, (1, 2), 0.6889),\n",
       " (1, (1, 3), 0.7223)]"
      ]
     },
     "execution_count": 32,
     "metadata": {},
     "output_type": "execute_result"
    }
   ],
   "source": [
    "scores"
   ]
  },
  {
   "cell_type": "markdown",
   "id": "4e056102-1bb6-443a-beb5-da4488874b50",
   "metadata": {},
   "source": [
    "Here we got the best results with `ngram_range=[(1, 2), (1, 3)]` and `max_df=[0.5, 0.75]`. Let's move on to the next parameter - `max_features`."
   ]
  },
  {
   "cell_type": "code",
   "execution_count": 33,
   "id": "d7e084a8-bff5-4746-9a84-286c818d1bf8",
   "metadata": {},
   "outputs": [],
   "source": [
    "scores = []\n",
    "ngram_range = [(1, 2), (1, 3)]\n",
    "max_df_range = [0.5, 0.75]\n",
    "max_features_range = [None, 10000, 50000]\n",
    "for max_ft in max_features_range:\n",
    "    for max_df in max_df_range:\n",
    "        for ngram in ngram_range:\n",
    "            pipeline = Pipeline([\n",
    "                ('transformer', \n",
    "                     CountVectorizer(\n",
    "                         ngram_range=ngram, \n",
    "                         max_df=max_df, \n",
    "                         max_features=max_ft\n",
    "                     )\n",
    "                ),\n",
    "                ('model', LogisticRegression(random_state=SEED)),\n",
    "            ])\n",
    "            pipeline.fit(X_train, y_train)\n",
    "\n",
    "            y_pred = pipeline.predict(X_val)\n",
    "            accuracy = accuracy_score(y_val, y_pred)\n",
    "\n",
    "            scores.append((max_ft, max_df, ngram, accuracy))"
   ]
  },
  {
   "cell_type": "code",
   "execution_count": 34,
   "id": "d8c51b70-8efc-484e-bd0d-be0541505060",
   "metadata": {},
   "outputs": [
    {
     "data": {
      "text/plain": [
       "[(None, 0.5, (1, 2), 0.8924),\n",
       " (None, 0.5, (1, 3), 0.8913),\n",
       " (None, 0.75, (1, 2), 0.8924),\n",
       " (None, 0.75, (1, 3), 0.8918),\n",
       " (10000, 0.5, (1, 2), 0.868),\n",
       " (10000, 0.5, (1, 3), 0.8693),\n",
       " (10000, 0.75, (1, 2), 0.869),\n",
       " (10000, 0.75, (1, 3), 0.8695),\n",
       " (50000, 0.5, (1, 2), 0.8861),\n",
       " (50000, 0.5, (1, 3), 0.8861),\n",
       " (50000, 0.75, (1, 2), 0.8859),\n",
       " (50000, 0.75, (1, 3), 0.8867)]"
      ]
     },
     "execution_count": 34,
     "metadata": {},
     "output_type": "execute_result"
    }
   ],
   "source": [
    "scores"
   ]
  },
  {
   "cell_type": "markdown",
   "id": "378008e9-d36c-446c-a9c2-855db3430900",
   "metadata": {},
   "source": [
    "Our best result is 0.8924 and we got it with the following parameters of CountVectorizer: `max_features=None, max_df=0.5, ngram_range=(1, 2)`. Next step is to find out optimal values for Logistic Regression params: regularization coefficient `C` and the `penalty` norm. We will tune these params simultaneously."
   ]
  },
  {
   "cell_type": "code",
   "execution_count": 35,
   "id": "2dfd74d7-cfa8-4aee-b5f1-41caf3ea8d35",
   "metadata": {},
   "outputs": [],
   "source": [
    "scores = []\n",
    "C_range = [0.01, 0.1, 1, 10]\n",
    "penalty_range = ['none', 'l2']\n",
    "for C in C_range:\n",
    "    for penalty in penalty_range:\n",
    "        pipeline = Pipeline([\n",
    "            ('transformer', CountVectorizer(ngram_range=(1, 2), max_df=0.5)),\n",
    "            ('model', LogisticRegression(C=C, penalty=penalty, random_state=SEED)),\n",
    "        ])\n",
    "        pipeline.fit(X_train, y_train)\n",
    "\n",
    "        y_pred = pipeline.predict(X_val)\n",
    "        accuracy = accuracy_score(y_val, y_pred)\n",
    "\n",
    "        scores.append((C, penalty, accuracy))"
   ]
  },
  {
   "cell_type": "code",
   "execution_count": 36,
   "id": "1ffce1d0-dcb3-4d70-84cb-690263274ab6",
   "metadata": {},
   "outputs": [
    {
     "data": {
      "text/plain": [
       "[(0.01, 'none', 0.887),\n",
       " (0.01, 'l2', 0.8876),\n",
       " (0.1, 'none', 0.887),\n",
       " (0.1, 'l2', 0.894),\n",
       " (1, 'none', 0.887),\n",
       " (1, 'l2', 0.8924),\n",
       " (10, 'none', 0.887),\n",
       " (10, 'l2', 0.8915)]"
      ]
     },
     "execution_count": 36,
     "metadata": {},
     "output_type": "execute_result"
    }
   ],
   "source": [
    "scores"
   ]
  },
  {
   "cell_type": "markdown",
   "id": "f462507d-dccf-4aa7-a6ba-ede1023086cd",
   "metadata": {},
   "source": [
    "The best calculated accuracy score is 0.8924. The best parameters are `max_features=None, max_df=0.5, ngram_range=(1, 2), C=1, penalty='l2'`.\n",
    "\n",
    "Now, we should repeat all the above steps for TfidfVectorizer, but in this case we will use a special function called [RandomizedSearchCV](https://scikit-learn.org/stable/modules/generated/sklearn.model_selection.RandomizedSearchCV.html?highlight=randomizedsearchcv#sklearn.model_selection.RandomizedSearchCV). RandomizedSearchCV isn't go to try all possible combinations, because it is limited with `n_iters` param. This will allow us to save our time without significant loss of model quality.\n",
    "\n",
    "Since we are going to use RandomizedSearchCV for tuning, it makes sense to create a training pipeline that will include both TfidfVectorizer and LogisticRegression. Besides, we won't validate the pipeline manually, RandomizedSearchCV will do it for us. Therefore, we will use the full training dataset in this case."
   ]
  },
  {
   "cell_type": "code",
   "execution_count": 37,
   "id": "16c7dcf3-5807-4ada-85af-6fbee587e764",
   "metadata": {},
   "outputs": [],
   "source": [
    "X_full_train, y_full_train = full_train_df['review'], full_train_df['sentiment']"
   ]
  },
  {
   "cell_type": "code",
   "execution_count": 38,
   "id": "fedf126c-e61f-4a29-b963-a222374cb0aa",
   "metadata": {},
   "outputs": [],
   "source": [
    "pipeline_lr = Pipeline([\n",
    "    ('transformer', TfidfVectorizer()),\n",
    "    ('model', LogisticRegression(random_state=SEED)),\n",
    "])"
   ]
  },
  {
   "cell_type": "code",
   "execution_count": 39,
   "id": "2e795942-15ee-4284-a521-8b68934b081e",
   "metadata": {},
   "outputs": [],
   "source": [
    "parameters = {\n",
    "    'transformer__max_df': (0.5, 0.75, 1.0),\n",
    "    'transformer__max_features': (None, 50000),\n",
    "    'transformer__ngram_range': ((1, 1), (1, 2), (1, 3)),\n",
    "    'model__C': [0.1, 1, 10],\n",
    "    'model__penalty': ('none', 'l2'),\n",
    "}"
   ]
  },
  {
   "cell_type": "code",
   "execution_count": 40,
   "id": "d176e242-479d-4ed3-8f33-f540031022f2",
   "metadata": {},
   "outputs": [],
   "source": [
    "skf = StratifiedKFold(n_splits=3, shuffle=True, random_state=SEED)\n",
    "random_search = RandomizedSearchCV(pipeline_lr, parameters, n_jobs=8, n_iter=50, verbose=True, cv=skf)"
   ]
  },
  {
   "cell_type": "code",
   "execution_count": 42,
   "id": "223e3a33-13c4-43ce-8afb-1b0b35520411",
   "metadata": {},
   "outputs": [
    {
     "name": "stdout",
     "output_type": "stream",
     "text": [
      "Fitting 3 folds for each of 50 candidates, totalling 150 fits\n",
      "Wall time: 52min 31s\n"
     ]
    },
    {
     "data": {
      "text/plain": [
       "RandomizedSearchCV(cv=StratifiedKFold(n_splits=3, random_state=42, shuffle=True),\n",
       "                   estimator=Pipeline(steps=[('transformer', TfidfVectorizer()),\n",
       "                                             ('model',\n",
       "                                              LogisticRegression(random_state=42))]),\n",
       "                   n_iter=50, n_jobs=8,\n",
       "                   param_distributions={'model__C': [0.1, 1, 10],\n",
       "                                        'model__penalty': ('none', 'l2'),\n",
       "                                        'transformer__max_df': (0.5, 0.75, 1.0),\n",
       "                                        'transformer__max_features': (None,\n",
       "                                                                      50000),\n",
       "                                        'transformer__ngram_range': ((1, 1),\n",
       "                                                                     (1, 2),\n",
       "                                                                     (1, 3))},\n",
       "                   verbose=True)"
      ]
     },
     "execution_count": 42,
     "metadata": {},
     "output_type": "execute_result"
    }
   ],
   "source": [
    "%%time\n",
    "random_search.fit(X_full_train, y_full_train)"
   ]
  },
  {
   "cell_type": "code",
   "execution_count": 43,
   "id": "1b0a1a38-df41-42df-98e5-999535e15673",
   "metadata": {},
   "outputs": [
    {
     "name": "stdout",
     "output_type": "stream",
     "text": [
      "Best accuracy score: 0.899\n",
      "Best parameters set:\n",
      "\tmodel__C: 10\n",
      "\tmodel__penalty: none\n",
      "\ttransformer__max_df: 0.75\n",
      "\ttransformer__max_features: None\n",
      "\ttransformer__ngram_range: (1, 2)\n"
     ]
    }
   ],
   "source": [
    "print(f'Best accuracy score: {random_search.best_score_:0.3f}')\n",
    "print('Best parameters set:')\n",
    "best_model_lr = random_search.best_estimator_\n",
    "best_parameters = best_model_lr.get_params()\n",
    "for param_name in sorted(parameters.keys()):\n",
    "    print(f'\\t{param_name}: {best_parameters[param_name]}')"
   ]
  },
  {
   "cell_type": "markdown",
   "id": "4fcd5b14-410b-4121-8ae9-0a7216484206",
   "metadata": {},
   "source": [
    "As you see, the result we got a little bit better than in case of CountVectorizer. Therefore, we will choose this model. Let's calculate remaining metrics and plot confusion matrix now."
   ]
  },
  {
   "cell_type": "code",
   "execution_count": 44,
   "id": "d4833be7-1f10-4e48-9d67-57a1c1271dd1",
   "metadata": {},
   "outputs": [
    {
     "name": "stdout",
     "output_type": "stream",
     "text": [
      "Wall time: 59 s\n"
     ]
    },
    {
     "data": {
      "text/plain": [
       "Pipeline(steps=[('transformer',\n",
       "                 TfidfVectorizer(max_df=0.75, ngram_range=(1, 2))),\n",
       "                ('model',\n",
       "                 LogisticRegression(C=10, penalty='none', random_state=42))])"
      ]
     },
     "execution_count": 44,
     "metadata": {},
     "output_type": "execute_result"
    }
   ],
   "source": [
    "%%time\n",
    "best_model_lr.fit(X_train, y_train)"
   ]
  },
  {
   "cell_type": "code",
   "execution_count": 45,
   "id": "a66ecd6d-5dfa-4a2c-a0c6-ff9e51da1590",
   "metadata": {},
   "outputs": [],
   "source": [
    "y_pred_train = best_model_lr.predict(X_train)\n",
    "proba_train = best_model_lr.predict_proba(X_train)"
   ]
  },
  {
   "cell_type": "code",
   "execution_count": 46,
   "id": "e0c5e382-bbcf-4fd4-9ea1-802404dc122e",
   "metadata": {},
   "outputs": [
    {
     "name": "stdout",
     "output_type": "stream",
     "text": [
      "Logistic Regression metrics after parameter tuning on training data:\n",
      "Accuracy: 1.0\n",
      "Precision: 1.0\n",
      "Recall: 1.0\n",
      "F1-score: 1.0\n",
      "ROC-AUC: 1.0\n"
     ]
    }
   ],
   "source": [
    "print(f'Logistic Regression metrics after parameter tuning on training data:')\n",
    "score['model'] = 'TfidfVect_LogisticRegression_tuned_train'\n",
    "score.update(calc_metrics(y_train, y_pred_train, proba_train))\n",
    "scores_df = scores_df.append(score, ignore_index=True)"
   ]
  },
  {
   "cell_type": "code",
   "execution_count": 47,
   "id": "7347c282-0a26-44fd-9f40-23f523eba466",
   "metadata": {},
   "outputs": [],
   "source": [
    "y_pred_val = best_model_lr.predict(X_val)\n",
    "proba_val = best_model_lr.predict_proba(X_val)"
   ]
  },
  {
   "cell_type": "code",
   "execution_count": 48,
   "id": "636909b2-84b8-47ba-afdb-4d796e27f2be",
   "metadata": {},
   "outputs": [
    {
     "name": "stdout",
     "output_type": "stream",
     "text": [
      "Logistic Regression metrics after parameter tuning on validation data:\n",
      "Accuracy: 0.896\n",
      "Precision: 0.898\n",
      "Recall: 0.897\n",
      "F1-score: 0.898\n",
      "ROC-AUC: 0.956\n"
     ]
    }
   ],
   "source": [
    "print(f'Logistic Regression metrics after parameter tuning on validation data:')\n",
    "score['model'] = 'TfidfVect_LogisticRegression_tuned_val'\n",
    "score.update(calc_metrics(y_val, y_pred_val, proba_val))\n",
    "scores_df = scores_df.append(score, ignore_index=True)"
   ]
  },
  {
   "cell_type": "code",
   "execution_count": 49,
   "id": "3e19cd7d-c5bb-4ef5-9921-73d2e0c12132",
   "metadata": {},
   "outputs": [
    {
     "name": "stdout",
     "output_type": "stream",
     "text": [
      "              precision    recall  f1-score   support\n",
      "\n",
      "    negative       0.89      0.90      0.90      4937\n",
      "    positive       0.90      0.90      0.90      5063\n",
      "\n",
      "    accuracy                           0.90     10000\n",
      "   macro avg       0.90      0.90      0.90     10000\n",
      "weighted avg       0.90      0.90      0.90     10000\n",
      "\n"
     ]
    }
   ],
   "source": [
    "report_best_lr_tfidf = classification_report(y_val, y_pred_val, target_names=['negative', 'positive'])\n",
    "print(report_best_lr_tfidf)"
   ]
  },
  {
   "cell_type": "code",
   "execution_count": 50,
   "id": "b97bc9a8-53f0-47aa-9523-818dd1023289",
   "metadata": {},
   "outputs": [
    {
     "data": {
      "image/png": "[encoded data removed]",
      "text/plain": [
       "<Figure size 432x288 with 2 Axes>"
      ]
     },
     "metadata": {
      "needs_background": "light"
     },
     "output_type": "display_data"
    }
   ],
   "source": [
    "plot_confusion_matrix(best_model_lr, X_val, y_val, cmap = 'Blues', display_labels=['negative', 'positive'])\n",
    "plt.grid(False)"
   ]
  },
  {
   "cell_type": "code",
   "execution_count": 51,
   "id": "52107164-fbcd-474e-9cd2-7ccfc17ad0b1",
   "metadata": {},
   "outputs": [
    {
     "data": {
      "text/html": [
       "<div>\n",
       "<style scoped>\n",
       "    .dataframe tbody tr th:only-of-type {\n",
       "        vertical-align: middle;\n",
       "    }\n",
       "\n",
       "    .dataframe tbody tr th {\n",
       "        vertical-align: top;\n",
       "    }\n",
       "\n",
       "    .dataframe thead th {\n",
       "        text-align: right;\n",
       "    }\n",
       "</style>\n",
       "<table border=\"1\" class=\"dataframe\">\n",
       "  <thead>\n",
       "    <tr style=\"text-align: right;\">\n",
       "      <th></th>\n",
       "      <th>accuracy</th>\n",
       "      <th>precision</th>\n",
       "      <th>recall</th>\n",
       "      <th>f1_score</th>\n",
       "      <th>ROC_AUC</th>\n",
       "    </tr>\n",
       "    <tr>\n",
       "      <th>model</th>\n",
       "      <th></th>\n",
       "      <th></th>\n",
       "      <th></th>\n",
       "      <th></th>\n",
       "      <th></th>\n",
       "    </tr>\n",
       "  </thead>\n",
       "  <tbody>\n",
       "    <tr>\n",
       "      <th>CountVect_LogisticRegression_train</th>\n",
       "      <td>0.997</td>\n",
       "      <td>0.997</td>\n",
       "      <td>0.997</td>\n",
       "      <td>0.997</td>\n",
       "      <td>1.000</td>\n",
       "    </tr>\n",
       "    <tr>\n",
       "      <th>CountVect_LogisticRegression_val</th>\n",
       "      <td>0.877</td>\n",
       "      <td>0.881</td>\n",
       "      <td>0.876</td>\n",
       "      <td>0.879</td>\n",
       "      <td>0.945</td>\n",
       "    </tr>\n",
       "    <tr>\n",
       "      <th>TfidfVect_LogisticRegression_train</th>\n",
       "      <td>0.934</td>\n",
       "      <td>0.926</td>\n",
       "      <td>0.943</td>\n",
       "      <td>0.934</td>\n",
       "      <td>0.982</td>\n",
       "    </tr>\n",
       "    <tr>\n",
       "      <th>TfidfVect_LogisticRegression_val</th>\n",
       "      <td>0.890</td>\n",
       "      <td>0.890</td>\n",
       "      <td>0.894</td>\n",
       "      <td>0.892</td>\n",
       "      <td>0.958</td>\n",
       "    </tr>\n",
       "    <tr>\n",
       "      <th>TfidfVect_LogisticRegression_tuned_train</th>\n",
       "      <td>1.000</td>\n",
       "      <td>1.000</td>\n",
       "      <td>1.000</td>\n",
       "      <td>1.000</td>\n",
       "      <td>1.000</td>\n",
       "    </tr>\n",
       "    <tr>\n",
       "      <th>TfidfVect_LogisticRegression_tuned_val</th>\n",
       "      <td>0.896</td>\n",
       "      <td>0.898</td>\n",
       "      <td>0.897</td>\n",
       "      <td>0.898</td>\n",
       "      <td>0.956</td>\n",
       "    </tr>\n",
       "  </tbody>\n",
       "</table>\n",
       "</div>"
      ],
      "text/plain": [
       "                                          accuracy  precision  recall  \\\n",
       "model                                                                   \n",
       "CountVect_LogisticRegression_train           0.997      0.997   0.997   \n",
       "CountVect_LogisticRegression_val             0.877      0.881   0.876   \n",
       "TfidfVect_LogisticRegression_train           0.934      0.926   0.943   \n",
       "TfidfVect_LogisticRegression_val             0.890      0.890   0.894   \n",
       "TfidfVect_LogisticRegression_tuned_train     1.000      1.000   1.000   \n",
       "TfidfVect_LogisticRegression_tuned_val       0.896      0.898   0.897   \n",
       "\n",
       "                                          f1_score  ROC_AUC  \n",
       "model                                                        \n",
       "CountVect_LogisticRegression_train           0.997    1.000  \n",
       "CountVect_LogisticRegression_val             0.879    0.945  \n",
       "TfidfVect_LogisticRegression_train           0.934    0.982  \n",
       "TfidfVect_LogisticRegression_val             0.892    0.958  \n",
       "TfidfVect_LogisticRegression_tuned_train     1.000    1.000  \n",
       "TfidfVect_LogisticRegression_tuned_val       0.898    0.956  "
      ]
     },
     "execution_count": 51,
     "metadata": {},
     "output_type": "execute_result"
    }
   ],
   "source": [
    "scores_df.set_index('model')"
   ]
  },
  {
   "cell_type": "markdown",
   "id": "fa82a549-7f2e-4b0a-ad3c-18499c4d5a5d",
   "metadata": {},
   "source": [
    "Almost all our metrics have been slightly improved after tuning the model parameters."
   ]
  },
  {
   "cell_type": "markdown",
   "id": "f25effed-2c75-40f3-9c37-d713cbf2570b",
   "metadata": {},
   "source": [
    "### 1.2. Random Forest"
   ]
  },
  {
   "cell_type": "markdown",
   "id": "6c442dba-8b99-445d-b126-2568cf5f53c4",
   "metadata": {},
   "source": [
    "Next model that we are going to deal with is Random Forest. We will reproduce most of the steps from Logistic Regression part, but we will try to simplify and shorten the whole procedure.\n",
    "\n",
    "We start with the implementation of method which covers all the training routine."
   ]
  },
  {
   "cell_type": "code",
   "execution_count": 52,
   "id": "edd0791a-9f0f-44de-ab0c-90d75e3fccce",
   "metadata": {},
   "outputs": [],
   "source": [
    "def train_pipeline(\n",
    "    pipeline: Pipeline, X_train: pd.DataFrame, y_train: pd.Series, X_val: pd.DataFrame, y_val: pd.Series\n",
    ") -> [Pipeline, dict, dict]:\n",
    "    \"\"\" Trains and evaluates pipeline, calculates and prints all the necessary metrics. \"\"\"    \n",
    "    train_metrics, val_metrics = dict(), dict()\n",
    "    transformer_name = type(pipeline['transformer']).__name__\n",
    "    model_name = type(pipeline['model']).__name__\n",
    "    pipeline.fit(X_train, y_train)\n",
    "    \n",
    "    y_pred_train = pipeline.predict(X_train)\n",
    "    # LinearSVC doesn't have predict_proba() method \n",
    "    if model_name == 'LinearSVC':\n",
    "        proba_train = np.empty(0)\n",
    "    else:\n",
    "        proba_train = pipeline.predict_proba(X_train)\n",
    "    print(f'{model_name} metrics on training data:')\n",
    "    train_metrics['model'] = transformer_name + '_' + model_name + '_train'\n",
    "    train_metrics.update(calc_metrics(y_train, y_pred_train, proba_train))\n",
    "\n",
    "    y_pred_val = pipeline.predict(X_val)\n",
    "    # LinearSVC doesn't have predict_proba() method \n",
    "    if model_name == 'LinearSVC':\n",
    "        proba_val = np.empty(0)\n",
    "    else:\n",
    "        proba_val = pipeline.predict_proba(X_val)\n",
    "    print(f'\\n{model_name} metrics on validation data:')\n",
    "    val_metrics['model'] = transformer_name + '_' + model_name + '_val'\n",
    "    val_metrics.update(calc_metrics(y_val, y_pred_val, proba_val))\n",
    "\n",
    "    print(f'\\nClassification report and confusion matrix for the validation data:')\n",
    "    report = classification_report(y_val, y_pred_val, target_names=['negative', 'positive'])\n",
    "    print(report)\n",
    "    \n",
    "    plot_confusion_matrix(pipeline, X_val, y_val, cmap = 'Blues', display_labels=['negative', 'positive'])\n",
    "    plt.grid(False)\n",
    "    \n",
    "    return [pipeline, train_metrics, val_metrics]"
   ]
  },
  {
   "cell_type": "code",
   "execution_count": 53,
   "id": "cee2fc97-bbf9-49db-9dd6-0631c05736e0",
   "metadata": {},
   "outputs": [],
   "source": [
    "pipeline_cv_rf = Pipeline([\n",
    "    ('transformer', CountVectorizer()),\n",
    "    ('model', RandomForestClassifier(random_state=SEED)),\n",
    "])"
   ]
  },
  {
   "cell_type": "code",
   "execution_count": 54,
   "id": "9a066e87-3dcd-419b-bc2e-aa80a8504da4",
   "metadata": {},
   "outputs": [
    {
     "name": "stdout",
     "output_type": "stream",
     "text": [
      "RandomForestClassifier metrics on training data:\n",
      "Accuracy: 1.0\n",
      "Precision: 1.0\n",
      "Recall: 1.0\n",
      "F1-score: 1.0\n",
      "ROC-AUC: 1.0\n",
      "\n",
      "RandomForestClassifier metrics on validation data:\n",
      "Accuracy: 0.855\n",
      "Precision: 0.862\n",
      "Recall: 0.851\n",
      "F1-score: 0.856\n",
      "ROC-AUC: 0.931\n",
      "\n",
      "Classification report and confusion matrix for the validation data:\n",
      "              precision    recall  f1-score   support\n",
      "\n",
      "    negative       0.85      0.86      0.85      4937\n",
      "    positive       0.86      0.85      0.86      5063\n",
      "\n",
      "    accuracy                           0.86     10000\n",
      "   macro avg       0.86      0.86      0.86     10000\n",
      "weighted avg       0.86      0.86      0.86     10000\n",
      "\n"
     ]
    },
    {
     "data": {
      "image/png": "[encoded data removed]",
      "text/plain": [
       "<Figure size 432x288 with 2 Axes>"
      ]
     },
     "metadata": {
      "needs_background": "light"
     },
     "output_type": "display_data"
    }
   ],
   "source": [
    "pipeline_cv_rf, train_score, val_score = train_pipeline(pipeline_cv_rf, X_train, y_train, X_val, y_val)"
   ]
  },
  {
   "cell_type": "code",
   "execution_count": 55,
   "id": "cd1eefc7-4439-498f-97a3-e3a3029dccd4",
   "metadata": {},
   "outputs": [],
   "source": [
    "scores_df = scores_df.append([train_score, val_score], ignore_index=True)"
   ]
  },
  {
   "cell_type": "code",
   "execution_count": 56,
   "id": "af0717a9-3654-485c-82c0-c4010aefe8cb",
   "metadata": {},
   "outputs": [],
   "source": [
    "pipeline_tfidf_rf = Pipeline([\n",
    "    ('transformer', TfidfVectorizer()),\n",
    "    ('model', RandomForestClassifier(random_state=SEED)),\n",
    "])"
   ]
  },
  {
   "cell_type": "code",
   "execution_count": 57,
   "id": "f9320072-dbb7-4256-bc5d-1e450671b742",
   "metadata": {},
   "outputs": [
    {
     "name": "stdout",
     "output_type": "stream",
     "text": [
      "RandomForestClassifier metrics on training data:\n",
      "Accuracy: 1.0\n",
      "Precision: 1.0\n",
      "Recall: 1.0\n",
      "F1-score: 1.0\n",
      "ROC-AUC: 1.0\n",
      "\n",
      "RandomForestClassifier metrics on validation data:\n",
      "Accuracy: 0.855\n",
      "Precision: 0.865\n",
      "Recall: 0.845\n",
      "F1-score: 0.855\n",
      "ROC-AUC: 0.93\n",
      "\n",
      "Classification report and confusion matrix for the validation data:\n",
      "              precision    recall  f1-score   support\n",
      "\n",
      "    negative       0.84      0.86      0.85      4937\n",
      "    positive       0.86      0.84      0.85      5063\n",
      "\n",
      "    accuracy                           0.85     10000\n",
      "   macro avg       0.85      0.85      0.85     10000\n",
      "weighted avg       0.85      0.85      0.85     10000\n",
      "\n"
     ]
    },
    {
     "data": {
      "image/png": "[encoded data removed]",
      "text/plain": [
       "<Figure size 432x288 with 2 Axes>"
      ]
     },
     "metadata": {
      "needs_background": "light"
     },
     "output_type": "display_data"
    }
   ],
   "source": [
    "pipeline_tfidf_rf, train_score, val_score = train_pipeline(pipeline_tfidf_rf, X_train, y_train, X_val, y_val)"
   ]
  },
  {
   "cell_type": "code",
   "execution_count": 58,
   "id": "9e0858be-f0a0-4eb6-bd1f-45c6b7be14ee",
   "metadata": {},
   "outputs": [],
   "source": [
    "scores_df = scores_df.append([train_score, val_score], ignore_index=True)"
   ]
  },
  {
   "cell_type": "code",
   "execution_count": 59,
   "id": "64fa1b25-dbd5-4403-a934-8abf88bedf64",
   "metadata": {},
   "outputs": [
    {
     "data": {
      "text/html": [
       "<div>\n",
       "<style scoped>\n",
       "    .dataframe tbody tr th:only-of-type {\n",
       "        vertical-align: middle;\n",
       "    }\n",
       "\n",
       "    .dataframe tbody tr th {\n",
       "        vertical-align: top;\n",
       "    }\n",
       "\n",
       "    .dataframe thead th {\n",
       "        text-align: right;\n",
       "    }\n",
       "</style>\n",
       "<table border=\"1\" class=\"dataframe\">\n",
       "  <thead>\n",
       "    <tr style=\"text-align: right;\">\n",
       "      <th></th>\n",
       "      <th>accuracy</th>\n",
       "      <th>precision</th>\n",
       "      <th>recall</th>\n",
       "      <th>f1_score</th>\n",
       "      <th>ROC_AUC</th>\n",
       "    </tr>\n",
       "    <tr>\n",
       "      <th>model</th>\n",
       "      <th></th>\n",
       "      <th></th>\n",
       "      <th></th>\n",
       "      <th></th>\n",
       "      <th></th>\n",
       "    </tr>\n",
       "  </thead>\n",
       "  <tbody>\n",
       "    <tr>\n",
       "      <th>CountVect_LogisticRegression_train</th>\n",
       "      <td>0.997</td>\n",
       "      <td>0.997</td>\n",
       "      <td>0.997</td>\n",
       "      <td>0.997</td>\n",
       "      <td>1.000</td>\n",
       "    </tr>\n",
       "    <tr>\n",
       "      <th>CountVect_LogisticRegression_val</th>\n",
       "      <td>0.877</td>\n",
       "      <td>0.881</td>\n",
       "      <td>0.876</td>\n",
       "      <td>0.879</td>\n",
       "      <td>0.945</td>\n",
       "    </tr>\n",
       "    <tr>\n",
       "      <th>TfidfVect_LogisticRegression_train</th>\n",
       "      <td>0.934</td>\n",
       "      <td>0.926</td>\n",
       "      <td>0.943</td>\n",
       "      <td>0.934</td>\n",
       "      <td>0.982</td>\n",
       "    </tr>\n",
       "    <tr>\n",
       "      <th>TfidfVect_LogisticRegression_val</th>\n",
       "      <td>0.890</td>\n",
       "      <td>0.890</td>\n",
       "      <td>0.894</td>\n",
       "      <td>0.892</td>\n",
       "      <td>0.958</td>\n",
       "    </tr>\n",
       "    <tr>\n",
       "      <th>TfidfVect_LogisticRegression_tuned_train</th>\n",
       "      <td>1.000</td>\n",
       "      <td>1.000</td>\n",
       "      <td>1.000</td>\n",
       "      <td>1.000</td>\n",
       "      <td>1.000</td>\n",
       "    </tr>\n",
       "    <tr>\n",
       "      <th>TfidfVect_LogisticRegression_tuned_val</th>\n",
       "      <td>0.896</td>\n",
       "      <td>0.898</td>\n",
       "      <td>0.897</td>\n",
       "      <td>0.898</td>\n",
       "      <td>0.956</td>\n",
       "    </tr>\n",
       "    <tr>\n",
       "      <th>CountVectorizer_RandomForestClassifier_train</th>\n",
       "      <td>1.000</td>\n",
       "      <td>1.000</td>\n",
       "      <td>1.000</td>\n",
       "      <td>1.000</td>\n",
       "      <td>1.000</td>\n",
       "    </tr>\n",
       "    <tr>\n",
       "      <th>CountVectorizer_RandomForestClassifier_val</th>\n",
       "      <td>0.855</td>\n",
       "      <td>0.862</td>\n",
       "      <td>0.851</td>\n",
       "      <td>0.856</td>\n",
       "      <td>0.931</td>\n",
       "    </tr>\n",
       "    <tr>\n",
       "      <th>TfidfVectorizer_RandomForestClassifier_train</th>\n",
       "      <td>1.000</td>\n",
       "      <td>1.000</td>\n",
       "      <td>1.000</td>\n",
       "      <td>1.000</td>\n",
       "      <td>1.000</td>\n",
       "    </tr>\n",
       "    <tr>\n",
       "      <th>TfidfVectorizer_RandomForestClassifier_val</th>\n",
       "      <td>0.855</td>\n",
       "      <td>0.865</td>\n",
       "      <td>0.845</td>\n",
       "      <td>0.855</td>\n",
       "      <td>0.930</td>\n",
       "    </tr>\n",
       "  </tbody>\n",
       "</table>\n",
       "</div>"
      ],
      "text/plain": [
       "                                              accuracy  precision  recall  \\\n",
       "model                                                                       \n",
       "CountVect_LogisticRegression_train               0.997      0.997   0.997   \n",
       "CountVect_LogisticRegression_val                 0.877      0.881   0.876   \n",
       "TfidfVect_LogisticRegression_train               0.934      0.926   0.943   \n",
       "TfidfVect_LogisticRegression_val                 0.890      0.890   0.894   \n",
       "TfidfVect_LogisticRegression_tuned_train         1.000      1.000   1.000   \n",
       "TfidfVect_LogisticRegression_tuned_val           0.896      0.898   0.897   \n",
       "CountVectorizer_RandomForestClassifier_train     1.000      1.000   1.000   \n",
       "CountVectorizer_RandomForestClassifier_val       0.855      0.862   0.851   \n",
       "TfidfVectorizer_RandomForestClassifier_train     1.000      1.000   1.000   \n",
       "TfidfVectorizer_RandomForestClassifier_val       0.855      0.865   0.845   \n",
       "\n",
       "                                              f1_score  ROC_AUC  \n",
       "model                                                            \n",
       "CountVect_LogisticRegression_train               0.997    1.000  \n",
       "CountVect_LogisticRegression_val                 0.879    0.945  \n",
       "TfidfVect_LogisticRegression_train               0.934    0.982  \n",
       "TfidfVect_LogisticRegression_val                 0.892    0.958  \n",
       "TfidfVect_LogisticRegression_tuned_train         1.000    1.000  \n",
       "TfidfVect_LogisticRegression_tuned_val           0.898    0.956  \n",
       "CountVectorizer_RandomForestClassifier_train     1.000    1.000  \n",
       "CountVectorizer_RandomForestClassifier_val       0.856    0.931  \n",
       "TfidfVectorizer_RandomForestClassifier_train     1.000    1.000  \n",
       "TfidfVectorizer_RandomForestClassifier_val       0.855    0.930  "
      ]
     },
     "execution_count": 59,
     "metadata": {},
     "output_type": "execute_result"
    }
   ],
   "source": [
    "scores_df.set_index('model')"
   ]
  },
  {
   "cell_type": "markdown",
   "id": "59d62d62-be3d-4f9d-be4b-31e313db2605",
   "metadata": {},
   "source": [
    "The results we got 'out of the box' for the validation part are worse than for Logistic regression. But at the same time all metrics on the training dataset look perfect. Our model overfitted, because we didn't make any changes with it's params (like `max_depth`, `n_estimators` etc.). We can set up these params manually or we can use RandomizedSearchCV method like in previous case.\n",
    "\n",
    "Also I would like to mention that results we had with RandomForest model after CountVectorizer and TfidfVectorizer are almost the same. And I consider there is no need to tune both pipelines. It will be enough to take one of them, e.g. pipeline with TfidfVectorizer, and tune it using the full train dataset."
   ]
  },
  {
   "cell_type": "code",
   "execution_count": 60,
   "id": "06829b9d-bed6-49c1-a31c-d8c17df3ec85",
   "metadata": {},
   "outputs": [],
   "source": [
    "pipeline_rf = Pipeline([\n",
    "    ('transformer', TfidfVectorizer()),\n",
    "    ('model', RandomForestClassifier(random_state=SEED)),\n",
    "])"
   ]
  },
  {
   "cell_type": "code",
   "execution_count": 61,
   "id": "ff89f456-23f8-4159-b1b2-1a7c459e156c",
   "metadata": {},
   "outputs": [],
   "source": [
    "parameters = {\n",
    "    'transformer__max_df': (0.75, 1),\n",
    "    'transformer__max_features': (50000, None),\n",
    "    'transformer__ngram_range': [(1, 2)],\n",
    "    'model__n_estimators': (10, 50, 100, 200, 500),\n",
    "    'model__max_depth': (5, 10, 20, 50),\n",
    "}"
   ]
  },
  {
   "cell_type": "code",
   "execution_count": 62,
   "id": "020eaf76-2aef-4c0d-933a-9ad4cd899e2d",
   "metadata": {},
   "outputs": [],
   "source": [
    "skf = StratifiedKFold(n_splits=3, shuffle=True, random_state=SEED)\n",
    "random_search = RandomizedSearchCV(pipeline_rf, parameters, n_jobs=8, n_iter=50, verbose=True, cv=skf)"
   ]
  },
  {
   "cell_type": "code",
   "execution_count": 63,
   "id": "c84de8b9-5dc9-4689-94e3-3d870b65cf13",
   "metadata": {},
   "outputs": [
    {
     "name": "stdout",
     "output_type": "stream",
     "text": [
      "Fitting 3 folds for each of 50 candidates, totalling 150 fits\n",
      "Wall time: 42min 44s\n"
     ]
    },
    {
     "data": {
      "text/plain": [
       "RandomizedSearchCV(cv=StratifiedKFold(n_splits=3, random_state=42, shuffle=True),\n",
       "                   estimator=Pipeline(steps=[('transformer', TfidfVectorizer()),\n",
       "                                             ('model',\n",
       "                                              RandomForestClassifier(random_state=42))]),\n",
       "                   n_iter=50, n_jobs=8,\n",
       "                   param_distributions={'model__max_depth': (5, 10, 20, 50),\n",
       "                                        'model__n_estimators': (10, 50, 100,\n",
       "                                                                200, 500),\n",
       "                                        'transformer__max_df': (0.75, 1),\n",
       "                                        'transformer__max_features': (50000,\n",
       "                                                                      None),\n",
       "                                        'transformer__ngram_range': [(1, 2)]},\n",
       "                   verbose=True)"
      ]
     },
     "execution_count": 63,
     "metadata": {},
     "output_type": "execute_result"
    }
   ],
   "source": [
    "%%time\n",
    "random_search.fit(X_full_train, y_full_train)"
   ]
  },
  {
   "cell_type": "code",
   "execution_count": 64,
   "id": "6cd1d8af-2cb1-44ca-9fd2-4b98792b8342",
   "metadata": {},
   "outputs": [
    {
     "name": "stdout",
     "output_type": "stream",
     "text": [
      "Best accuracy score: 0.865\n",
      "Best parameters set:\n",
      "\tmodel__max_depth: 50\n",
      "\tmodel__n_estimators: 500\n",
      "\ttransformer__max_df: 0.75\n",
      "\ttransformer__max_features: None\n",
      "\ttransformer__ngram_range: (1, 2)\n"
     ]
    }
   ],
   "source": [
    "print(f'Best accuracy score: {random_search.best_score_:0.3f}')\n",
    "print('Best parameters set:')\n",
    "best_model_rf = random_search.best_estimator_\n",
    "best_parameters = best_model_rf.get_params()\n",
    "for param_name in sorted(parameters.keys()):\n",
    "    print(f'\\t{param_name}: {best_parameters[param_name]}')"
   ]
  },
  {
   "cell_type": "code",
   "execution_count": 65,
   "id": "6f770908-9380-494e-90f1-d08a6209c92b",
   "metadata": {},
   "outputs": [
    {
     "name": "stdout",
     "output_type": "stream",
     "text": [
      "RandomForestClassifier metrics on training data:\n",
      "Accuracy: 0.985\n",
      "Precision: 0.976\n",
      "Recall: 0.994\n",
      "F1-score: 0.985\n",
      "ROC-AUC: 0.999\n",
      "\n",
      "RandomForestClassifier metrics on validation data:\n",
      "Accuracy: 0.872\n",
      "Precision: 0.878\n",
      "Recall: 0.867\n",
      "F1-score: 0.873\n",
      "ROC-AUC: 0.944\n",
      "\n",
      "Classification report and confusion matrix for the validation data:\n",
      "              precision    recall  f1-score   support\n",
      "\n",
      "    negative       0.87      0.88      0.87      4937\n",
      "    positive       0.88      0.87      0.87      5063\n",
      "\n",
      "    accuracy                           0.87     10000\n",
      "   macro avg       0.87      0.87      0.87     10000\n",
      "weighted avg       0.87      0.87      0.87     10000\n",
      "\n"
     ]
    },
    {
     "data": {
      "image/png": "[encoded data removed]",
      "text/plain": [
       "<Figure size 432x288 with 2 Axes>"
      ]
     },
     "metadata": {
      "needs_background": "light"
     },
     "output_type": "display_data"
    }
   ],
   "source": [
    "best_model_rf, train_score, val_score = train_pipeline(best_model_rf, X_train, y_train, X_val, y_val)"
   ]
  },
  {
   "cell_type": "code",
   "execution_count": 66,
   "id": "2f9de67e-a5a4-43bd-b745-9a8978776fab",
   "metadata": {},
   "outputs": [],
   "source": [
    "train_score['model'] = 'TfidfVectorizer_RandomForestClassifier_tuned_train'\n",
    "val_score['model'] = 'TfidfVectorizer_RandomForestClassifier_tuned_val'\n",
    "scores_df = scores_df.append([train_score, val_score], ignore_index=True)"
   ]
  },
  {
   "cell_type": "code",
   "execution_count": 67,
   "id": "c8ae69f8-23d7-4f60-a3fe-b9ba3d39817a",
   "metadata": {},
   "outputs": [
    {
     "data": {
      "text/html": [
       "<div>\n",
       "<style scoped>\n",
       "    .dataframe tbody tr th:only-of-type {\n",
       "        vertical-align: middle;\n",
       "    }\n",
       "\n",
       "    .dataframe tbody tr th {\n",
       "        vertical-align: top;\n",
       "    }\n",
       "\n",
       "    .dataframe thead th {\n",
       "        text-align: right;\n",
       "    }\n",
       "</style>\n",
       "<table border=\"1\" class=\"dataframe\">\n",
       "  <thead>\n",
       "    <tr style=\"text-align: right;\">\n",
       "      <th></th>\n",
       "      <th>accuracy</th>\n",
       "      <th>precision</th>\n",
       "      <th>recall</th>\n",
       "      <th>f1_score</th>\n",
       "      <th>ROC_AUC</th>\n",
       "    </tr>\n",
       "    <tr>\n",
       "      <th>model</th>\n",
       "      <th></th>\n",
       "      <th></th>\n",
       "      <th></th>\n",
       "      <th></th>\n",
       "      <th></th>\n",
       "    </tr>\n",
       "  </thead>\n",
       "  <tbody>\n",
       "    <tr>\n",
       "      <th>CountVect_LogisticRegression_train</th>\n",
       "      <td>0.997</td>\n",
       "      <td>0.997</td>\n",
       "      <td>0.997</td>\n",
       "      <td>0.997</td>\n",
       "      <td>1.000</td>\n",
       "    </tr>\n",
       "    <tr>\n",
       "      <th>CountVect_LogisticRegression_val</th>\n",
       "      <td>0.877</td>\n",
       "      <td>0.881</td>\n",
       "      <td>0.876</td>\n",
       "      <td>0.879</td>\n",
       "      <td>0.945</td>\n",
       "    </tr>\n",
       "    <tr>\n",
       "      <th>TfidfVect_LogisticRegression_train</th>\n",
       "      <td>0.934</td>\n",
       "      <td>0.926</td>\n",
       "      <td>0.943</td>\n",
       "      <td>0.934</td>\n",
       "      <td>0.982</td>\n",
       "    </tr>\n",
       "    <tr>\n",
       "      <th>TfidfVect_LogisticRegression_val</th>\n",
       "      <td>0.890</td>\n",
       "      <td>0.890</td>\n",
       "      <td>0.894</td>\n",
       "      <td>0.892</td>\n",
       "      <td>0.958</td>\n",
       "    </tr>\n",
       "    <tr>\n",
       "      <th>TfidfVect_LogisticRegression_tuned_train</th>\n",
       "      <td>1.000</td>\n",
       "      <td>1.000</td>\n",
       "      <td>1.000</td>\n",
       "      <td>1.000</td>\n",
       "      <td>1.000</td>\n",
       "    </tr>\n",
       "    <tr>\n",
       "      <th>TfidfVect_LogisticRegression_tuned_val</th>\n",
       "      <td>0.896</td>\n",
       "      <td>0.898</td>\n",
       "      <td>0.897</td>\n",
       "      <td>0.898</td>\n",
       "      <td>0.956</td>\n",
       "    </tr>\n",
       "    <tr>\n",
       "      <th>CountVectorizer_RandomForestClassifier_train</th>\n",
       "      <td>1.000</td>\n",
       "      <td>1.000</td>\n",
       "      <td>1.000</td>\n",
       "      <td>1.000</td>\n",
       "      <td>1.000</td>\n",
       "    </tr>\n",
       "    <tr>\n",
       "      <th>CountVectorizer_RandomForestClassifier_val</th>\n",
       "      <td>0.855</td>\n",
       "      <td>0.862</td>\n",
       "      <td>0.851</td>\n",
       "      <td>0.856</td>\n",
       "      <td>0.931</td>\n",
       "    </tr>\n",
       "    <tr>\n",
       "      <th>TfidfVectorizer_RandomForestClassifier_train</th>\n",
       "      <td>1.000</td>\n",
       "      <td>1.000</td>\n",
       "      <td>1.000</td>\n",
       "      <td>1.000</td>\n",
       "      <td>1.000</td>\n",
       "    </tr>\n",
       "    <tr>\n",
       "      <th>TfidfVectorizer_RandomForestClassifier_val</th>\n",
       "      <td>0.855</td>\n",
       "      <td>0.865</td>\n",
       "      <td>0.845</td>\n",
       "      <td>0.855</td>\n",
       "      <td>0.930</td>\n",
       "    </tr>\n",
       "    <tr>\n",
       "      <th>TfidfVectorizer_RandomForestClassifier_tuned_train</th>\n",
       "      <td>0.985</td>\n",
       "      <td>0.976</td>\n",
       "      <td>0.994</td>\n",
       "      <td>0.985</td>\n",
       "      <td>0.999</td>\n",
       "    </tr>\n",
       "    <tr>\n",
       "      <th>TfidfVectorizer_RandomForestClassifier_tuned_val</th>\n",
       "      <td>0.872</td>\n",
       "      <td>0.878</td>\n",
       "      <td>0.867</td>\n",
       "      <td>0.873</td>\n",
       "      <td>0.944</td>\n",
       "    </tr>\n",
       "  </tbody>\n",
       "</table>\n",
       "</div>"
      ],
      "text/plain": [
       "                                                    accuracy  precision  \\\n",
       "model                                                                     \n",
       "CountVect_LogisticRegression_train                     0.997      0.997   \n",
       "CountVect_LogisticRegression_val                       0.877      0.881   \n",
       "TfidfVect_LogisticRegression_train                     0.934      0.926   \n",
       "TfidfVect_LogisticRegression_val                       0.890      0.890   \n",
       "TfidfVect_LogisticRegression_tuned_train               1.000      1.000   \n",
       "TfidfVect_LogisticRegression_tuned_val                 0.896      0.898   \n",
       "CountVectorizer_RandomForestClassifier_train           1.000      1.000   \n",
       "CountVectorizer_RandomForestClassifier_val             0.855      0.862   \n",
       "TfidfVectorizer_RandomForestClassifier_train           1.000      1.000   \n",
       "TfidfVectorizer_RandomForestClassifier_val             0.855      0.865   \n",
       "TfidfVectorizer_RandomForestClassifier_tuned_train     0.985      0.976   \n",
       "TfidfVectorizer_RandomForestClassifier_tuned_val       0.872      0.878   \n",
       "\n",
       "                                                    recall  f1_score  ROC_AUC  \n",
       "model                                                                          \n",
       "CountVect_LogisticRegression_train                   0.997     0.997    1.000  \n",
       "CountVect_LogisticRegression_val                     0.876     0.879    0.945  \n",
       "TfidfVect_LogisticRegression_train                   0.943     0.934    0.982  \n",
       "TfidfVect_LogisticRegression_val                     0.894     0.892    0.958  \n",
       "TfidfVect_LogisticRegression_tuned_train             1.000     1.000    1.000  \n",
       "TfidfVect_LogisticRegression_tuned_val               0.897     0.898    0.956  \n",
       "CountVectorizer_RandomForestClassifier_train         1.000     1.000    1.000  \n",
       "CountVectorizer_RandomForestClassifier_val           0.851     0.856    0.931  \n",
       "TfidfVectorizer_RandomForestClassifier_train         1.000     1.000    1.000  \n",
       "TfidfVectorizer_RandomForestClassifier_val           0.845     0.855    0.930  \n",
       "TfidfVectorizer_RandomForestClassifier_tuned_train   0.994     0.985    0.999  \n",
       "TfidfVectorizer_RandomForestClassifier_tuned_val     0.867     0.873    0.944  "
      ]
     },
     "execution_count": 67,
     "metadata": {},
     "output_type": "execute_result"
    }
   ],
   "source": [
    "scores_df.set_index('model')"
   ]
  },
  {
   "cell_type": "markdown",
   "id": "ccb4e500-ea09-44f1-a602-2109b4d6abcb",
   "metadata": {},
   "source": [
    "You can see that after parameters tuning, all the metrics have been boosted up, but they still behind the results we achieved with Logistic Regression."
   ]
  },
  {
   "cell_type": "markdown",
   "id": "43e564be-a6e6-4528-9159-ce64656670db",
   "metadata": {},
   "source": [
    "### 1.3. Linear Support Vector Classification"
   ]
  },
  {
   "cell_type": "markdown",
   "id": "313d0f44-b54b-49a4-be6a-dea6ef53261a",
   "metadata": {},
   "source": [
    "And the last model we are going to try is Linear Support Vector Classification."
   ]
  },
  {
   "cell_type": "code",
   "execution_count": 68,
   "id": "e960eb8e-0e9b-4a10-900a-25dc2dbaa7ab",
   "metadata": {},
   "outputs": [],
   "source": [
    "pipeline_cv_svc = Pipeline([\n",
    "    ('transformer', CountVectorizer()),\n",
    "    ('model', LinearSVC(random_state=SEED)),\n",
    "])"
   ]
  },
  {
   "cell_type": "code",
   "execution_count": 69,
   "id": "2a768dfd-6e67-4245-a552-f265a88aa712",
   "metadata": {},
   "outputs": [
    {
     "name": "stdout",
     "output_type": "stream",
     "text": [
      "LinearSVC metrics on training data:\n",
      "Accuracy: 1.0\n",
      "Precision: 1.0\n",
      "Recall: 1.0\n",
      "F1-score: 1.0\n",
      "ROC-AUC: None\n",
      "\n",
      "LinearSVC metrics on validation data:\n",
      "Accuracy: 0.861\n",
      "Precision: 0.867\n",
      "Recall: 0.858\n",
      "F1-score: 0.862\n",
      "ROC-AUC: None\n",
      "\n",
      "Classification report and confusion matrix for the validation data:\n",
      "              precision    recall  f1-score   support\n",
      "\n",
      "    negative       0.86      0.86      0.86      4937\n",
      "    positive       0.87      0.86      0.86      5063\n",
      "\n",
      "    accuracy                           0.86     10000\n",
      "   macro avg       0.86      0.86      0.86     10000\n",
      "weighted avg       0.86      0.86      0.86     10000\n",
      "\n"
     ]
    },
    {
     "data": {
      "image/png": "[encoded data removed]",
      "text/plain": [
       "<Figure size 432x288 with 2 Axes>"
      ]
     },
     "metadata": {
      "needs_background": "light"
     },
     "output_type": "display_data"
    }
   ],
   "source": [
    "pipeline_cv_svc, train_score, val_score = train_pipeline(pipeline_cv_svc, X_train, y_train, X_val, y_val)"
   ]
  },
  {
   "cell_type": "code",
   "execution_count": 70,
   "id": "1724978c-7656-4af3-b2d5-44029e3e339e",
   "metadata": {},
   "outputs": [],
   "source": [
    "scores_df = scores_df.append([train_score, val_score], ignore_index=True)"
   ]
  },
  {
   "cell_type": "code",
   "execution_count": 71,
   "id": "94c6ae4b-aa8b-416a-ba43-0211b4649eb6",
   "metadata": {},
   "outputs": [],
   "source": [
    "pipeline_tfidf_svc = Pipeline([\n",
    "    ('transformer', TfidfVectorizer()),\n",
    "    ('model', LinearSVC(random_state=SEED)),\n",
    "])"
   ]
  },
  {
   "cell_type": "code",
   "execution_count": 72,
   "id": "2cd47af7-a3b9-4f9c-8107-5b0d61e80921",
   "metadata": {},
   "outputs": [
    {
     "name": "stdout",
     "output_type": "stream",
     "text": [
      "LinearSVC metrics on training data:\n",
      "Accuracy: 0.991\n",
      "Precision: 0.991\n",
      "Recall: 0.991\n",
      "F1-score: 0.991\n",
      "ROC-AUC: None\n",
      "\n",
      "LinearSVC metrics on validation data:\n",
      "Accuracy: 0.889\n",
      "Precision: 0.892\n",
      "Recall: 0.888\n",
      "F1-score: 0.89\n",
      "ROC-AUC: None\n",
      "\n",
      "Classification report and confusion matrix for the validation data:\n",
      "              precision    recall  f1-score   support\n",
      "\n",
      "    negative       0.89      0.89      0.89      4937\n",
      "    positive       0.89      0.89      0.89      5063\n",
      "\n",
      "    accuracy                           0.89     10000\n",
      "   macro avg       0.89      0.89      0.89     10000\n",
      "weighted avg       0.89      0.89      0.89     10000\n",
      "\n"
     ]
    },
    {
     "data": {
      "image/png": "[encoded data removed]",
      "text/plain": [
       "<Figure size 432x288 with 2 Axes>"
      ]
     },
     "metadata": {
      "needs_background": "light"
     },
     "output_type": "display_data"
    }
   ],
   "source": [
    "pipeline_tfidf_svc, train_score, val_score = train_pipeline(pipeline_tfidf_svc, X_train, y_train, X_val, y_val)"
   ]
  },
  {
   "cell_type": "code",
   "execution_count": 73,
   "id": "38a6495b-36f6-44d9-a9fc-cba62d4a5e0f",
   "metadata": {},
   "outputs": [],
   "source": [
    "scores_df = scores_df.append([train_score, val_score], ignore_index=True)"
   ]
  },
  {
   "cell_type": "code",
   "execution_count": 74,
   "id": "d8f633fc-902d-49cc-8562-132bc03d347e",
   "metadata": {},
   "outputs": [
    {
     "data": {
      "text/html": [
       "<div>\n",
       "<style scoped>\n",
       "    .dataframe tbody tr th:only-of-type {\n",
       "        vertical-align: middle;\n",
       "    }\n",
       "\n",
       "    .dataframe tbody tr th {\n",
       "        vertical-align: top;\n",
       "    }\n",
       "\n",
       "    .dataframe thead th {\n",
       "        text-align: right;\n",
       "    }\n",
       "</style>\n",
       "<table border=\"1\" class=\"dataframe\">\n",
       "  <thead>\n",
       "    <tr style=\"text-align: right;\">\n",
       "      <th></th>\n",
       "      <th>accuracy</th>\n",
       "      <th>precision</th>\n",
       "      <th>recall</th>\n",
       "      <th>f1_score</th>\n",
       "      <th>ROC_AUC</th>\n",
       "    </tr>\n",
       "    <tr>\n",
       "      <th>model</th>\n",
       "      <th></th>\n",
       "      <th></th>\n",
       "      <th></th>\n",
       "      <th></th>\n",
       "      <th></th>\n",
       "    </tr>\n",
       "  </thead>\n",
       "  <tbody>\n",
       "    <tr>\n",
       "      <th>CountVectorizer_LinearSVC_train</th>\n",
       "      <td>1.000</td>\n",
       "      <td>1.000</td>\n",
       "      <td>1.000</td>\n",
       "      <td>1.000</td>\n",
       "      <td>None</td>\n",
       "    </tr>\n",
       "    <tr>\n",
       "      <th>CountVectorizer_LinearSVC_val</th>\n",
       "      <td>0.861</td>\n",
       "      <td>0.867</td>\n",
       "      <td>0.858</td>\n",
       "      <td>0.862</td>\n",
       "      <td>None</td>\n",
       "    </tr>\n",
       "    <tr>\n",
       "      <th>TfidfVectorizer_LinearSVC_train</th>\n",
       "      <td>0.991</td>\n",
       "      <td>0.991</td>\n",
       "      <td>0.991</td>\n",
       "      <td>0.991</td>\n",
       "      <td>None</td>\n",
       "    </tr>\n",
       "    <tr>\n",
       "      <th>TfidfVectorizer_LinearSVC_val</th>\n",
       "      <td>0.889</td>\n",
       "      <td>0.892</td>\n",
       "      <td>0.888</td>\n",
       "      <td>0.890</td>\n",
       "      <td>None</td>\n",
       "    </tr>\n",
       "  </tbody>\n",
       "</table>\n",
       "</div>"
      ],
      "text/plain": [
       "                                 accuracy  precision  recall  f1_score ROC_AUC\n",
       "model                                                                         \n",
       "CountVectorizer_LinearSVC_train     1.000      1.000   1.000     1.000    None\n",
       "CountVectorizer_LinearSVC_val       0.861      0.867   0.858     0.862    None\n",
       "TfidfVectorizer_LinearSVC_train     0.991      0.991   0.991     0.991    None\n",
       "TfidfVectorizer_LinearSVC_val       0.889      0.892   0.888     0.890    None"
      ]
     },
     "execution_count": 74,
     "metadata": {},
     "output_type": "execute_result"
    }
   ],
   "source": [
    "scores_df.set_index('model').tail(4)"
   ]
  },
  {
   "cell_type": "markdown",
   "id": "fc3686a5-5dd7-4d41-86f0-303ebe1d4de1",
   "metadata": {},
   "source": [
    "Pipeline(TfidfVectorizer, LinearSVC) 'out of the box' give us rather good results. It is reasonable to continue parameters tuning of this particular pipeline. So, let's do it."
   ]
  },
  {
   "cell_type": "code",
   "execution_count": 75,
   "id": "20f69f0f-ce70-44fb-812a-5b0e0cf6638b",
   "metadata": {},
   "outputs": [],
   "source": [
    "pipeline_svc = Pipeline([\n",
    "    ('transformer', TfidfVectorizer()),\n",
    "    ('model', LinearSVC(random_state=SEED)),\n",
    "])"
   ]
  },
  {
   "cell_type": "code",
   "execution_count": 76,
   "id": "8216086d-76b5-49b5-9b7d-4b9e6f26cc7e",
   "metadata": {},
   "outputs": [],
   "source": [
    "parameters = {\n",
    "    'transformer__max_df': (0.5, 0.75, 1.0),\n",
    "    'transformer__max_features': (None, 50000),\n",
    "    'transformer__ngram_range': ((1, 1), (1, 2), (1, 3)),\n",
    "    'model__C': (0.1, 1, 10),\n",
    "}"
   ]
  },
  {
   "cell_type": "code",
   "execution_count": 77,
   "id": "bd644219-0acc-4ed9-bb62-035d92dca9b4",
   "metadata": {},
   "outputs": [],
   "source": [
    "skf = StratifiedKFold(n_splits=3, shuffle=True, random_state=SEED)\n",
    "random_search = RandomizedSearchCV(pipeline_svc, parameters, n_jobs=8, n_iter=50, verbose=True, cv=skf)"
   ]
  },
  {
   "cell_type": "code",
   "execution_count": 78,
   "id": "ff8427be-cbd5-41d7-90d8-05bd6149c7cc",
   "metadata": {},
   "outputs": [
    {
     "name": "stdout",
     "output_type": "stream",
     "text": [
      "Fitting 3 folds for each of 50 candidates, totalling 150 fits\n",
      "Wall time: 24min 4s\n"
     ]
    },
    {
     "data": {
      "text/plain": [
       "RandomizedSearchCV(cv=StratifiedKFold(n_splits=3, random_state=42, shuffle=True),\n",
       "                   estimator=Pipeline(steps=[('transformer', TfidfVectorizer()),\n",
       "                                             ('model',\n",
       "                                              LinearSVC(random_state=42))]),\n",
       "                   n_iter=50, n_jobs=8,\n",
       "                   param_distributions={'model__C': (0.1, 1, 10),\n",
       "                                        'transformer__max_df': (0.5, 0.75, 1.0),\n",
       "                                        'transformer__max_features': (None,\n",
       "                                                                      50000),\n",
       "                                        'transformer__ngram_range': ((1, 1),\n",
       "                                                                     (1, 2),\n",
       "                                                                     (1, 3))},\n",
       "                   verbose=True)"
      ]
     },
     "execution_count": 78,
     "metadata": {},
     "output_type": "execute_result"
    }
   ],
   "source": [
    "%%time\n",
    "random_search.fit(X_full_train, y_full_train)"
   ]
  },
  {
   "cell_type": "code",
   "execution_count": 79,
   "id": "48621a7e-f420-4f27-8a6c-d300624bd43d",
   "metadata": {},
   "outputs": [
    {
     "name": "stdout",
     "output_type": "stream",
     "text": [
      "Best accuracy score: 0.903\n",
      "Best parameters set:\n",
      "\tmodel__C: 10\n",
      "\ttransformer__max_df: 0.5\n",
      "\ttransformer__max_features: None\n",
      "\ttransformer__ngram_range: (1, 2)\n"
     ]
    }
   ],
   "source": [
    "print(f'Best accuracy score: {random_search.best_score_:0.3f}')\n",
    "print('Best parameters set:')\n",
    "best_model_svc = random_search.best_estimator_\n",
    "best_parameters = best_model_svc.get_params()\n",
    "for param_name in sorted(parameters.keys()):\n",
    "    print(f'\\t{param_name}: {best_parameters[param_name]}')"
   ]
  },
  {
   "cell_type": "markdown",
   "id": "5aa33be5-53a2-44e1-a99f-8ddad5622837",
   "metadata": {},
   "source": [
    "Now we take the model with the best params to train it and calculate remaining metrics."
   ]
  },
  {
   "cell_type": "code",
   "execution_count": 80,
   "id": "6e2fefa6-6a2f-48e2-bcf3-8cce2b70f16b",
   "metadata": {},
   "outputs": [
    {
     "name": "stdout",
     "output_type": "stream",
     "text": [
      "LinearSVC metrics on training data:\n",
      "Accuracy: 1.0\n",
      "Precision: 1.0\n",
      "Recall: 1.0\n",
      "F1-score: 1.0\n",
      "ROC-AUC: None\n",
      "\n",
      "LinearSVC metrics on validation data:\n",
      "Accuracy: 0.903\n",
      "Precision: 0.902\n",
      "Recall: 0.908\n",
      "F1-score: 0.905\n",
      "ROC-AUC: None\n",
      "\n",
      "Classification report and confusion matrix for the validation data:\n",
      "              precision    recall  f1-score   support\n",
      "\n",
      "    negative       0.91      0.90      0.90      4937\n",
      "    positive       0.90      0.91      0.90      5063\n",
      "\n",
      "    accuracy                           0.90     10000\n",
      "   macro avg       0.90      0.90      0.90     10000\n",
      "weighted avg       0.90      0.90      0.90     10000\n",
      "\n"
     ]
    },
    {
     "data": {
      "image/png": "[encoded data removed]",
      "text/plain": [
       "<Figure size 432x288 with 2 Axes>"
      ]
     },
     "metadata": {
      "needs_background": "light"
     },
     "output_type": "display_data"
    }
   ],
   "source": [
    "best_model_svc, train_score, val_score = train_pipeline(best_model_svc, X_train, y_train, X_val, y_val)"
   ]
  },
  {
   "cell_type": "code",
   "execution_count": 81,
   "id": "58cd1a9d-9412-449e-a28e-909cf8c5df31",
   "metadata": {},
   "outputs": [],
   "source": [
    "train_score['model'] = 'TfidfVectorizer_LinearSVC_tuned_train'\n",
    "val_score['model'] = 'TfidfVectorizer_LinearSVC_tuned_val'\n",
    "scores_df = scores_df.append([train_score, val_score], ignore_index=True)"
   ]
  },
  {
   "cell_type": "markdown",
   "id": "1c38e656-c745-4f23-a61d-be3eba0914f3",
   "metadata": {},
   "source": [
    "And here is what we got."
   ]
  },
  {
   "cell_type": "code",
   "execution_count": 82,
   "id": "d53a580d-d5db-4ba2-9692-e57fec680a29",
   "metadata": {},
   "outputs": [
    {
     "data": {
      "text/html": [
       "<div>\n",
       "<style scoped>\n",
       "    .dataframe tbody tr th:only-of-type {\n",
       "        vertical-align: middle;\n",
       "    }\n",
       "\n",
       "    .dataframe tbody tr th {\n",
       "        vertical-align: top;\n",
       "    }\n",
       "\n",
       "    .dataframe thead th {\n",
       "        text-align: right;\n",
       "    }\n",
       "</style>\n",
       "<table border=\"1\" class=\"dataframe\">\n",
       "  <thead>\n",
       "    <tr style=\"text-align: right;\">\n",
       "      <th></th>\n",
       "      <th>accuracy</th>\n",
       "      <th>precision</th>\n",
       "      <th>recall</th>\n",
       "      <th>f1_score</th>\n",
       "      <th>ROC_AUC</th>\n",
       "    </tr>\n",
       "    <tr>\n",
       "      <th>model</th>\n",
       "      <th></th>\n",
       "      <th></th>\n",
       "      <th></th>\n",
       "      <th></th>\n",
       "      <th></th>\n",
       "    </tr>\n",
       "  </thead>\n",
       "  <tbody>\n",
       "    <tr>\n",
       "      <th>CountVect_LogisticRegression_train</th>\n",
       "      <td>0.997</td>\n",
       "      <td>0.997</td>\n",
       "      <td>0.997</td>\n",
       "      <td>0.997</td>\n",
       "      <td>1.0</td>\n",
       "    </tr>\n",
       "    <tr>\n",
       "      <th>CountVect_LogisticRegression_val</th>\n",
       "      <td>0.877</td>\n",
       "      <td>0.881</td>\n",
       "      <td>0.876</td>\n",
       "      <td>0.879</td>\n",
       "      <td>0.945</td>\n",
       "    </tr>\n",
       "    <tr>\n",
       "      <th>TfidfVect_LogisticRegression_train</th>\n",
       "      <td>0.934</td>\n",
       "      <td>0.926</td>\n",
       "      <td>0.943</td>\n",
       "      <td>0.934</td>\n",
       "      <td>0.982</td>\n",
       "    </tr>\n",
       "    <tr>\n",
       "      <th>TfidfVect_LogisticRegression_val</th>\n",
       "      <td>0.890</td>\n",
       "      <td>0.890</td>\n",
       "      <td>0.894</td>\n",
       "      <td>0.892</td>\n",
       "      <td>0.958</td>\n",
       "    </tr>\n",
       "    <tr>\n",
       "      <th>TfidfVect_LogisticRegression_tuned_train</th>\n",
       "      <td>1.000</td>\n",
       "      <td>1.000</td>\n",
       "      <td>1.000</td>\n",
       "      <td>1.000</td>\n",
       "      <td>1.0</td>\n",
       "    </tr>\n",
       "    <tr>\n",
       "      <th>TfidfVect_LogisticRegression_tuned_val</th>\n",
       "      <td>0.896</td>\n",
       "      <td>0.898</td>\n",
       "      <td>0.897</td>\n",
       "      <td>0.898</td>\n",
       "      <td>0.956</td>\n",
       "    </tr>\n",
       "    <tr>\n",
       "      <th>CountVectorizer_RandomForestClassifier_train</th>\n",
       "      <td>1.000</td>\n",
       "      <td>1.000</td>\n",
       "      <td>1.000</td>\n",
       "      <td>1.000</td>\n",
       "      <td>1.0</td>\n",
       "    </tr>\n",
       "    <tr>\n",
       "      <th>CountVectorizer_RandomForestClassifier_val</th>\n",
       "      <td>0.855</td>\n",
       "      <td>0.862</td>\n",
       "      <td>0.851</td>\n",
       "      <td>0.856</td>\n",
       "      <td>0.931</td>\n",
       "    </tr>\n",
       "    <tr>\n",
       "      <th>TfidfVectorizer_RandomForestClassifier_train</th>\n",
       "      <td>1.000</td>\n",
       "      <td>1.000</td>\n",
       "      <td>1.000</td>\n",
       "      <td>1.000</td>\n",
       "      <td>1.0</td>\n",
       "    </tr>\n",
       "    <tr>\n",
       "      <th>TfidfVectorizer_RandomForestClassifier_val</th>\n",
       "      <td>0.855</td>\n",
       "      <td>0.865</td>\n",
       "      <td>0.845</td>\n",
       "      <td>0.855</td>\n",
       "      <td>0.93</td>\n",
       "    </tr>\n",
       "    <tr>\n",
       "      <th>TfidfVectorizer_RandomForestClassifier_tuned_train</th>\n",
       "      <td>0.985</td>\n",
       "      <td>0.976</td>\n",
       "      <td>0.994</td>\n",
       "      <td>0.985</td>\n",
       "      <td>0.999</td>\n",
       "    </tr>\n",
       "    <tr>\n",
       "      <th>TfidfVectorizer_RandomForestClassifier_tuned_val</th>\n",
       "      <td>0.872</td>\n",
       "      <td>0.878</td>\n",
       "      <td>0.867</td>\n",
       "      <td>0.873</td>\n",
       "      <td>0.944</td>\n",
       "    </tr>\n",
       "    <tr>\n",
       "      <th>CountVectorizer_LinearSVC_train</th>\n",
       "      <td>1.000</td>\n",
       "      <td>1.000</td>\n",
       "      <td>1.000</td>\n",
       "      <td>1.000</td>\n",
       "      <td>None</td>\n",
       "    </tr>\n",
       "    <tr>\n",
       "      <th>CountVectorizer_LinearSVC_val</th>\n",
       "      <td>0.861</td>\n",
       "      <td>0.867</td>\n",
       "      <td>0.858</td>\n",
       "      <td>0.862</td>\n",
       "      <td>None</td>\n",
       "    </tr>\n",
       "    <tr>\n",
       "      <th>TfidfVectorizer_LinearSVC_train</th>\n",
       "      <td>0.991</td>\n",
       "      <td>0.991</td>\n",
       "      <td>0.991</td>\n",
       "      <td>0.991</td>\n",
       "      <td>None</td>\n",
       "    </tr>\n",
       "    <tr>\n",
       "      <th>TfidfVectorizer_LinearSVC_val</th>\n",
       "      <td>0.889</td>\n",
       "      <td>0.892</td>\n",
       "      <td>0.888</td>\n",
       "      <td>0.890</td>\n",
       "      <td>None</td>\n",
       "    </tr>\n",
       "    <tr>\n",
       "      <th>TfidfVectorizer_LinearSVC_tuned_train</th>\n",
       "      <td>1.000</td>\n",
       "      <td>1.000</td>\n",
       "      <td>1.000</td>\n",
       "      <td>1.000</td>\n",
       "      <td>None</td>\n",
       "    </tr>\n",
       "    <tr>\n",
       "      <th>TfidfVectorizer_LinearSVC_tuned_val</th>\n",
       "      <td>0.903</td>\n",
       "      <td>0.902</td>\n",
       "      <td>0.908</td>\n",
       "      <td>0.905</td>\n",
       "      <td>None</td>\n",
       "    </tr>\n",
       "  </tbody>\n",
       "</table>\n",
       "</div>"
      ],
      "text/plain": [
       "                                                    accuracy  precision  \\\n",
       "model                                                                     \n",
       "CountVect_LogisticRegression_train                     0.997      0.997   \n",
       "CountVect_LogisticRegression_val                       0.877      0.881   \n",
       "TfidfVect_LogisticRegression_train                     0.934      0.926   \n",
       "TfidfVect_LogisticRegression_val                       0.890      0.890   \n",
       "TfidfVect_LogisticRegression_tuned_train               1.000      1.000   \n",
       "TfidfVect_LogisticRegression_tuned_val                 0.896      0.898   \n",
       "CountVectorizer_RandomForestClassifier_train           1.000      1.000   \n",
       "CountVectorizer_RandomForestClassifier_val             0.855      0.862   \n",
       "TfidfVectorizer_RandomForestClassifier_train           1.000      1.000   \n",
       "TfidfVectorizer_RandomForestClassifier_val             0.855      0.865   \n",
       "TfidfVectorizer_RandomForestClassifier_tuned_train     0.985      0.976   \n",
       "TfidfVectorizer_RandomForestClassifier_tuned_val       0.872      0.878   \n",
       "CountVectorizer_LinearSVC_train                        1.000      1.000   \n",
       "CountVectorizer_LinearSVC_val                          0.861      0.867   \n",
       "TfidfVectorizer_LinearSVC_train                        0.991      0.991   \n",
       "TfidfVectorizer_LinearSVC_val                          0.889      0.892   \n",
       "TfidfVectorizer_LinearSVC_tuned_train                  1.000      1.000   \n",
       "TfidfVectorizer_LinearSVC_tuned_val                    0.903      0.902   \n",
       "\n",
       "                                                    recall  f1_score ROC_AUC  \n",
       "model                                                                         \n",
       "CountVect_LogisticRegression_train                   0.997     0.997     1.0  \n",
       "CountVect_LogisticRegression_val                     0.876     0.879   0.945  \n",
       "TfidfVect_LogisticRegression_train                   0.943     0.934   0.982  \n",
       "TfidfVect_LogisticRegression_val                     0.894     0.892   0.958  \n",
       "TfidfVect_LogisticRegression_tuned_train             1.000     1.000     1.0  \n",
       "TfidfVect_LogisticRegression_tuned_val               0.897     0.898   0.956  \n",
       "CountVectorizer_RandomForestClassifier_train         1.000     1.000     1.0  \n",
       "CountVectorizer_RandomForestClassifier_val           0.851     0.856   0.931  \n",
       "TfidfVectorizer_RandomForestClassifier_train         1.000     1.000     1.0  \n",
       "TfidfVectorizer_RandomForestClassifier_val           0.845     0.855    0.93  \n",
       "TfidfVectorizer_RandomForestClassifier_tuned_train   0.994     0.985   0.999  \n",
       "TfidfVectorizer_RandomForestClassifier_tuned_val     0.867     0.873   0.944  \n",
       "CountVectorizer_LinearSVC_train                      1.000     1.000    None  \n",
       "CountVectorizer_LinearSVC_val                        0.858     0.862    None  \n",
       "TfidfVectorizer_LinearSVC_train                      0.991     0.991    None  \n",
       "TfidfVectorizer_LinearSVC_val                        0.888     0.890    None  \n",
       "TfidfVectorizer_LinearSVC_tuned_train                1.000     1.000    None  \n",
       "TfidfVectorizer_LinearSVC_tuned_val                  0.908     0.905    None  "
      ]
     },
     "execution_count": 82,
     "metadata": {},
     "output_type": "execute_result"
    }
   ],
   "source": [
    "scores_df.set_index('model')"
   ]
  },
  {
   "cell_type": "markdown",
   "id": "351a7162-55bd-46b0-9a9b-a7a57ca3c658",
   "metadata": {},
   "source": [
    "Let's look only at the results of the tuned models."
   ]
  },
  {
   "cell_type": "code",
   "execution_count": 83,
   "id": "d1bb9afe-ea66-44e7-b812-df968b140c83",
   "metadata": {},
   "outputs": [
    {
     "data": {
      "text/html": [
       "<div>\n",
       "<style scoped>\n",
       "    .dataframe tbody tr th:only-of-type {\n",
       "        vertical-align: middle;\n",
       "    }\n",
       "\n",
       "    .dataframe tbody tr th {\n",
       "        vertical-align: top;\n",
       "    }\n",
       "\n",
       "    .dataframe thead th {\n",
       "        text-align: right;\n",
       "    }\n",
       "</style>\n",
       "<table border=\"1\" class=\"dataframe\">\n",
       "  <thead>\n",
       "    <tr style=\"text-align: right;\">\n",
       "      <th></th>\n",
       "      <th>accuracy</th>\n",
       "      <th>precision</th>\n",
       "      <th>recall</th>\n",
       "      <th>f1_score</th>\n",
       "      <th>ROC_AUC</th>\n",
       "    </tr>\n",
       "    <tr>\n",
       "      <th>model</th>\n",
       "      <th></th>\n",
       "      <th></th>\n",
       "      <th></th>\n",
       "      <th></th>\n",
       "      <th></th>\n",
       "    </tr>\n",
       "  </thead>\n",
       "  <tbody>\n",
       "    <tr>\n",
       "      <th>TfidfVect_LogisticRegression_tuned_train</th>\n",
       "      <td>1.000</td>\n",
       "      <td>1.000</td>\n",
       "      <td>1.000</td>\n",
       "      <td>1.000</td>\n",
       "      <td>1.0</td>\n",
       "    </tr>\n",
       "    <tr>\n",
       "      <th>TfidfVect_LogisticRegression_tuned_val</th>\n",
       "      <td>0.896</td>\n",
       "      <td>0.898</td>\n",
       "      <td>0.897</td>\n",
       "      <td>0.898</td>\n",
       "      <td>0.956</td>\n",
       "    </tr>\n",
       "    <tr>\n",
       "      <th>TfidfVectorizer_RandomForestClassifier_tuned_train</th>\n",
       "      <td>0.985</td>\n",
       "      <td>0.976</td>\n",
       "      <td>0.994</td>\n",
       "      <td>0.985</td>\n",
       "      <td>0.999</td>\n",
       "    </tr>\n",
       "    <tr>\n",
       "      <th>TfidfVectorizer_RandomForestClassifier_tuned_val</th>\n",
       "      <td>0.872</td>\n",
       "      <td>0.878</td>\n",
       "      <td>0.867</td>\n",
       "      <td>0.873</td>\n",
       "      <td>0.944</td>\n",
       "    </tr>\n",
       "    <tr>\n",
       "      <th>TfidfVectorizer_LinearSVC_tuned_train</th>\n",
       "      <td>1.000</td>\n",
       "      <td>1.000</td>\n",
       "      <td>1.000</td>\n",
       "      <td>1.000</td>\n",
       "      <td>None</td>\n",
       "    </tr>\n",
       "    <tr>\n",
       "      <th>TfidfVectorizer_LinearSVC_tuned_val</th>\n",
       "      <td>0.903</td>\n",
       "      <td>0.902</td>\n",
       "      <td>0.908</td>\n",
       "      <td>0.905</td>\n",
       "      <td>None</td>\n",
       "    </tr>\n",
       "  </tbody>\n",
       "</table>\n",
       "</div>"
      ],
      "text/plain": [
       "                                                    accuracy  precision  \\\n",
       "model                                                                     \n",
       "TfidfVect_LogisticRegression_tuned_train               1.000      1.000   \n",
       "TfidfVect_LogisticRegression_tuned_val                 0.896      0.898   \n",
       "TfidfVectorizer_RandomForestClassifier_tuned_train     0.985      0.976   \n",
       "TfidfVectorizer_RandomForestClassifier_tuned_val       0.872      0.878   \n",
       "TfidfVectorizer_LinearSVC_tuned_train                  1.000      1.000   \n",
       "TfidfVectorizer_LinearSVC_tuned_val                    0.903      0.902   \n",
       "\n",
       "                                                    recall  f1_score ROC_AUC  \n",
       "model                                                                         \n",
       "TfidfVect_LogisticRegression_tuned_train             1.000     1.000     1.0  \n",
       "TfidfVect_LogisticRegression_tuned_val               0.897     0.898   0.956  \n",
       "TfidfVectorizer_RandomForestClassifier_tuned_train   0.994     0.985   0.999  \n",
       "TfidfVectorizer_RandomForestClassifier_tuned_val     0.867     0.873   0.944  \n",
       "TfidfVectorizer_LinearSVC_tuned_train                1.000     1.000    None  \n",
       "TfidfVectorizer_LinearSVC_tuned_val                  0.908     0.905    None  "
      ]
     },
     "execution_count": 83,
     "metadata": {},
     "output_type": "execute_result"
    }
   ],
   "source": [
    "scores_df[scores_df['model'].str.contains('tuned')].set_index('model')"
   ]
  },
  {
   "cell_type": "markdown",
   "id": "1b562589-5723-413e-97be-07ff3b2f3138",
   "metadata": {},
   "source": [
    "We got the best results on validation with pipelines (fidfVectorizer, LogisticRegression) and (fidfVectorizer, LinearSVC). Their metrics are pretty close to each other. So, for the next step, you can use any of them. In our case, we are going to select pipeline based on LogisticRegression."
   ]
  },
  {
   "cell_type": "code",
   "execution_count": 84,
   "id": "fbfe99ab-121f-4f45-a2a8-126ee81eb5c4",
   "metadata": {},
   "outputs": [],
   "source": [
    "final_model = best_model_lr"
   ]
  },
  {
   "cell_type": "markdown",
   "id": "ce49b4d4-0e8e-4415-b4b7-7c75834aaabc",
   "metadata": {},
   "source": [
    "## 2. Model testing"
   ]
  },
  {
   "cell_type": "markdown",
   "id": "5f9b7fb8-81f1-41c4-b030-018273fce553",
   "metadata": {},
   "source": [
    "Now we need to train the selected model on the full training dataset and validate it on the hold-out test part."
   ]
  },
  {
   "cell_type": "code",
   "execution_count": 85,
   "id": "5be357c1-d09b-425b-ac64-f39091989742",
   "metadata": {},
   "outputs": [],
   "source": [
    "test_df = pd.read_csv(DATA_DIR + '/processed/test.csv', index_col=0)"
   ]
  },
  {
   "cell_type": "code",
   "execution_count": 86,
   "id": "71261fae-d885-404d-a418-f4fab9009bf9",
   "metadata": {},
   "outputs": [
    {
     "name": "stdout",
     "output_type": "stream",
     "text": [
      "(10000, 2)\n"
     ]
    },
    {
     "data": {
      "text/html": [
       "<div>\n",
       "<style scoped>\n",
       "    .dataframe tbody tr th:only-of-type {\n",
       "        vertical-align: middle;\n",
       "    }\n",
       "\n",
       "    .dataframe tbody tr th {\n",
       "        vertical-align: top;\n",
       "    }\n",
       "\n",
       "    .dataframe thead th {\n",
       "        text-align: right;\n",
       "    }\n",
       "</style>\n",
       "<table border=\"1\" class=\"dataframe\">\n",
       "  <thead>\n",
       "    <tr style=\"text-align: right;\">\n",
       "      <th></th>\n",
       "      <th>review</th>\n",
       "      <th>sentiment</th>\n",
       "    </tr>\n",
       "  </thead>\n",
       "  <tbody>\n",
       "    <tr>\n",
       "      <th>0</th>\n",
       "      <td>really liked summerslam due look arena curtain...</td>\n",
       "      <td>1</td>\n",
       "    </tr>\n",
       "    <tr>\n",
       "      <th>1</th>\n",
       "      <td>many television show appeal quite many differe...</td>\n",
       "      <td>1</td>\n",
       "    </tr>\n",
       "    <tr>\n",
       "      <th>2</th>\n",
       "      <td>film quickly get major chase scene ever increa...</td>\n",
       "      <td>0</td>\n",
       "    </tr>\n",
       "    <tr>\n",
       "      <th>3</th>\n",
       "      <td>jane austen would definitely approve onegwynet...</td>\n",
       "      <td>1</td>\n",
       "    </tr>\n",
       "    <tr>\n",
       "      <th>4</th>\n",
       "      <td>expectation somewhat high went see movie thoug...</td>\n",
       "      <td>0</td>\n",
       "    </tr>\n",
       "  </tbody>\n",
       "</table>\n",
       "</div>"
      ],
      "text/plain": [
       "                                              review  sentiment\n",
       "0  really liked summerslam due look arena curtain...          1\n",
       "1  many television show appeal quite many differe...          1\n",
       "2  film quickly get major chase scene ever increa...          0\n",
       "3  jane austen would definitely approve onegwynet...          1\n",
       "4  expectation somewhat high went see movie thoug...          0"
      ]
     },
     "execution_count": 86,
     "metadata": {},
     "output_type": "execute_result"
    }
   ],
   "source": [
    "print(test_df.shape)\n",
    "test_df.head(5)"
   ]
  },
  {
   "cell_type": "code",
   "execution_count": 87,
   "id": "0bb5193c",
   "metadata": {},
   "outputs": [],
   "source": [
    "full_train_df = full_train_df.drop_duplicates()"
   ]
  },
  {
   "cell_type": "code",
   "execution_count": 88,
   "id": "a11a9612-6763-445e-90d8-39036d2f4769",
   "metadata": {},
   "outputs": [],
   "source": [
    "X_full_train, y_full_train = full_train_df['review'], full_train_df['sentiment']\n",
    "X_test, y_test = test_df['review'], test_df['sentiment']"
   ]
  },
  {
   "cell_type": "code",
   "execution_count": 89,
   "id": "33217b8e-5191-4615-9f72-d1c63e060bf7",
   "metadata": {},
   "outputs": [
    {
     "name": "stdout",
     "output_type": "stream",
     "text": [
      "Full training dataset shape is (39740,), test part shape is (10000,).\n"
     ]
    }
   ],
   "source": [
    "print(f'Full training dataset shape is {X_full_train.shape}, test part shape is {X_test.shape}.')"
   ]
  },
  {
   "cell_type": "code",
   "execution_count": 90,
   "id": "8f641bee-ae00-4f7e-a011-07afe1b5be97",
   "metadata": {},
   "outputs": [
    {
     "name": "stdout",
     "output_type": "stream",
     "text": [
      "LogisticRegression metrics on training data:\n",
      "Accuracy: 1.0\n",
      "Precision: 1.0\n",
      "Recall: 1.0\n",
      "F1-score: 1.0\n",
      "ROC-AUC: 1.0\n",
      "\n",
      "LogisticRegression metrics on validation data:\n",
      "Accuracy: 0.907\n",
      "Precision: 0.897\n",
      "Recall: 0.921\n",
      "F1-score: 0.909\n",
      "ROC-AUC: 0.968\n",
      "\n",
      "Classification report and confusion matrix for the validation data:\n",
      "              precision    recall  f1-score   support\n",
      "\n",
      "    negative       0.92      0.89      0.91      4961\n",
      "    positive       0.90      0.92      0.91      5039\n",
      "\n",
      "    accuracy                           0.91     10000\n",
      "   macro avg       0.91      0.91      0.91     10000\n",
      "weighted avg       0.91      0.91      0.91     10000\n",
      "\n"
     ]
    },
    {
     "data": {
      "image/png": "[encoded data removed]",
      "text/plain": [
       "<Figure size 432x288 with 2 Axes>"
      ]
     },
     "metadata": {
      "needs_background": "light"
     },
     "output_type": "display_data"
    }
   ],
   "source": [
    "final_model, full_train_score, test_score = train_pipeline(final_model, X_full_train, y_full_train, X_test, y_test)"
   ]
  },
  {
   "cell_type": "code",
   "execution_count": 91,
   "id": "55b38074-3f86-47a4-bf12-55d3aedc8478",
   "metadata": {},
   "outputs": [],
   "source": [
    "with open(MODEL_DIR + '/model.pkl', 'wb') as f_out: \n",
    "    pickle.dump(final_model, f_out)"
   ]
  },
  {
   "cell_type": "markdown",
   "id": "da28d989-78ca-4a3c-ba05-bb3c04255b06",
   "metadata": {},
   "source": [
    "**Conclusion:**\n",
    "- We tried 2 types of text transformations based on BoW and TF-IDF features and 3 different variants of classifiers - Logistic Regression, Random Forest Classifier and Linear Support Vector Classification.\n",
    "- Also we carried out the parameters tuning with RandomizedSearchCV and slightly boosted up our models metrics.\n",
    "- We got the best metrics with the following pipelines: (fidfVectorizer, LogisticRegression) and (fidfVectorizer, LinearSVC). Pipeline(fidfVectorizer, LogisticRegression) have been chosen as the final one."
   ]
  }
 ],
 "metadata": {
  "kernelspec": {
   "display_name": "Python 3 (ipykernel)",
   "language": "python",
   "name": "python3"
  },
  "language_info": {
   "codemirror_mode": {
    "name": "ipython",
    "version": 3
   },
   "file_extension": ".py",
   "mimetype": "text/x-python",
   "name": "python",
   "nbconvert_exporter": "python",
   "pygments_lexer": "ipython3",
   "version": "3.8.10"
  }
 },
 "nbformat": 4,
 "nbformat_minor": 5
}
