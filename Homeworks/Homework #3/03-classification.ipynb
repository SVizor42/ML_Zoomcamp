{
 "cells": [
  {
   "cell_type": "markdown",
   "id": "fccbfd28",
   "metadata": {},
   "source": [
    "# Session #3 Homework"
   ]
  },
  {
   "cell_type": "markdown",
   "id": "66c4c02f",
   "metadata": {},
   "source": [
    "## Dataset"
   ]
  },
  {
   "cell_type": "markdown",
   "id": "90ef9b3e",
   "metadata": {},
   "source": [
    "In this homework, we will continue the New York City Airbnb Open Data. You can take it from <a href='https://www.kaggle.com/dgomonov/new-york-city-airbnb-open-data?select=AB_NYC_2019.csv'>Kaggle</a> or download from <a href='https://raw.githubusercontent.com/alexeygrigorev/datasets/master/AB_NYC_2019.csv'>here</a> if you don't want to sign up to Kaggle.\n",
    "\n",
    "We'll keep working with the `price` variable, and we'll transform it to a classification task."
   ]
  },
  {
   "cell_type": "code",
   "execution_count": 1,
   "id": "4c5da8b8",
   "metadata": {},
   "outputs": [],
   "source": [
    "import numpy as np\n",
    "import pandas as pd\n",
    "\n",
    "import matplotlib.pyplot as plt\n",
    "import seaborn as sns\n",
    "%matplotlib inline"
   ]
  },
  {
   "cell_type": "code",
   "execution_count": 2,
   "id": "f77e0e23",
   "metadata": {},
   "outputs": [],
   "source": [
    "data = 'https://raw.githubusercontent.com/alexeygrigorev/datasets/master/AB_NYC_2019.csv'"
   ]
  },
  {
   "cell_type": "code",
   "execution_count": 3,
   "id": "526a8d7f",
   "metadata": {},
   "outputs": [
    {
     "name": "stderr",
     "output_type": "stream",
     "text": [
      "--2021-09-27 09:18:39--  https://raw.githubusercontent.com/alexeygrigorev/datasets/master/AB_NYC_2019.csv\n",
      "Resolving raw.githubusercontent.com (raw.githubusercontent.com)... 185.199.108.133, 185.199.110.133, 185.199.109.133, ...\n",
      "Connecting to raw.githubusercontent.com (raw.githubusercontent.com)|185.199.108.133|:443... connected.\n",
      "HTTP request sent, awaiting response... 200 OK\n",
      "Length: 7077973 (6,8M) [text/plain]\n",
      "Saving to: 'data.csv'\n",
      "\n",
      "     0K .......... .......... .......... .......... ..........  0%  632K 11s\n",
      "    50K .......... .......... .......... .......... ..........  1% 1,76M 7s\n",
      "   100K .......... .......... .......... .......... ..........  2%  971K 7s\n",
      "   150K .......... .......... .......... .......... ..........  2% 2,32M 6s\n",
      "   200K .......... .......... .......... .......... ..........  3% 1,05M 6s\n",
      "   250K .......... .......... .......... .......... ..........  4% 2,34M 5s\n",
      "   300K .......... .......... .......... .......... ..........  5% 4,66M 5s\n",
      "   350K .......... .......... .......... .......... ..........  5%  962K 5s\n",
      "   400K .......... .......... .......... .......... ..........  6% 3,73M 5s\n",
      "   450K .......... .......... .......... .......... ..........  7% 5,03M 4s\n",
      "   500K .......... .......... .......... .......... ..........  7% 5,46M 4s\n",
      "   550K .......... .......... .......... .......... ..........  8% 14,8M 4s\n",
      "   600K .......... .......... .......... .......... ..........  9% 1,65M 4s\n",
      "   650K .......... .......... .......... .......... .......... 10% 6,26M 3s\n",
      "   700K .......... .......... .......... .......... .......... 10% 9,13M 3s\n",
      "   750K .......... .......... .......... .......... .......... 11% 4,42M 3s\n",
      "   800K .......... .......... .......... .......... .......... 12% 4,68M 3s\n",
      "   850K .......... .......... .......... .......... .......... 13% 9,14M 3s\n",
      "   900K .......... .......... .......... .......... .......... 13% 7,23M 3s\n",
      "   950K .......... .......... .......... .......... .......... 14% 10,7M 3s\n",
      "  1000K .......... .......... .......... .......... .......... 15% 21,0M 2s\n",
      "  1050K .......... .......... .......... .......... .......... 15% 3,79M 2s\n",
      "  1100K .......... .......... .......... .......... .......... 16% 5,61M 2s\n",
      "  1150K .......... .......... .......... .......... .......... 17% 7,81M 2s\n",
      "  1200K .......... .......... .......... .......... .......... 18% 11,7M 2s\n",
      "  1250K .......... .......... .......... .......... .......... 18% 18,6M 2s\n",
      "  1300K .......... .......... .......... .......... .......... 19% 7,25M 2s\n",
      "  1350K .......... .......... .......... .......... .......... 20% 7,37M 2s\n",
      "  1400K .......... .......... .......... .......... .......... 20% 21,5M 2s\n",
      "  1450K .......... .......... .......... .......... .......... 21% 10,4M 2s\n",
      "  1500K .......... .......... .......... .......... .......... 22% 6,99M 2s\n",
      "  1550K .......... .......... .......... .......... .......... 23% 8,50M 2s\n",
      "  1600K .......... .......... .......... .......... .......... 23% 9,33M 2s\n",
      "  1650K .......... .......... .......... .......... .......... 24% 19,9M 2s\n",
      "  1700K .......... .......... .......... .......... .......... 25% 10,8M 1s\n",
      "  1750K .......... .......... .......... .......... .......... 26% 8,30M 1s\n",
      "  1800K .......... .......... .......... .......... .......... 26% 11,7M 1s\n",
      "  1850K .......... .......... .......... .......... .......... 27% 6,45M 1s\n",
      "  1900K .......... .......... .......... .......... .......... 28% 4,35M 1s\n",
      "  1950K .......... .......... .......... .......... .......... 28% 24,8M 1s\n",
      "  2000K .......... .......... .......... .......... .......... 29% 6,50M 1s\n",
      "  2050K .......... .......... .......... .......... .......... 30% 9,73M 1s\n",
      "  2100K .......... .......... .......... .......... .......... 31% 13,4M 1s\n",
      "  2150K .......... .......... .......... .......... .......... 31% 7,38M 1s\n",
      "  2200K .......... .......... .......... .......... .......... 32% 15,9M 1s\n",
      "  2250K .......... .......... .......... .......... .......... 33% 9,65M 1s\n",
      "  2300K .......... .......... .......... .......... .......... 33% 11,2M 1s\n",
      "  2350K .......... .......... .......... .......... .......... 34% 18,2M 1s\n",
      "  2400K .......... .......... .......... .......... .......... 35% 8,08M 1s\n",
      "  2450K .......... .......... .......... .......... .......... 36% 20,2M 1s\n",
      "  2500K .......... .......... .......... .......... .......... 36% 6,58M 1s\n",
      "  2550K .......... .......... .......... .......... .......... 37% 5,72M 1s\n",
      "  2600K .......... .......... .......... .......... .......... 38% 8,99M 1s\n",
      "  2650K .......... .......... .......... .......... .......... 39% 9,29M 1s\n",
      "  2700K .......... .......... .......... .......... .......... 39% 9,84M 1s\n",
      "  2750K .......... .......... .......... .......... .......... 40% 7,88M 1s\n",
      "  2800K .......... .......... .......... .......... .......... 41% 5,38M 1s\n",
      "  2850K .......... .......... .......... .......... .......... 41% 10,4M 1s\n",
      "  2900K .......... .......... .......... .......... .......... 42% 11,0M 1s\n",
      "  2950K .......... .......... .......... .......... .......... 43% 6,43M 1s\n",
      "  3000K .......... .......... .......... .......... .......... 44%  325K 1s\n",
      "  3050K .......... .......... .......... .......... .......... 44% 9,70M 1s\n",
      "  3100K .......... .......... .......... .......... .......... 45% 10,9M 1s\n",
      "  3150K .......... .......... .......... .......... .......... 46% 11,1M 1s\n",
      "  3200K .......... .......... .......... .......... .......... 47% 11,4M 1s\n",
      "  3250K .......... .......... .......... .......... .......... 47% 7,76M 1s\n",
      "  3300K .......... .......... .......... .......... .......... 48% 8,85M 1s\n",
      "  3350K .......... .......... .......... .......... .......... 49% 6,95M 1s\n",
      "  3400K .......... .......... .......... .......... .......... 49% 10,2M 1s\n",
      "  3450K .......... .......... .......... .......... .......... 50% 6,74M 1s\n",
      "  3500K .......... .......... .......... .......... .......... 51% 9,05M 1s\n",
      "  3550K .......... .......... .......... .......... .......... 52%  109M 1s\n",
      "  3600K .......... .......... .......... .......... .......... 52%  128M 1s\n",
      "  3650K .......... .......... .......... .......... .......... 53% 52,6M 1s\n",
      "  3700K .......... .......... .......... .......... .......... 54% 78,2M 1s\n",
      "  3750K .......... .......... .......... .......... .......... 54% 41,9M 1s\n",
      "  3800K .......... .......... .......... .......... .......... 55% 55,7M 1s\n",
      "  3850K .......... .......... .......... .......... .......... 56% 99,4M 1s\n",
      "  3900K .......... .......... .......... .......... .......... 57%  103M 1s\n",
      "  3950K .......... .......... .......... .......... .......... 57% 79,0M 1s\n",
      "  4000K .......... .......... .......... .......... .......... 58% 94,6M 1s\n",
      "  4050K .......... .......... .......... .......... .......... 59%  114M 1s\n",
      "  4100K .......... .......... .......... .......... .......... 60%  156M 1s\n",
      "  4150K .......... .......... .......... .......... .......... 60% 57,1M 1s\n",
      "  4200K .......... .......... .......... .......... .......... 61%  107M 1s\n",
      "  4250K .......... .......... .......... .......... .......... 62%  117M 1s\n",
      "  4300K .......... .......... .......... .......... .......... 62%  196M 1s\n",
      "  4350K .......... .......... .......... .......... .......... 63% 67,5M 0s\n",
      "  4400K .......... .......... .......... .......... .......... 64%  102M 0s\n",
      "  4450K .......... .......... .......... .......... .......... 65% 93,2M 0s\n",
      "  4500K .......... .......... .......... .......... .......... 65%  152M 0s\n",
      "  4550K .......... .......... .......... .......... .......... 66% 68,1M 0s\n",
      "  4600K .......... .......... .......... .......... .......... 67% 79,9M 0s\n",
      "  4650K .......... .......... .......... .......... .......... 67%  133M 0s\n",
      "  4700K .......... .......... .......... .......... .......... 68% 74,6M 0s\n",
      "  4750K .......... .......... .......... .......... .......... 69% 78,3M 0s\n",
      "  4800K .......... .......... .......... .......... .......... 70%  102M 0s\n",
      "  4850K .......... .......... .......... .......... .......... 70%  141M 0s\n",
      "  4900K .......... .......... .......... .......... .......... 71%  115M 0s\n",
      "  4950K .......... .......... .......... .......... .......... 72% 5,99M 0s\n",
      "  5000K .......... .......... .......... .......... .......... 73% 9,57M 0s\n",
      "  5050K .......... .......... .......... .......... .......... 73% 10,2M 0s\n",
      "  5100K .......... .......... .......... .......... .......... 74% 8,91M 0s\n",
      "  5150K .......... .......... .......... .......... .......... 75% 6,77M 0s\n",
      "  5200K .......... .......... .......... .......... .......... 75% 9,90M 0s\n",
      "  5250K .......... .......... .......... .......... .......... 76% 18,9M 0s\n",
      "  5300K .......... .......... .......... .......... .......... 77% 8,87M 0s\n",
      "  5350K .......... .......... .......... .......... .......... 78% 9,92M 0s\n",
      "  5400K .......... .......... .......... .......... .......... 78% 6,92M 0s\n",
      "  5450K .......... .......... .......... .......... .......... 79% 11,8M 0s\n",
      "  5500K .......... .......... .......... .......... .......... 80% 4,72M 0s\n",
      "  5550K .......... .......... .......... .......... .......... 81% 8,97M 0s\n",
      "  5600K .......... .......... .......... .......... .......... 81% 5,91M 0s\n",
      "  5650K .......... .......... .......... .......... .......... 82% 1,06M 0s\n",
      "  5700K .......... .......... .......... .......... .......... 83% 7,43M 0s\n",
      "  5750K .......... .......... .......... .......... .......... 83% 8,25M 0s\n",
      "  5800K .......... .......... .......... .......... .......... 84% 5,24M 0s\n",
      "  5850K .......... .......... .......... .......... .......... 85% 21,0M 0s\n",
      "  5900K .......... .......... .......... .......... .......... 86% 6,09M 0s\n",
      "  5950K .......... .......... .......... .......... .......... 86% 11,3M 0s\n",
      "  6000K .......... .......... .......... .......... .......... 87% 9,39M 0s\n",
      "  6050K .......... .......... .......... .......... .......... 88% 8,81M 0s\n",
      "  6100K .......... .......... .......... .......... .......... 88% 9,23M 0s\n",
      "  6150K .......... .......... .......... .......... .......... 89% 6,69M 0s\n",
      "  6200K .......... .......... .......... .......... .......... 90% 6,12M 0s\n",
      "  6250K .......... .......... .......... .......... .......... 91%  629K 0s\n",
      "  6300K .......... .......... .......... .......... .......... 91% 5,51M 0s\n",
      "  6350K .......... .......... .......... .......... .......... 92% 5,40M 0s\n",
      "  6400K .......... .......... .......... .......... .......... 93%  842K 0s\n",
      "  6450K .......... .......... .......... .......... .......... 94% 8,56M 0s\n",
      "  6500K .......... .......... .......... .......... .......... 94% 5,07M 0s\n",
      "  6550K .......... .......... .......... .......... .......... 95% 7,61M 0s\n",
      "  6600K .......... .......... .......... .......... .......... 96%  942K 0s\n",
      "  6650K .......... .......... .......... .......... .......... 96% 10,1M 0s\n",
      "  6700K .......... .......... .......... .......... .......... 97% 59,9M 0s\n",
      "  6750K .......... .......... .......... .......... .......... 98% 65,1M 0s\n",
      "  6800K .......... .......... .......... .......... .......... 99%  115M 0s\n",
      "  6850K .......... .......... .......... .......... .......... 99% 14,3M 0s\n",
      "  6900K .......... ..                                         100%  110M=1,3s\n",
      "\n",
      "2021-09-27 09:18:41 (5,14 MB/s) - 'data.csv' saved [7077973/7077973]\n",
      "\n"
     ]
    }
   ],
   "source": [
    "!wget $data -O data.csv"
   ]
  },
  {
   "cell_type": "code",
   "execution_count": 4,
   "id": "464be378",
   "metadata": {},
   "outputs": [
    {
     "data": {
      "text/plain": [
       "(48895, 16)"
      ]
     },
     "execution_count": 4,
     "metadata": {},
     "output_type": "execute_result"
    }
   ],
   "source": [
    "df = pd.read_csv(data)\n",
    "df.shape"
   ]
  },
  {
   "cell_type": "code",
   "execution_count": 5,
   "id": "a85dbe79",
   "metadata": {},
   "outputs": [
    {
     "data": {
      "text/html": [
       "<div>\n",
       "<style scoped>\n",
       "    .dataframe tbody tr th:only-of-type {\n",
       "        vertical-align: middle;\n",
       "    }\n",
       "\n",
       "    .dataframe tbody tr th {\n",
       "        vertical-align: top;\n",
       "    }\n",
       "\n",
       "    .dataframe thead th {\n",
       "        text-align: right;\n",
       "    }\n",
       "</style>\n",
       "<table border=\"1\" class=\"dataframe\">\n",
       "  <thead>\n",
       "    <tr style=\"text-align: right;\">\n",
       "      <th></th>\n",
       "      <th>id</th>\n",
       "      <th>name</th>\n",
       "      <th>host_id</th>\n",
       "      <th>host_name</th>\n",
       "      <th>neighbourhood_group</th>\n",
       "      <th>neighbourhood</th>\n",
       "      <th>latitude</th>\n",
       "      <th>longitude</th>\n",
       "      <th>room_type</th>\n",
       "      <th>price</th>\n",
       "      <th>minimum_nights</th>\n",
       "      <th>number_of_reviews</th>\n",
       "      <th>last_review</th>\n",
       "      <th>reviews_per_month</th>\n",
       "      <th>calculated_host_listings_count</th>\n",
       "      <th>availability_365</th>\n",
       "    </tr>\n",
       "  </thead>\n",
       "  <tbody>\n",
       "    <tr>\n",
       "      <th>0</th>\n",
       "      <td>2539</td>\n",
       "      <td>Clean &amp; quiet apt home by the park</td>\n",
       "      <td>2787</td>\n",
       "      <td>John</td>\n",
       "      <td>Brooklyn</td>\n",
       "      <td>Kensington</td>\n",
       "      <td>40.64749</td>\n",
       "      <td>-73.97237</td>\n",
       "      <td>Private room</td>\n",
       "      <td>149</td>\n",
       "      <td>1</td>\n",
       "      <td>9</td>\n",
       "      <td>2018-10-19</td>\n",
       "      <td>0.21</td>\n",
       "      <td>6</td>\n",
       "      <td>365</td>\n",
       "    </tr>\n",
       "    <tr>\n",
       "      <th>1</th>\n",
       "      <td>2595</td>\n",
       "      <td>Skylit Midtown Castle</td>\n",
       "      <td>2845</td>\n",
       "      <td>Jennifer</td>\n",
       "      <td>Manhattan</td>\n",
       "      <td>Midtown</td>\n",
       "      <td>40.75362</td>\n",
       "      <td>-73.98377</td>\n",
       "      <td>Entire home/apt</td>\n",
       "      <td>225</td>\n",
       "      <td>1</td>\n",
       "      <td>45</td>\n",
       "      <td>2019-05-21</td>\n",
       "      <td>0.38</td>\n",
       "      <td>2</td>\n",
       "      <td>355</td>\n",
       "    </tr>\n",
       "    <tr>\n",
       "      <th>2</th>\n",
       "      <td>3647</td>\n",
       "      <td>THE VILLAGE OF HARLEM....NEW YORK !</td>\n",
       "      <td>4632</td>\n",
       "      <td>Elisabeth</td>\n",
       "      <td>Manhattan</td>\n",
       "      <td>Harlem</td>\n",
       "      <td>40.80902</td>\n",
       "      <td>-73.94190</td>\n",
       "      <td>Private room</td>\n",
       "      <td>150</td>\n",
       "      <td>3</td>\n",
       "      <td>0</td>\n",
       "      <td>NaN</td>\n",
       "      <td>NaN</td>\n",
       "      <td>1</td>\n",
       "      <td>365</td>\n",
       "    </tr>\n",
       "    <tr>\n",
       "      <th>3</th>\n",
       "      <td>3831</td>\n",
       "      <td>Cozy Entire Floor of Brownstone</td>\n",
       "      <td>4869</td>\n",
       "      <td>LisaRoxanne</td>\n",
       "      <td>Brooklyn</td>\n",
       "      <td>Clinton Hill</td>\n",
       "      <td>40.68514</td>\n",
       "      <td>-73.95976</td>\n",
       "      <td>Entire home/apt</td>\n",
       "      <td>89</td>\n",
       "      <td>1</td>\n",
       "      <td>270</td>\n",
       "      <td>2019-07-05</td>\n",
       "      <td>4.64</td>\n",
       "      <td>1</td>\n",
       "      <td>194</td>\n",
       "    </tr>\n",
       "    <tr>\n",
       "      <th>4</th>\n",
       "      <td>5022</td>\n",
       "      <td>Entire Apt: Spacious Studio/Loft by central park</td>\n",
       "      <td>7192</td>\n",
       "      <td>Laura</td>\n",
       "      <td>Manhattan</td>\n",
       "      <td>East Harlem</td>\n",
       "      <td>40.79851</td>\n",
       "      <td>-73.94399</td>\n",
       "      <td>Entire home/apt</td>\n",
       "      <td>80</td>\n",
       "      <td>10</td>\n",
       "      <td>9</td>\n",
       "      <td>2018-11-19</td>\n",
       "      <td>0.10</td>\n",
       "      <td>1</td>\n",
       "      <td>0</td>\n",
       "    </tr>\n",
       "  </tbody>\n",
       "</table>\n",
       "</div>"
      ],
      "text/plain": [
       "     id                                              name  host_id  \\\n",
       "0  2539                Clean & quiet apt home by the park     2787   \n",
       "1  2595                             Skylit Midtown Castle     2845   \n",
       "2  3647               THE VILLAGE OF HARLEM....NEW YORK !     4632   \n",
       "3  3831                   Cozy Entire Floor of Brownstone     4869   \n",
       "4  5022  Entire Apt: Spacious Studio/Loft by central park     7192   \n",
       "\n",
       "     host_name neighbourhood_group neighbourhood  latitude  longitude  \\\n",
       "0         John            Brooklyn    Kensington  40.64749  -73.97237   \n",
       "1     Jennifer           Manhattan       Midtown  40.75362  -73.98377   \n",
       "2    Elisabeth           Manhattan        Harlem  40.80902  -73.94190   \n",
       "3  LisaRoxanne            Brooklyn  Clinton Hill  40.68514  -73.95976   \n",
       "4        Laura           Manhattan   East Harlem  40.79851  -73.94399   \n",
       "\n",
       "         room_type  price  minimum_nights  number_of_reviews last_review  \\\n",
       "0     Private room    149               1                  9  2018-10-19   \n",
       "1  Entire home/apt    225               1                 45  2019-05-21   \n",
       "2     Private room    150               3                  0         NaN   \n",
       "3  Entire home/apt     89               1                270  2019-07-05   \n",
       "4  Entire home/apt     80              10                  9  2018-11-19   \n",
       "\n",
       "   reviews_per_month  calculated_host_listings_count  availability_365  \n",
       "0               0.21                               6               365  \n",
       "1               0.38                               2               355  \n",
       "2                NaN                               1               365  \n",
       "3               4.64                               1               194  \n",
       "4               0.10                               1                 0  "
      ]
     },
     "execution_count": 5,
     "metadata": {},
     "output_type": "execute_result"
    }
   ],
   "source": [
    "df.head()"
   ]
  },
  {
   "cell_type": "markdown",
   "id": "c44cc1a3",
   "metadata": {},
   "source": [
    "## Features"
   ]
  },
  {
   "cell_type": "markdown",
   "id": "71b1cb11",
   "metadata": {},
   "source": [
    "For the rest of the homework, you'll need to use the features from the previous homework with additional two `neighbourhood_group` and `room_type`. So the whole feature set will be set as follows:\n",
    "\n",
    "* `neighbourhood_group`,\n",
    "* `room_type`,\n",
    "* `latitude`,\n",
    "* `longitude`,\n",
    "* `price`,\n",
    "* `minimum_nights`,\n",
    "* `number_of_reviews`,\n",
    "* `reviews_per_month`,\n",
    "* `calculated_host_listings_count`,\n",
    "* `availability_365`\n",
    "\n",
    "Select only them and fill in the missing values with 0."
   ]
  },
  {
   "cell_type": "code",
   "execution_count": 6,
   "id": "a0d5f4a1",
   "metadata": {},
   "outputs": [],
   "source": [
    "features = [\n",
    "    'neighbourhood_group',\n",
    "    'room_type',\n",
    "    'latitude',\n",
    "    'longitude',\n",
    "    'price',\n",
    "    'minimum_nights',\n",
    "    'number_of_reviews',\n",
    "    'reviews_per_month',\n",
    "    'calculated_host_listings_count',\n",
    "    'availability_365'\n",
    "]"
   ]
  },
  {
   "cell_type": "code",
   "execution_count": 7,
   "id": "2309226b",
   "metadata": {},
   "outputs": [],
   "source": [
    "df = df[features]"
   ]
  },
  {
   "cell_type": "code",
   "execution_count": 8,
   "id": "bd1d6b40",
   "metadata": {},
   "outputs": [
    {
     "name": "stdout",
     "output_type": "stream",
     "text": [
      "<class 'pandas.core.frame.DataFrame'>\n",
      "RangeIndex: 48895 entries, 0 to 48894\n",
      "Data columns (total 10 columns):\n",
      " #   Column                          Non-Null Count  Dtype  \n",
      "---  ------                          --------------  -----  \n",
      " 0   neighbourhood_group             48895 non-null  object \n",
      " 1   room_type                       48895 non-null  object \n",
      " 2   latitude                        48895 non-null  float64\n",
      " 3   longitude                       48895 non-null  float64\n",
      " 4   price                           48895 non-null  int64  \n",
      " 5   minimum_nights                  48895 non-null  int64  \n",
      " 6   number_of_reviews               48895 non-null  int64  \n",
      " 7   reviews_per_month               38843 non-null  float64\n",
      " 8   calculated_host_listings_count  48895 non-null  int64  \n",
      " 9   availability_365                48895 non-null  int64  \n",
      "dtypes: float64(3), int64(5), object(2)\n",
      "memory usage: 3.7+ MB\n"
     ]
    }
   ],
   "source": [
    "df.info()"
   ]
  },
  {
   "cell_type": "code",
   "execution_count": 9,
   "id": "251aae25",
   "metadata": {},
   "outputs": [
    {
     "data": {
      "text/plain": [
       "neighbourhood_group                   5\n",
       "room_type                             3\n",
       "latitude                          19048\n",
       "longitude                         14718\n",
       "price                               674\n",
       "minimum_nights                      109\n",
       "number_of_reviews                   394\n",
       "reviews_per_month                   937\n",
       "calculated_host_listings_count       47\n",
       "availability_365                    366\n",
       "dtype: int64"
      ]
     },
     "execution_count": 9,
     "metadata": {},
     "output_type": "execute_result"
    }
   ],
   "source": [
    "df.nunique()"
   ]
  },
  {
   "cell_type": "code",
   "execution_count": 10,
   "id": "d3c62b3c",
   "metadata": {},
   "outputs": [
    {
     "data": {
      "text/plain": [
       "neighbourhood_group                   0\n",
       "room_type                             0\n",
       "latitude                              0\n",
       "longitude                             0\n",
       "price                                 0\n",
       "minimum_nights                        0\n",
       "number_of_reviews                     0\n",
       "reviews_per_month                 10052\n",
       "calculated_host_listings_count        0\n",
       "availability_365                      0\n",
       "dtype: int64"
      ]
     },
     "execution_count": 10,
     "metadata": {},
     "output_type": "execute_result"
    }
   ],
   "source": [
    "df.isnull().sum()"
   ]
  },
  {
   "cell_type": "code",
   "execution_count": 11,
   "id": "080ab3b7",
   "metadata": {},
   "outputs": [],
   "source": [
    "df = df.fillna(0)"
   ]
  },
  {
   "cell_type": "code",
   "execution_count": 12,
   "id": "0c555045",
   "metadata": {},
   "outputs": [
    {
     "data": {
      "text/plain": [
       "neighbourhood_group               0\n",
       "room_type                         0\n",
       "latitude                          0\n",
       "longitude                         0\n",
       "price                             0\n",
       "minimum_nights                    0\n",
       "number_of_reviews                 0\n",
       "reviews_per_month                 0\n",
       "calculated_host_listings_count    0\n",
       "availability_365                  0\n",
       "dtype: int64"
      ]
     },
     "execution_count": 12,
     "metadata": {},
     "output_type": "execute_result"
    }
   ],
   "source": [
    "df.isnull().sum()"
   ]
  },
  {
   "cell_type": "markdown",
   "id": "9578a57d",
   "metadata": {},
   "source": [
    "## Question 1"
   ]
  },
  {
   "cell_type": "markdown",
   "id": "59dd9bb7",
   "metadata": {},
   "source": [
    "What is the most frequent observation (mode) for the column `neighbourhood_group`?"
   ]
  },
  {
   "cell_type": "code",
   "execution_count": 13,
   "id": "8b501721",
   "metadata": {},
   "outputs": [
    {
     "data": {
      "text/plain": [
       "Manhattan        21661\n",
       "Brooklyn         20104\n",
       "Queens            5666\n",
       "Bronx             1091\n",
       "Staten Island      373\n",
       "Name: neighbourhood_group, dtype: int64"
      ]
     },
     "execution_count": 13,
     "metadata": {},
     "output_type": "execute_result"
    }
   ],
   "source": [
    "df['neighbourhood_group'].value_counts()"
   ]
  },
  {
   "cell_type": "markdown",
   "id": "ba84dbe0",
   "metadata": {},
   "source": [
    "## Split the data"
   ]
  },
  {
   "cell_type": "markdown",
   "id": "98f7f6c0",
   "metadata": {},
   "source": [
    "* Split your data in train/val/test sets, with 60%/20%/20% distribution.\n",
    "* Use Scikit-Learn for that (the `train_test_split` function) and set the seed to `42`.\n",
    "* Make sure that the target value (`price`) is not in your dataframe."
   ]
  },
  {
   "cell_type": "code",
   "execution_count": 14,
   "id": "495c470f",
   "metadata": {},
   "outputs": [],
   "source": [
    "SEED = 42"
   ]
  },
  {
   "cell_type": "code",
   "execution_count": 15,
   "id": "dd9256f6",
   "metadata": {},
   "outputs": [],
   "source": [
    "from sklearn.model_selection import train_test_split"
   ]
  },
  {
   "cell_type": "code",
   "execution_count": 16,
   "id": "3fde2573",
   "metadata": {},
   "outputs": [],
   "source": [
    "df_full_train, df_test = train_test_split(df, test_size=0.2, random_state=SEED)\n",
    "df_train, df_val = train_test_split(df_full_train, test_size=0.25, random_state=SEED)\n",
    "\n",
    "assert len(df) == (len(df_train) + len(df_val) + len(df_test))"
   ]
  },
  {
   "cell_type": "code",
   "execution_count": 17,
   "id": "e5069dbd",
   "metadata": {},
   "outputs": [
    {
     "data": {
      "text/plain": [
       "(29337, 9779, 9779)"
      ]
     },
     "execution_count": 17,
     "metadata": {},
     "output_type": "execute_result"
    }
   ],
   "source": [
    "len(df_train), len(df_val), len(df_test)"
   ]
  },
  {
   "cell_type": "code",
   "execution_count": 18,
   "id": "59b95252",
   "metadata": {},
   "outputs": [],
   "source": [
    "df_train = df_train.reset_index(drop=True)\n",
    "df_val = df_val.reset_index(drop=True)\n",
    "df_test = df_test.reset_index(drop=True)"
   ]
  },
  {
   "cell_type": "code",
   "execution_count": 19,
   "id": "e68dca8f",
   "metadata": {},
   "outputs": [],
   "source": [
    "y_train = df_train.price.values\n",
    "y_val = df_val.price.values\n",
    "y_test = df_test.price.values\n",
    "\n",
    "del df_train['price']\n",
    "del df_val['price']\n",
    "del df_test['price']\n",
    "\n",
    "assert 'price' not in df_train.columns\n",
    "assert 'price' not in df_val.columns\n",
    "assert 'price' not in df_test.columns"
   ]
  },
  {
   "cell_type": "markdown",
   "id": "b3bbb63e",
   "metadata": {},
   "source": [
    "## Question 2"
   ]
  },
  {
   "cell_type": "markdown",
   "id": "f8110894",
   "metadata": {},
   "source": [
    "* Create the correlation matrix for the numerical features of your train dataset.\n",
    "    * In a correlation matrix, you compute the correlation coefficient between every pair of features in the dataset.\n",
    "* What are the two features that have the biggest correlation in this dataset?"
   ]
  },
  {
   "cell_type": "code",
   "execution_count": 20,
   "id": "d786b3f1",
   "metadata": {},
   "outputs": [
    {
     "data": {
      "text/html": [
       "<div>\n",
       "<style scoped>\n",
       "    .dataframe tbody tr th:only-of-type {\n",
       "        vertical-align: middle;\n",
       "    }\n",
       "\n",
       "    .dataframe tbody tr th {\n",
       "        vertical-align: top;\n",
       "    }\n",
       "\n",
       "    .dataframe thead th {\n",
       "        text-align: right;\n",
       "    }\n",
       "</style>\n",
       "<table border=\"1\" class=\"dataframe\">\n",
       "  <thead>\n",
       "    <tr style=\"text-align: right;\">\n",
       "      <th></th>\n",
       "      <th>latitude</th>\n",
       "      <th>longitude</th>\n",
       "      <th>minimum_nights</th>\n",
       "      <th>number_of_reviews</th>\n",
       "      <th>reviews_per_month</th>\n",
       "      <th>calculated_host_listings_count</th>\n",
       "      <th>availability_365</th>\n",
       "    </tr>\n",
       "  </thead>\n",
       "  <tbody>\n",
       "    <tr>\n",
       "      <th>latitude</th>\n",
       "      <td>1.000000</td>\n",
       "      <td>0.080301</td>\n",
       "      <td>0.027441</td>\n",
       "      <td>-0.006246</td>\n",
       "      <td>-0.007159</td>\n",
       "      <td>0.019375</td>\n",
       "      <td>-0.005891</td>\n",
       "    </tr>\n",
       "    <tr>\n",
       "      <th>longitude</th>\n",
       "      <td>0.080301</td>\n",
       "      <td>1.000000</td>\n",
       "      <td>-0.060660</td>\n",
       "      <td>0.055084</td>\n",
       "      <td>0.134642</td>\n",
       "      <td>-0.117041</td>\n",
       "      <td>0.083666</td>\n",
       "    </tr>\n",
       "    <tr>\n",
       "      <th>minimum_nights</th>\n",
       "      <td>0.027441</td>\n",
       "      <td>-0.060660</td>\n",
       "      <td>1.000000</td>\n",
       "      <td>-0.076020</td>\n",
       "      <td>-0.120703</td>\n",
       "      <td>0.118647</td>\n",
       "      <td>0.138901</td>\n",
       "    </tr>\n",
       "    <tr>\n",
       "      <th>number_of_reviews</th>\n",
       "      <td>-0.006246</td>\n",
       "      <td>0.055084</td>\n",
       "      <td>-0.076020</td>\n",
       "      <td>1.000000</td>\n",
       "      <td>0.590374</td>\n",
       "      <td>-0.073167</td>\n",
       "      <td>0.174477</td>\n",
       "    </tr>\n",
       "    <tr>\n",
       "      <th>reviews_per_month</th>\n",
       "      <td>-0.007159</td>\n",
       "      <td>0.134642</td>\n",
       "      <td>-0.120703</td>\n",
       "      <td>0.590374</td>\n",
       "      <td>1.000000</td>\n",
       "      <td>-0.048767</td>\n",
       "      <td>0.165376</td>\n",
       "    </tr>\n",
       "    <tr>\n",
       "      <th>calculated_host_listings_count</th>\n",
       "      <td>0.019375</td>\n",
       "      <td>-0.117041</td>\n",
       "      <td>0.118647</td>\n",
       "      <td>-0.073167</td>\n",
       "      <td>-0.048767</td>\n",
       "      <td>1.000000</td>\n",
       "      <td>0.225913</td>\n",
       "    </tr>\n",
       "    <tr>\n",
       "      <th>availability_365</th>\n",
       "      <td>-0.005891</td>\n",
       "      <td>0.083666</td>\n",
       "      <td>0.138901</td>\n",
       "      <td>0.174477</td>\n",
       "      <td>0.165376</td>\n",
       "      <td>0.225913</td>\n",
       "      <td>1.000000</td>\n",
       "    </tr>\n",
       "  </tbody>\n",
       "</table>\n",
       "</div>"
      ],
      "text/plain": [
       "                                latitude  longitude  minimum_nights  \\\n",
       "latitude                        1.000000   0.080301        0.027441   \n",
       "longitude                       0.080301   1.000000       -0.060660   \n",
       "minimum_nights                  0.027441  -0.060660        1.000000   \n",
       "number_of_reviews              -0.006246   0.055084       -0.076020   \n",
       "reviews_per_month              -0.007159   0.134642       -0.120703   \n",
       "calculated_host_listings_count  0.019375  -0.117041        0.118647   \n",
       "availability_365               -0.005891   0.083666        0.138901   \n",
       "\n",
       "                                number_of_reviews  reviews_per_month  \\\n",
       "latitude                                -0.006246          -0.007159   \n",
       "longitude                                0.055084           0.134642   \n",
       "minimum_nights                          -0.076020          -0.120703   \n",
       "number_of_reviews                        1.000000           0.590374   \n",
       "reviews_per_month                        0.590374           1.000000   \n",
       "calculated_host_listings_count          -0.073167          -0.048767   \n",
       "availability_365                         0.174477           0.165376   \n",
       "\n",
       "                                calculated_host_listings_count  \\\n",
       "latitude                                              0.019375   \n",
       "longitude                                            -0.117041   \n",
       "minimum_nights                                        0.118647   \n",
       "number_of_reviews                                    -0.073167   \n",
       "reviews_per_month                                    -0.048767   \n",
       "calculated_host_listings_count                        1.000000   \n",
       "availability_365                                      0.225913   \n",
       "\n",
       "                                availability_365  \n",
       "latitude                               -0.005891  \n",
       "longitude                               0.083666  \n",
       "minimum_nights                          0.138901  \n",
       "number_of_reviews                       0.174477  \n",
       "reviews_per_month                       0.165376  \n",
       "calculated_host_listings_count          0.225913  \n",
       "availability_365                        1.000000  "
      ]
     },
     "execution_count": 20,
     "metadata": {},
     "output_type": "execute_result"
    }
   ],
   "source": [
    "df_train.corr()"
   ]
  },
  {
   "cell_type": "code",
   "execution_count": 21,
   "id": "0229872d",
   "metadata": {},
   "outputs": [
    {
     "data": {
      "image/png": "[encoded data removed]",
      "text/plain": [
       "<Figure size 720x432 with 2 Axes>"
      ]
     },
     "metadata": {
      "needs_background": "light"
     },
     "output_type": "display_data"
    }
   ],
   "source": [
    "plt.figure(figsize=(10, 6))\n",
    "sns.heatmap(df_train.corr(), cmap=\"summer\", annot=True, fmt='.3f');"
   ]
  },
  {
   "cell_type": "markdown",
   "id": "80bbe309",
   "metadata": {},
   "source": [
    "## Make price binary"
   ]
  },
  {
   "cell_type": "markdown",
   "id": "3fb1e328",
   "metadata": {},
   "source": [
    "* We need to turn the price variable from numeric into binary.\n",
    "* Let's create a variable `above_average` which is 1 if the price is above (or equal to) `152`."
   ]
  },
  {
   "cell_type": "code",
   "execution_count": 22,
   "id": "b2ab3e38",
   "metadata": {},
   "outputs": [],
   "source": [
    "def make_price_binary(price, value):\n",
    "    func = lambda x: 1 if x >= value else 0\n",
    "    price_binary = np.array(list(map(func, price)))\n",
    "    return price_binary"
   ]
  },
  {
   "cell_type": "code",
   "execution_count": 23,
   "id": "843816ee",
   "metadata": {},
   "outputs": [
    {
     "data": {
      "text/plain": [
       "(array([ 99,  57,  70, ..., 299,  65,  92], dtype=int64),\n",
       " array([ 65,  89, 200, ...,  39,  70,  77], dtype=int64),\n",
       " array([ 89,  30, 120, ...,  70, 500, 125], dtype=int64))"
      ]
     },
     "execution_count": 23,
     "metadata": {},
     "output_type": "execute_result"
    }
   ],
   "source": [
    "y_train, y_val, y_test"
   ]
  },
  {
   "cell_type": "code",
   "execution_count": 24,
   "id": "efc5418b",
   "metadata": {},
   "outputs": [],
   "source": [
    "above_average_train = make_price_binary(y_train, 152)\n",
    "above_average_val = make_price_binary(y_val, 152)\n",
    "above_average_test = make_price_binary(y_test, 152)"
   ]
  },
  {
   "cell_type": "code",
   "execution_count": 25,
   "id": "11b957ab",
   "metadata": {},
   "outputs": [
    {
     "data": {
      "text/plain": [
       "(array([0, 0, 0, ..., 1, 0, 0]),\n",
       " array([0, 0, 1, ..., 0, 0, 0]),\n",
       " array([0, 0, 0, ..., 0, 1, 0]))"
      ]
     },
     "execution_count": 25,
     "metadata": {},
     "output_type": "execute_result"
    }
   ],
   "source": [
    "above_average_train, above_average_val, above_average_test"
   ]
  },
  {
   "cell_type": "markdown",
   "id": "4d67ca7c",
   "metadata": {},
   "source": [
    "## Question 3"
   ]
  },
  {
   "cell_type": "markdown",
   "id": "3fbb525e",
   "metadata": {},
   "source": [
    "* Calculate the mutual information score with the (binarized) price for the two categorical variables that we have. Use the training set only.\n",
    "* Which of these two variables has bigger score?\n",
    "* Round it to 2 decimal digits using `round(score, 2)`"
   ]
  },
  {
   "cell_type": "code",
   "execution_count": 26,
   "id": "170fb7be",
   "metadata": {},
   "outputs": [],
   "source": [
    "from sklearn.metrics import mutual_info_score"
   ]
  },
  {
   "cell_type": "code",
   "execution_count": 27,
   "id": "9de0f736",
   "metadata": {},
   "outputs": [],
   "source": [
    "mi_neighbourhood_group = mutual_info_score(above_average_train, df_train.neighbourhood_group)\n",
    "mi_room_type = mutual_info_score(above_average_train, df_train.room_type)"
   ]
  },
  {
   "cell_type": "code",
   "execution_count": 28,
   "id": "e072de6f",
   "metadata": {},
   "outputs": [
    {
     "name": "stdout",
     "output_type": "stream",
     "text": [
      "0.05 0.14\n"
     ]
    }
   ],
   "source": [
    "print(round(mi_neighbourhood_group, 2), round(mi_room_type, 2))"
   ]
  },
  {
   "cell_type": "markdown",
   "id": "947fdc51",
   "metadata": {},
   "source": [
    "`room_type` has a bigger score."
   ]
  },
  {
   "cell_type": "markdown",
   "id": "ca07cea5",
   "metadata": {},
   "source": [
    "## Question 4"
   ]
  },
  {
   "cell_type": "markdown",
   "id": "fc5e5c2c",
   "metadata": {},
   "source": [
    "* Now let's train a logistic regression\n",
    "* Remember that we have two categorical variables in the data. Include them using one-hot encoding.\n",
    "* Fit the model on the training dataset.\n",
    "    * To make sure the results are reproducible across different versions of Scikit-Learn, fit the model with these parameters:\n",
    "    * `model = LogisticRegression(solver='lbfgs', C=1.0, random_state=42)`\n",
    "* Calculate the accuracy on the validation dataset and rount it to 2 decimal digits."
   ]
  },
  {
   "cell_type": "code",
   "execution_count": 29,
   "id": "2a5696cb",
   "metadata": {},
   "outputs": [],
   "source": [
    "from sklearn.feature_extraction import DictVectorizer\n",
    "from sklearn.linear_model import LogisticRegression"
   ]
  },
  {
   "cell_type": "code",
   "execution_count": 30,
   "id": "06693716",
   "metadata": {},
   "outputs": [],
   "source": [
    "dv = DictVectorizer(sparse=False)\n",
    "\n",
    "train_dict = df_train.to_dict(orient='records')\n",
    "X_train = dv.fit_transform(train_dict)\n",
    "\n",
    "val_dict = df_val.to_dict(orient='records')\n",
    "X_val = dv.transform(val_dict)"
   ]
  },
  {
   "cell_type": "code",
   "execution_count": 31,
   "id": "6ae577f7",
   "metadata": {},
   "outputs": [
    {
     "data": {
      "text/plain": [
       "((29337, 15), (29337,), (9779, 15), (9779,))"
      ]
     },
     "execution_count": 31,
     "metadata": {},
     "output_type": "execute_result"
    }
   ],
   "source": [
    "X_train.shape, above_average_train.shape, X_val.shape, above_average_val.shape"
   ]
  },
  {
   "cell_type": "code",
   "execution_count": 32,
   "id": "08b7eb06",
   "metadata": {},
   "outputs": [
    {
     "data": {
      "text/plain": [
       "LogisticRegression(max_iter=1000, random_state=42)"
      ]
     },
     "execution_count": 32,
     "metadata": {},
     "output_type": "execute_result"
    }
   ],
   "source": [
    "model = LogisticRegression(solver='lbfgs', C=1.0, max_iter=1000, random_state=SEED)\n",
    "model.fit(X_train, above_average_train)"
   ]
  },
  {
   "cell_type": "code",
   "execution_count": 33,
   "id": "eb005e1e",
   "metadata": {},
   "outputs": [],
   "source": [
    "y_pred = model.predict_proba(X_val)[:, 1]"
   ]
  },
  {
   "cell_type": "code",
   "execution_count": 34,
   "id": "6cfc3d92",
   "metadata": {},
   "outputs": [],
   "source": [
    "decision = (y_pred >= 0.5)"
   ]
  },
  {
   "cell_type": "code",
   "execution_count": 35,
   "id": "c5bf2c99",
   "metadata": {},
   "outputs": [],
   "source": [
    "df_pred = pd.DataFrame()\n",
    "df_pred['probability'] = y_pred\n",
    "df_pred['prediction'] = decision.astype(int)\n",
    "df_pred['actual'] = above_average_val"
   ]
  },
  {
   "cell_type": "code",
   "execution_count": 36,
   "id": "ce52c6f0",
   "metadata": {},
   "outputs": [],
   "source": [
    "df_pred['correct'] = df_pred.prediction == df_pred.actual"
   ]
  },
  {
   "cell_type": "code",
   "execution_count": 37,
   "id": "9b669f24",
   "metadata": {},
   "outputs": [
    {
     "name": "stdout",
     "output_type": "stream",
     "text": [
      "Accuracy = 0.79\n"
     ]
    }
   ],
   "source": [
    "original_score = df_pred.correct.mean()\n",
    "print(f'Accuracy = {round(original_score, 2)}')"
   ]
  },
  {
   "cell_type": "markdown",
   "id": "d15fa7eb",
   "metadata": {},
   "source": [
    "## Question 5"
   ]
  },
  {
   "cell_type": "markdown",
   "id": "3100fff9",
   "metadata": {},
   "source": [
    "* We have 9 features: 7 numerical features and 2 categorical.\n",
    "* Let's find the least useful one using the _feature elimination_ technique.\n",
    "* Train a model with all these features (using the same parameters as in Q4).\n",
    "* Now exclude each feature from this set and train a model without it. Record the accuracy for each model.\n",
    "* For each feature, calculate the difference between the original accuracy and the accuracy without the feature.\n",
    "* Which of following feature has the smallest difference?\n",
    "    * `neighbourhood_group`\n",
    "    * `room_type`\n",
    "    * `number_of_reviews`\n",
    "    * `reviews_per_month`\n",
    "> **note:** the difference doesn't have to be positive"
   ]
  },
  {
   "cell_type": "code",
   "execution_count": 38,
   "id": "72a82457",
   "metadata": {},
   "outputs": [
    {
     "data": {
      "text/plain": [
       "['neighbourhood_group',\n",
       " 'room_type',\n",
       " 'latitude',\n",
       " 'longitude',\n",
       " 'minimum_nights',\n",
       " 'number_of_reviews',\n",
       " 'reviews_per_month',\n",
       " 'calculated_host_listings_count',\n",
       " 'availability_365']"
      ]
     },
     "execution_count": 38,
     "metadata": {},
     "output_type": "execute_result"
    }
   ],
   "source": [
    "columns = df_train.columns.to_list()\n",
    "columns"
   ]
  },
  {
   "cell_type": "code",
   "execution_count": 39,
   "id": "f1b1f293",
   "metadata": {},
   "outputs": [],
   "source": [
    "scores = pd.DataFrame()\n",
    "for feature in columns:\n",
    "    df_train_cut = df_train.copy()\n",
    "    df_val_cut = df_val.copy()\n",
    "    \n",
    "    df_train_cut = df_train_cut.drop(columns={feature})\n",
    "    df_val_cut = df_val_cut.drop(columns={feature})\n",
    "    \n",
    "    dv_cut = DictVectorizer(sparse=False)\n",
    "    train_dict_cut = df_train_cut.to_dict(orient='records')\n",
    "    X_train_cut = dv_cut.fit_transform(train_dict_cut)\n",
    "    val_dict_cut = df_val_cut.to_dict(orient='records')\n",
    "    X_val_cut = dv_cut.transform(val_dict_cut)\n",
    "    \n",
    "    model = LogisticRegression(solver='lbfgs', C=1.0, max_iter=1400, random_state=SEED)\n",
    "    model.fit(X_train_cut, above_average_train)\n",
    "    \n",
    "    y_pred = model.predict_proba(X_val_cut)[:, 1] \n",
    "    prediction = (y_pred >= 0.5).astype(int)\n",
    "    correct = (prediction == above_average_val)\n",
    "    score = correct.mean()\n",
    "    scores = scores.append({\n",
    "        'eliminated_feature': feature,\n",
    "        'accuracy': score, \n",
    "        'difference': abs(original_score - score)\n",
    "    }, ignore_index=True)"
   ]
  },
  {
   "cell_type": "code",
   "execution_count": 40,
   "id": "c399013a",
   "metadata": {},
   "outputs": [
    {
     "data": {
      "text/html": [
       "<div>\n",
       "<style scoped>\n",
       "    .dataframe tbody tr th:only-of-type {\n",
       "        vertical-align: middle;\n",
       "    }\n",
       "\n",
       "    .dataframe tbody tr th {\n",
       "        vertical-align: top;\n",
       "    }\n",
       "\n",
       "    .dataframe thead th {\n",
       "        text-align: right;\n",
       "    }\n",
       "</style>\n",
       "<table border=\"1\" class=\"dataframe\">\n",
       "  <thead>\n",
       "    <tr style=\"text-align: right;\">\n",
       "      <th></th>\n",
       "      <th>eliminated_feature</th>\n",
       "      <th>accuracy</th>\n",
       "      <th>difference</th>\n",
       "    </tr>\n",
       "  </thead>\n",
       "  <tbody>\n",
       "    <tr>\n",
       "      <th>0</th>\n",
       "      <td>neighbourhood_group</td>\n",
       "      <td>0.750997</td>\n",
       "      <td>0.039677</td>\n",
       "    </tr>\n",
       "    <tr>\n",
       "      <th>1</th>\n",
       "      <td>room_type</td>\n",
       "      <td>0.728704</td>\n",
       "      <td>0.061970</td>\n",
       "    </tr>\n",
       "    <tr>\n",
       "      <th>2</th>\n",
       "      <td>latitude</td>\n",
       "      <td>0.786890</td>\n",
       "      <td>0.003784</td>\n",
       "    </tr>\n",
       "    <tr>\n",
       "      <th>3</th>\n",
       "      <td>longitude</td>\n",
       "      <td>0.786993</td>\n",
       "      <td>0.003681</td>\n",
       "    </tr>\n",
       "    <tr>\n",
       "      <th>4</th>\n",
       "      <td>minimum_nights</td>\n",
       "      <td>0.791799</td>\n",
       "      <td>0.001125</td>\n",
       "    </tr>\n",
       "    <tr>\n",
       "      <th>5</th>\n",
       "      <td>number_of_reviews</td>\n",
       "      <td>0.791287</td>\n",
       "      <td>0.000614</td>\n",
       "    </tr>\n",
       "    <tr>\n",
       "      <th>6</th>\n",
       "      <td>reviews_per_month</td>\n",
       "      <td>0.790878</td>\n",
       "      <td>0.000205</td>\n",
       "    </tr>\n",
       "    <tr>\n",
       "      <th>7</th>\n",
       "      <td>calculated_host_listings_count</td>\n",
       "      <td>0.789447</td>\n",
       "      <td>0.001227</td>\n",
       "    </tr>\n",
       "    <tr>\n",
       "      <th>8</th>\n",
       "      <td>availability_365</td>\n",
       "      <td>0.781368</td>\n",
       "      <td>0.009306</td>\n",
       "    </tr>\n",
       "  </tbody>\n",
       "</table>\n",
       "</div>"
      ],
      "text/plain": [
       "               eliminated_feature  accuracy  difference\n",
       "0             neighbourhood_group  0.750997    0.039677\n",
       "1                       room_type  0.728704    0.061970\n",
       "2                        latitude  0.786890    0.003784\n",
       "3                       longitude  0.786993    0.003681\n",
       "4                  minimum_nights  0.791799    0.001125\n",
       "5               number_of_reviews  0.791287    0.000614\n",
       "6               reviews_per_month  0.790878    0.000205\n",
       "7  calculated_host_listings_count  0.789447    0.001227\n",
       "8                availability_365  0.781368    0.009306"
      ]
     },
     "execution_count": 40,
     "metadata": {},
     "output_type": "execute_result"
    }
   ],
   "source": [
    "scores"
   ]
  },
  {
   "cell_type": "code",
   "execution_count": 41,
   "id": "60f92815",
   "metadata": {},
   "outputs": [
    {
     "data": {
      "text/html": [
       "<div>\n",
       "<style scoped>\n",
       "    .dataframe tbody tr th:only-of-type {\n",
       "        vertical-align: middle;\n",
       "    }\n",
       "\n",
       "    .dataframe tbody tr th {\n",
       "        vertical-align: top;\n",
       "    }\n",
       "\n",
       "    .dataframe thead th {\n",
       "        text-align: right;\n",
       "    }\n",
       "</style>\n",
       "<table border=\"1\" class=\"dataframe\">\n",
       "  <thead>\n",
       "    <tr style=\"text-align: right;\">\n",
       "      <th></th>\n",
       "      <th>eliminated_feature</th>\n",
       "      <th>accuracy</th>\n",
       "      <th>difference</th>\n",
       "    </tr>\n",
       "  </thead>\n",
       "  <tbody>\n",
       "    <tr>\n",
       "      <th>6</th>\n",
       "      <td>reviews_per_month</td>\n",
       "      <td>0.790878</td>\n",
       "      <td>0.000205</td>\n",
       "    </tr>\n",
       "  </tbody>\n",
       "</table>\n",
       "</div>"
      ],
      "text/plain": [
       "  eliminated_feature  accuracy  difference\n",
       "6  reviews_per_month  0.790878    0.000205"
      ]
     },
     "execution_count": 41,
     "metadata": {},
     "output_type": "execute_result"
    }
   ],
   "source": [
    "min_diff = scores.difference.min()\n",
    "scores[scores.difference == min_diff]"
   ]
  },
  {
   "cell_type": "markdown",
   "id": "6b37f4a5",
   "metadata": {},
   "source": [
    "## Question 6"
   ]
  },
  {
   "cell_type": "markdown",
   "id": "3895a729",
   "metadata": {},
   "source": [
    "* For this question, we'll see how to use a linear regression model from Scikit-Learn.\n",
    "* We'll need to use the original column `price`. Apply the logarithmic transformation to this column.\n",
    "* Fit the Ridge regression model on the training data.\n",
    "* This model has a parameter `alpha`. Let's try the following values: `[0, 0.01, 0.1, 1, 10]`\n",
    "* Which of these alphas leads to the best RMSE on the validation set? Round your RMSE scores to 3 decimal digits.\n",
    "\n",
    "If there are multiple options, select the smallest `alpha`."
   ]
  },
  {
   "cell_type": "code",
   "execution_count": 42,
   "id": "fc428675",
   "metadata": {},
   "outputs": [],
   "source": [
    "from sklearn.linear_model import Ridge\n",
    "from sklearn.metrics import mean_squared_error"
   ]
  },
  {
   "cell_type": "code",
   "execution_count": 43,
   "id": "4154e07f",
   "metadata": {},
   "outputs": [],
   "source": [
    "y_train = np.log1p(y_train)\n",
    "y_val = np.log1p(y_val)"
   ]
  },
  {
   "cell_type": "code",
   "execution_count": 44,
   "id": "97e74e6d",
   "metadata": {},
   "outputs": [
    {
     "data": {
      "text/plain": [
       "((29337,), (9779,))"
      ]
     },
     "execution_count": 44,
     "metadata": {},
     "output_type": "execute_result"
    }
   ],
   "source": [
    "y_train.shape, y_val.shape"
   ]
  },
  {
   "cell_type": "code",
   "execution_count": 45,
   "id": "046a2f8c",
   "metadata": {},
   "outputs": [
    {
     "name": "stdout",
     "output_type": "stream",
     "text": [
      "alpha = 0:\t RMSE = 0.4970735408645011\n",
      "alpha = 0.01:\t RMSE = 0.4971173046190632\n",
      "alpha = 0.1:\t RMSE = 0.49711832446943993\n",
      "alpha = 1:\t RMSE = 0.49713953633200497\n",
      "alpha = 10:\t RMSE = 0.4978866015876555\n"
     ]
    }
   ],
   "source": [
    "scores = {}\n",
    "for alpha in [0, 0.01, 0.1, 1, 10]:\n",
    "    model = Ridge(alpha=alpha)\n",
    "    model.fit(X_train, y_train)\n",
    "    y_pred = model.predict(X_val)\n",
    "    score = mean_squared_error(y_val, y_pred, squared=False)\n",
    "    scores[alpha] = round(score, 3)\n",
    "    print(f'alpha = {alpha}:\\t RMSE = {score}')"
   ]
  },
  {
   "cell_type": "code",
   "execution_count": 46,
   "id": "204a33ea",
   "metadata": {},
   "outputs": [
    {
     "data": {
      "text/plain": [
       "{0: 0.497, 0.01: 0.497, 0.1: 0.497, 1: 0.497, 10: 0.498}"
      ]
     },
     "execution_count": 46,
     "metadata": {},
     "output_type": "execute_result"
    }
   ],
   "source": [
    "scores"
   ]
  },
  {
   "cell_type": "code",
   "execution_count": 47,
   "id": "5c14d339",
   "metadata": {},
   "outputs": [
    {
     "name": "stdout",
     "output_type": "stream",
     "text": [
      "The smallest `alpha` is 0.\n"
     ]
    }
   ],
   "source": [
    "print(f'The smallest `alpha` is {min(scores, key=scores.get)}.')"
   ]
  }
 ],
 "metadata": {
  "kernelspec": {
   "display_name": "Python 3 (ipykernel)",
   "language": "python",
   "name": "python3"
  },
  "language_info": {
   "codemirror_mode": {
    "name": "ipython",
    "version": 3
   },
   "file_extension": ".py",
   "mimetype": "text/x-python",
   "name": "python",
   "nbconvert_exporter": "python",
   "pygments_lexer": "ipython3",
   "version": "3.8.10"
  }
 },
 "nbformat": 4,
 "nbformat_minor": 5
}
