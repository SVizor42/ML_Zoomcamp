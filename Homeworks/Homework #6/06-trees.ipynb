{
 "cells": [
  {
   "cell_type": "markdown",
   "metadata": {},
   "source": [
    "## 6.10 Homework\n",
    "\n",
    "The goal of this homework is to create a tree-based regression model for prediction apartment prices (column `'price'`).\n",
    "\n",
    "In this homework we'll again use the New York City Airbnb Open Data dataset - the same one we used in homework 2 and 3.\n",
    "\n",
    "You can take it from [Kaggle](https://www.kaggle.com/dgomonov/new-york-city-airbnb-open-data?select=AB_NYC_2019.csv)\n",
    "or download from [here](https://raw.githubusercontent.com/alexeygrigorev/datasets/master/AB_NYC_2019.csv)\n",
    "if you don't want to sign up to Kaggle.\n",
    "\n",
    "Let's load the data:"
   ]
  },
  {
   "cell_type": "code",
   "execution_count": 1,
   "metadata": {},
   "outputs": [],
   "source": [
    "import pandas as pd\n",
    "import numpy as np\n",
    "\n",
    "import matplotlib.pyplot as plt\n",
    "import seaborn as sns\n",
    "\n",
    "%matplotlib inline"
   ]
  },
  {
   "cell_type": "code",
   "execution_count": 2,
   "metadata": {},
   "outputs": [],
   "source": [
    "data = 'https://raw.githubusercontent.com/alexeygrigorev/datasets/master/AB_NYC_2019.csv'"
   ]
  },
  {
   "cell_type": "code",
   "execution_count": 3,
   "metadata": {},
   "outputs": [
    {
     "name": "stderr",
     "output_type": "stream",
     "text": [
      "--2021-10-19 11:55:26--  https://raw.githubusercontent.com/alexeygrigorev/datasets/master/AB_NYC_2019.csv\n",
      "Resolving raw.githubusercontent.com (raw.githubusercontent.com)... 185.199.111.133, 185.199.108.133, 185.199.109.133, ...\n",
      "Connecting to raw.githubusercontent.com (raw.githubusercontent.com)|185.199.111.133|:443... connected.\n",
      "HTTP request sent, awaiting response... 200 OK\n",
      "Length: 7077973 (6,8M) [text/plain]\n",
      "Saving to: 'AB_NYC_2019.csv.1'\n",
      "\n",
      "     0K .......... .......... .......... .......... ..........  0%  794K 9s\n",
      "    50K .......... .......... .......... .......... ..........  1% 2,05M 6s\n",
      "   100K .......... .......... .......... .......... ..........  2% 1,11M 6s\n",
      "   150K .......... .......... .......... .......... ..........  2% 3,76M 5s\n",
      "   200K .......... .......... .......... .......... ..........  3% 1,19M 5s\n",
      "   250K .......... .......... .......... .......... ..........  4% 3,14M 4s\n",
      "   300K .......... .......... .......... .......... ..........  5% 7,14M 4s\n",
      "   350K .......... .......... .......... .......... ..........  5% 7,14M 3s\n",
      "   400K .......... .......... .......... .......... ..........  6% 6,68M 3s\n",
      "   450K .......... .......... .......... .......... ..........  7% 2,08M 3s\n",
      "   500K .......... .......... .......... .......... ..........  7% 9,50M 3s\n",
      "   550K .......... .......... .......... .......... ..........  8% 9,11M 3s\n",
      "   600K .......... .......... .......... .......... ..........  9% 5,50M 3s\n",
      "   650K .......... .......... .......... .......... .......... 10% 11,0M 2s\n",
      "   700K .......... .......... .......... .......... .......... 10% 7,04M 2s\n",
      "   750K .......... .......... .......... .......... .......... 11% 21,7M 2s\n",
      "   800K .......... .......... .......... .......... .......... 12% 7,93M 2s\n",
      "   850K .......... .......... .......... .......... .......... 13% 9,72M 2s\n",
      "   900K .......... .......... .......... .......... .......... 13% 25,6M 2s\n",
      "   950K .......... .......... .......... .......... .......... 14% 5,31M 2s\n",
      "  1000K .......... .......... .......... .......... .......... 15% 17,3M 2s\n",
      "  1050K .......... .......... .......... .......... .......... 15% 9,94M 2s\n",
      "  1100K .......... .......... .......... .......... .......... 16% 5,90M 2s\n",
      "  1150K .......... .......... .......... .......... .......... 17% 5,22M 2s\n",
      "  1200K .......... .......... .......... .......... .......... 18% 24,0M 1s\n",
      "  1250K .......... .......... .......... .......... .......... 18% 12,7M 1s\n",
      "  1300K .......... .......... .......... .......... .......... 19% 11,0M 1s\n",
      "  1350K .......... .......... .......... .......... .......... 20% 6,88M 1s\n",
      "  1400K .......... .......... .......... .......... .......... 20% 9,08M 1s\n",
      "  1450K .......... .......... .......... .......... .......... 21% 10,6M 1s\n",
      "  1500K .......... .......... .......... .......... .......... 22% 6,51M 1s\n",
      "  1550K .......... .......... .......... .......... .......... 23% 3,90M 1s\n",
      "  1600K .......... .......... .......... .......... .......... 23% 18,4M 1s\n",
      "  1650K .......... .......... .......... .......... .......... 24% 10,9M 1s\n",
      "  1700K .......... .......... .......... .......... .......... 25% 17,1M 1s\n",
      "  1750K .......... .......... .......... .......... .......... 26% 11,4M 1s\n",
      "  1800K .......... .......... .......... .......... .......... 26% 25,7M 1s\n",
      "  1850K .......... .......... .......... .......... .......... 27% 5,89M 1s\n",
      "  1900K .......... .......... .......... .......... .......... 28% 21,6M 1s\n",
      "  1950K .......... .......... .......... .......... .......... 28%  242K 1s\n",
      "  2000K .......... .......... .......... .......... .......... 29%  101M 1s\n",
      "  2050K .......... .......... .......... .......... .......... 30%  118M 1s\n",
      "  2100K .......... .......... .......... .......... .......... 31%  152M 1s\n",
      "  2150K .......... .......... .......... .......... .......... 31% 93,0M 1s\n",
      "  2200K .......... .......... .......... .......... .......... 32%  148M 1s\n",
      "  2250K .......... .......... .......... .......... .......... 33%  137M 1s\n",
      "  2300K .......... .......... .......... .......... .......... 33%  167M 1s\n",
      "  2350K .......... .......... .......... .......... .......... 34% 61,8M 1s\n",
      "  2400K .......... .......... .......... .......... .......... 35%  143M 1s\n",
      "  2450K .......... .......... .......... .......... .......... 36%  182M 1s\n",
      "  2500K .......... .......... .......... .......... .......... 36%  229M 1s\n",
      "  2550K .......... .......... .......... .......... .......... 37%  121M 1s\n",
      "  2600K .......... .......... .......... .......... .......... 38%  181M 1s\n",
      "  2650K .......... .......... .......... .......... .......... 39%  389M 1s\n",
      "  2700K .......... .......... .......... .......... .......... 39%  176M 1s\n",
      "  2750K .......... .......... .......... .......... .......... 40%  102M 1s\n",
      "  2800K .......... .......... .......... .......... .......... 41%  163M 1s\n",
      "  2850K .......... .......... .......... .......... .......... 41%  361M 1s\n",
      "  2900K .......... .......... .......... .......... .......... 42%  179M 1s\n",
      "  2950K .......... .......... .......... .......... .......... 43%  109M 1s\n",
      "  3000K .......... .......... .......... .......... .......... 44%  165M 1s\n",
      "  3050K .......... .......... .......... .......... .......... 44%  205M 1s\n",
      "  3100K .......... .......... .......... .......... .......... 45% 95,4M 1s\n",
      "  3150K .......... .......... .......... .......... .......... 46%  150M 1s\n",
      "  3200K .......... .......... .......... .......... .......... 47%  320M 1s\n",
      "  3250K .......... .......... .......... .......... .......... 47%  138M 1s\n",
      "  3300K .......... .......... .......... .......... .......... 48%  231M 1s\n",
      "  3350K .......... .......... .......... .......... .......... 49%  120M 1s\n",
      "  3400K .......... .......... .......... .......... .......... 49%  159M 1s\n",
      "  3450K .......... .......... .......... .......... .......... 50%  309M 1s\n",
      "  3500K .......... .......... .......... .......... .......... 51%  224M 1s\n",
      "  3550K .......... .......... .......... .......... .......... 52% 65,9M 1s\n",
      "  3600K .......... .......... .......... .......... .......... 52%  119M 1s\n",
      "  3650K .......... .......... .......... .......... .......... 53%  106M 1s\n",
      "  3700K .......... .......... .......... .......... .......... 54% 53,7M 1s\n",
      "  3750K .......... .......... .......... .......... .......... 54%  255M 1s\n",
      "  3800K .......... .......... .......... .......... .......... 55%  167M 0s\n",
      "  3850K .......... .......... .......... .......... .......... 56% 8,00M 0s\n",
      "  3900K .......... .......... .......... .......... .......... 57% 8,72M 0s\n",
      "  3950K .......... .......... .......... .......... .......... 57%  162M 0s\n",
      "  4000K .......... .......... .......... .......... .......... 58%  332M 0s\n",
      "  4050K .......... .......... .......... .......... .......... 59%  272M 0s\n",
      "  4100K .......... .......... .......... .......... .......... 60%  317M 0s\n",
      "  4150K .......... .......... .......... .......... .......... 60% 58,0M 0s\n",
      "  4200K .......... .......... .......... .......... .......... 61% 7,83M 0s\n",
      "  4250K .......... .......... .......... .......... .......... 62% 10,3M 0s\n",
      "  4300K .......... .......... .......... .......... .......... 62% 6,68M 0s\n",
      "  4350K .......... .......... .......... .......... .......... 63% 6,88M 0s\n",
      "  4400K .......... .......... .......... .......... .......... 64% 5,93M 0s\n",
      "  4450K .......... .......... .......... .......... .......... 65% 6,82M 0s\n",
      "  4500K .......... .......... .......... .......... .......... 65% 6,06M 0s\n",
      "  4550K .......... .......... .......... .......... .......... 66% 17,9M 0s\n",
      "  4600K .......... .......... .......... .......... .......... 67% 18,5M 0s\n",
      "  4650K .......... .......... .......... .......... .......... 67% 7,21M 0s\n",
      "  4700K .......... .......... .......... .......... .......... 68% 8,92M 0s\n",
      "  4750K .......... .......... .......... .......... .......... 69% 10,1M 0s\n",
      "  4800K .......... .......... .......... .......... .......... 70% 9,33M 0s\n",
      "  4850K .......... .......... .......... .......... .......... 70% 6,96M 0s\n",
      "  4900K .......... .......... .......... .......... .......... 71%  120M 0s\n",
      "  4950K .......... .......... .......... .......... .......... 72% 11,4M 0s\n",
      "  5000K .......... .......... .......... .......... .......... 73% 5,57M 0s\n",
      "  5050K .......... .......... .......... .......... .......... 73% 25,7M 0s\n",
      "  5100K .......... .......... .......... .......... .......... 74% 10,9M 0s\n",
      "  5150K .......... .......... .......... .......... .......... 75% 7,73M 0s\n",
      "  5200K .......... .......... .......... .......... .......... 75% 22,7M 0s\n",
      "  5250K .......... .......... .......... .......... .......... 76% 3,79M 0s\n",
      "  5300K .......... .......... .......... .......... .......... 77% 6,89M 0s\n",
      "  5350K .......... .......... .......... .......... .......... 78% 14,9M 0s\n",
      "  5400K .......... .......... .......... .......... .......... 78% 7,24M 0s\n",
      "  5450K .......... .......... .......... .......... .......... 79% 7,30M 0s\n",
      "  5500K .......... .......... .......... .......... .......... 80% 14,8M 0s\n",
      "  5550K .......... .......... .......... .......... .......... 81% 10,8M 0s\n",
      "  5600K .......... .......... .......... .......... .......... 81% 21,1M 0s\n",
      "  5650K .......... .......... .......... .......... .......... 82% 5,81M 0s\n",
      "  5700K .......... .......... .......... .......... .......... 83% 6,69M 0s\n",
      "  5750K .......... .......... .......... .......... .......... 83% 10,1M 0s\n",
      "  5800K .......... .......... .......... .......... .......... 84%  362K 0s\n",
      "  5850K .......... .......... .......... .......... .......... 85%  811K 0s\n",
      "  5900K .......... .......... .......... .......... .......... 86% 4,69M 0s\n",
      "  5950K .......... .......... .......... .......... .......... 86% 21,1M 0s\n",
      "  6000K .......... .......... .......... .......... .......... 87% 88,7M 0s\n",
      "  6050K .......... .......... .......... .......... .......... 88% 67,8M 0s\n",
      "  6100K .......... .......... .......... .......... .......... 88%  163M 0s\n",
      "  6150K .......... .......... .......... .......... .......... 89% 77,1M 0s\n",
      "  6200K .......... .......... .......... .......... .......... 90% 55,9M 0s\n",
      "  6250K .......... .......... .......... .......... .......... 91%  102M 0s\n",
      "  6300K .......... .......... .......... .......... .......... 91%  147M 0s\n",
      "  6350K .......... .......... .......... .......... .......... 92% 92,8M 0s\n",
      "  6400K .......... .......... .......... .......... .......... 93% 60,2M 0s\n",
      "  6450K .......... .......... .......... .......... .......... 94%  155M 0s\n",
      "  6500K .......... .......... .......... .......... .......... 94% 54,6M 0s\n",
      "  6550K .......... .......... .......... .......... .......... 95% 66,8M 0s\n",
      "  6600K .......... .......... .......... .......... .......... 96% 66,9M 0s\n",
      "  6650K .......... .......... .......... .......... .......... 96%  158M 0s\n",
      "  6700K .......... .......... .......... .......... .......... 97% 85,1M 0s\n",
      "  6750K .......... .......... .......... .......... .......... 98% 62,2M 0s\n",
      "  6800K .......... .......... .......... .......... .......... 99%  104M 0s\n",
      "  6850K .......... .......... .......... .......... .......... 99%  137M 0s\n",
      "  6900K .......... ..                                         100%  118M=1,0s\n",
      "\n",
      "2021-10-19 11:55:28 (6,52 MB/s) - 'AB_NYC_2019.csv.1' saved [7077973/7077973]\n",
      "\n"
     ]
    }
   ],
   "source": [
    "!wget $data"
   ]
  },
  {
   "cell_type": "code",
   "execution_count": 4,
   "metadata": {},
   "outputs": [],
   "source": [
    "columns = [\n",
    "    'neighbourhood_group', 'room_type', 'latitude', 'longitude',\n",
    "    'minimum_nights', 'number_of_reviews', 'reviews_per_month',\n",
    "    'calculated_host_listings_count', 'availability_365',\n",
    "    'price'\n",
    "]\n",
    "\n",
    "df = pd.read_csv('AB_NYC_2019.csv', usecols=columns)\n",
    "df.reviews_per_month = df.reviews_per_month.fillna(0)"
   ]
  },
  {
   "cell_type": "markdown",
   "metadata": {},
   "source": [
    "* Apply the log tranform to `price`\n",
    "* Do train/validation/test split with 60%/20%/20% distribution. \n",
    "* Use the `train_test_split` function and set the `random_state` parameter to 1"
   ]
  },
  {
   "cell_type": "code",
   "execution_count": 5,
   "metadata": {},
   "outputs": [],
   "source": [
    "from sklearn.model_selection import train_test_split"
   ]
  },
  {
   "cell_type": "code",
   "execution_count": 6,
   "metadata": {},
   "outputs": [],
   "source": [
    "SEED = 1"
   ]
  },
  {
   "cell_type": "code",
   "execution_count": 7,
   "metadata": {},
   "outputs": [],
   "source": [
    "df_full_train, df_test = train_test_split(df, test_size=0.2, random_state=SEED)\n",
    "df_train, df_val = train_test_split(df_full_train, test_size=0.25, random_state=SEED)\n",
    "\n",
    "df_train = df_train.reset_index(drop=True)\n",
    "df_val = df_val.reset_index(drop=True)\n",
    "df_test = df_test.reset_index(drop=True)\n",
    "\n",
    "y_train = np.log1p(df_train.price.values)\n",
    "y_val = np.log1p(df_val.price.values)\n",
    "y_test = np.log1p(df_test.price.values)\n",
    "\n",
    "del df_train['price']\n",
    "del df_val['price']\n",
    "del df_test['price']\n",
    "\n",
    "assert df.shape[0] == df_train.shape[0] + df_val.shape[0] + df_test.shape[0]"
   ]
  },
  {
   "cell_type": "code",
   "execution_count": 8,
   "metadata": {},
   "outputs": [
    {
     "data": {
      "text/html": [
       "<div>\n",
       "<style scoped>\n",
       "    .dataframe tbody tr th:only-of-type {\n",
       "        vertical-align: middle;\n",
       "    }\n",
       "\n",
       "    .dataframe tbody tr th {\n",
       "        vertical-align: top;\n",
       "    }\n",
       "\n",
       "    .dataframe thead th {\n",
       "        text-align: right;\n",
       "    }\n",
       "</style>\n",
       "<table border=\"1\" class=\"dataframe\">\n",
       "  <thead>\n",
       "    <tr style=\"text-align: right;\">\n",
       "      <th></th>\n",
       "      <th>neighbourhood_group</th>\n",
       "      <th>latitude</th>\n",
       "      <th>longitude</th>\n",
       "      <th>room_type</th>\n",
       "      <th>minimum_nights</th>\n",
       "      <th>number_of_reviews</th>\n",
       "      <th>reviews_per_month</th>\n",
       "      <th>calculated_host_listings_count</th>\n",
       "      <th>availability_365</th>\n",
       "    </tr>\n",
       "  </thead>\n",
       "  <tbody>\n",
       "    <tr>\n",
       "      <th>0</th>\n",
       "      <td>Queens</td>\n",
       "      <td>40.76434</td>\n",
       "      <td>-73.92132</td>\n",
       "      <td>Entire home/apt</td>\n",
       "      <td>4</td>\n",
       "      <td>30</td>\n",
       "      <td>0.32</td>\n",
       "      <td>1</td>\n",
       "      <td>363</td>\n",
       "    </tr>\n",
       "    <tr>\n",
       "      <th>1</th>\n",
       "      <td>Brooklyn</td>\n",
       "      <td>40.73442</td>\n",
       "      <td>-73.95854</td>\n",
       "      <td>Private room</td>\n",
       "      <td>5</td>\n",
       "      <td>2</td>\n",
       "      <td>0.16</td>\n",
       "      <td>1</td>\n",
       "      <td>0</td>\n",
       "    </tr>\n",
       "    <tr>\n",
       "      <th>2</th>\n",
       "      <td>Brooklyn</td>\n",
       "      <td>40.66359</td>\n",
       "      <td>-73.99487</td>\n",
       "      <td>Entire home/apt</td>\n",
       "      <td>1</td>\n",
       "      <td>33</td>\n",
       "      <td>2.75</td>\n",
       "      <td>5</td>\n",
       "      <td>113</td>\n",
       "    </tr>\n",
       "    <tr>\n",
       "      <th>3</th>\n",
       "      <td>Brooklyn</td>\n",
       "      <td>40.63766</td>\n",
       "      <td>-74.02626</td>\n",
       "      <td>Private room</td>\n",
       "      <td>3</td>\n",
       "      <td>1</td>\n",
       "      <td>0.12</td>\n",
       "      <td>2</td>\n",
       "      <td>362</td>\n",
       "    </tr>\n",
       "    <tr>\n",
       "      <th>4</th>\n",
       "      <td>Brooklyn</td>\n",
       "      <td>40.65118</td>\n",
       "      <td>-74.00842</td>\n",
       "      <td>Private room</td>\n",
       "      <td>2</td>\n",
       "      <td>0</td>\n",
       "      <td>0.00</td>\n",
       "      <td>2</td>\n",
       "      <td>365</td>\n",
       "    </tr>\n",
       "  </tbody>\n",
       "</table>\n",
       "</div>"
      ],
      "text/plain": [
       "  neighbourhood_group  latitude  longitude        room_type  minimum_nights  \\\n",
       "0              Queens  40.76434  -73.92132  Entire home/apt               4   \n",
       "1            Brooklyn  40.73442  -73.95854     Private room               5   \n",
       "2            Brooklyn  40.66359  -73.99487  Entire home/apt               1   \n",
       "3            Brooklyn  40.63766  -74.02626     Private room               3   \n",
       "4            Brooklyn  40.65118  -74.00842     Private room               2   \n",
       "\n",
       "   number_of_reviews  reviews_per_month  calculated_host_listings_count  \\\n",
       "0                 30               0.32                               1   \n",
       "1                  2               0.16                               1   \n",
       "2                 33               2.75                               5   \n",
       "3                  1               0.12                               2   \n",
       "4                  0               0.00                               2   \n",
       "\n",
       "   availability_365  \n",
       "0               363  \n",
       "1                 0  \n",
       "2               113  \n",
       "3               362  \n",
       "4               365  "
      ]
     },
     "execution_count": 8,
     "metadata": {},
     "output_type": "execute_result"
    }
   ],
   "source": [
    "df_train.head()"
   ]
  },
  {
   "cell_type": "markdown",
   "metadata": {},
   "source": [
    "Now, use `DictVectorizer` to turn train and validation into matrices:"
   ]
  },
  {
   "cell_type": "code",
   "execution_count": 9,
   "metadata": {},
   "outputs": [],
   "source": [
    "from sklearn.feature_extraction import DictVectorizer"
   ]
  },
  {
   "cell_type": "code",
   "execution_count": 10,
   "metadata": {},
   "outputs": [],
   "source": [
    "dv = DictVectorizer(sparse=False)"
   ]
  },
  {
   "cell_type": "code",
   "execution_count": 11,
   "metadata": {},
   "outputs": [],
   "source": [
    "train_dicts = df_train.to_dict(orient='records')\n",
    "val_dicts = df_val.to_dict(orient='records')\n",
    "\n",
    "X_train = dv.fit_transform(train_dicts)\n",
    "X_val = dv.transform(val_dicts)"
   ]
  },
  {
   "cell_type": "markdown",
   "metadata": {},
   "source": [
    "## Question 1\n",
    "\n",
    "Let's train a decision tree regressor to predict the price variable. \n",
    "\n",
    "* Train a model with `max_depth=1`"
   ]
  },
  {
   "cell_type": "code",
   "execution_count": 12,
   "metadata": {},
   "outputs": [],
   "source": [
    "from sklearn import tree\n",
    "from sklearn.tree import DecisionTreeRegressor, export_text"
   ]
  },
  {
   "cell_type": "code",
   "execution_count": 13,
   "metadata": {},
   "outputs": [
    {
     "data": {
      "text/plain": [
       "DecisionTreeRegressor(max_depth=1)"
      ]
     },
     "execution_count": 13,
     "metadata": {},
     "output_type": "execute_result"
    }
   ],
   "source": [
    "dt = DecisionTreeRegressor(max_depth=1)\n",
    "dt.fit(X_train, y_train)"
   ]
  },
  {
   "cell_type": "code",
   "execution_count": 14,
   "metadata": {},
   "outputs": [
    {
     "name": "stdout",
     "output_type": "stream",
     "text": [
      "|--- room_type=Entire home/apt <= 0.50\n",
      "|   |--- value: [4.29]\n",
      "|--- room_type=Entire home/apt >  0.50\n",
      "|   |--- value: [5.15]\n",
      "\n"
     ]
    }
   ],
   "source": [
    "print(export_text(dt, feature_names=dv.get_feature_names()))"
   ]
  },
  {
   "cell_type": "code",
   "execution_count": 15,
   "metadata": {},
   "outputs": [
    {
     "data": {
      "image/png": "[encoded data removed]",
      "text/plain": [
       "<Figure size 432x288 with 1 Axes>"
      ]
     },
     "metadata": {
      "needs_background": "light"
     },
     "output_type": "display_data"
    }
   ],
   "source": [
    "tree.plot_tree(dt, feature_names=dv.get_feature_names());"
   ]
  },
  {
   "cell_type": "markdown",
   "metadata": {},
   "source": [
    "Which feature is used for splitting the data?\n",
    "\n",
    "* **`room_type`**\n",
    "* `neighbourhood_group`\n",
    "* `number_of_reviews`\n",
    "* `reviews_per_month`"
   ]
  },
  {
   "cell_type": "markdown",
   "metadata": {},
   "source": [
    "## Question 2\n",
    "\n",
    "Train a random forest model with these parameters:\n",
    "\n",
    "* `n_estimators=10`\n",
    "* `random_state=1`\n",
    "* `n_jobs=-1`  (optional - to make training faster)"
   ]
  },
  {
   "cell_type": "code",
   "execution_count": 16,
   "metadata": {},
   "outputs": [],
   "source": [
    "from sklearn.ensemble import RandomForestRegressor\n",
    "from sklearn.metrics import mean_squared_error"
   ]
  },
  {
   "cell_type": "code",
   "execution_count": 17,
   "metadata": {},
   "outputs": [
    {
     "data": {
      "text/plain": [
       "RandomForestRegressor(n_estimators=10, n_jobs=-1, random_state=1)"
      ]
     },
     "execution_count": 17,
     "metadata": {},
     "output_type": "execute_result"
    }
   ],
   "source": [
    "rf = RandomForestRegressor(n_estimators=10, random_state=1, n_jobs=-1)\n",
    "rf.fit(X_train, y_train)"
   ]
  },
  {
   "cell_type": "code",
   "execution_count": 18,
   "metadata": {},
   "outputs": [
    {
     "name": "stdout",
     "output_type": "stream",
     "text": [
      "RMSE = 0.462\n"
     ]
    }
   ],
   "source": [
    "y_pred = rf.predict(X_val)\n",
    "score = mean_squared_error(y_val, y_pred, squared=False)\n",
    "print(f'RMSE = {round(score, 3)}')"
   ]
  },
  {
   "cell_type": "markdown",
   "metadata": {},
   "source": [
    "Choose the closest one."
   ]
  },
  {
   "cell_type": "markdown",
   "metadata": {},
   "source": [
    "What's the RMSE of this model on validation?\n",
    "\n",
    "* 0.059\n",
    "* 0.259\n",
    "* **0.459**\n",
    "* 0.659"
   ]
  },
  {
   "cell_type": "markdown",
   "metadata": {},
   "source": [
    "## Question 3\n",
    "\n",
    "Now let's experiment with the `n_estimators` parameter\n",
    "\n",
    "* Try different values of this parameter from 10 to 200 with step 10\n",
    "* Set `random_state` to `1`\n",
    "* Evaluate the model on the validation dataset"
   ]
  },
  {
   "cell_type": "code",
   "execution_count": 19,
   "metadata": {},
   "outputs": [],
   "source": [
    "from tqdm import tqdm"
   ]
  },
  {
   "cell_type": "code",
   "execution_count": 20,
   "metadata": {},
   "outputs": [
    {
     "name": "stderr",
     "output_type": "stream",
     "text": [
      "100%|██████████████████████████████████████████████████████████████████████████████████| 20/20 [01:52<00:00,  5.62s/it]\n"
     ]
    }
   ],
   "source": [
    "scores = []\n",
    "\n",
    "for n in tqdm(range(10, 201, 10)):\n",
    "    rf = RandomForestRegressor(n_estimators=n, random_state=1, n_jobs=-1)\n",
    "    rf.fit(X_train, y_train)\n",
    "\n",
    "    y_pred = rf.predict(X_val)\n",
    "    rmse = mean_squared_error(y_val, y_pred, squared=False)\n",
    "    \n",
    "    scores.append((n, rmse))"
   ]
  },
  {
   "cell_type": "code",
   "execution_count": 21,
   "metadata": {},
   "outputs": [],
   "source": [
    "df_scores = pd.DataFrame(scores, columns=['n_estimators', 'rmse'])"
   ]
  },
  {
   "cell_type": "code",
   "execution_count": 22,
   "metadata": {},
   "outputs": [
    {
     "data": {
      "image/png": "[encoded data removed]",
      "text/plain": [
       "<Figure size 576x432 with 1 Axes>"
      ]
     },
     "metadata": {
      "needs_background": "light"
     },
     "output_type": "display_data"
    }
   ],
   "source": [
    "plt.figure(figsize=(8, 6))\n",
    "plt.plot(df_scores.n_estimators, df_scores.rmse)\n",
    "plt.vlines(50, 0.438, 0.461, color='red')\n",
    "plt.vlines(70, 0.438, 0.461, color='green')\n",
    "plt.vlines(120, 0.438, 0.461, color='black')\n",
    "plt.xlabel('Estimators number')\n",
    "plt.ylabel('RMSE');"
   ]
  },
  {
   "cell_type": "markdown",
   "metadata": {},
   "source": [
    "After which value of `n_estimators` does RMSE stop improving?\n",
    "\n",
    "- 10\n",
    "- 50\n",
    "- 70\n",
    "- **120**"
   ]
  },
  {
   "cell_type": "markdown",
   "metadata": {},
   "source": [
    "## Question 4\n",
    "\n",
    "Let's select the best `max_depth`:\n",
    "\n",
    "* Try different values of `max_depth`: `[10, 15, 20, 25]`\n",
    "* For each of these values, try different values of `n_estimators` from 10 till 200 (with step 10)\n",
    "* Fix the random seed: `random_state=1`"
   ]
  },
  {
   "cell_type": "code",
   "execution_count": 23,
   "metadata": {},
   "outputs": [],
   "source": [
    "def get_tree_best_params(seed: int) -> pd.DataFrame:\n",
    "    scores = []\n",
    "    for depth in [10, 15, 20, 25]:\n",
    "        for n in tqdm(range(10, 201, 10)):\n",
    "            rf = RandomForestRegressor(n_estimators=n,\n",
    "                                       max_depth=depth,\n",
    "                                       random_state=seed,\n",
    "                                       n_jobs=-1)\n",
    "            rf.fit(X_train, y_train)\n",
    "\n",
    "            y_pred = rf.predict(X_val)\n",
    "            rmse = mean_squared_error(y_val, y_pred, squared=False)\n",
    "\n",
    "            scores.append((depth, n, rmse))\n",
    "            \n",
    "    columns = ['max_depth', 'n_estimators', 'rmse']\n",
    "    return pd.DataFrame(scores, columns=columns)"
   ]
  },
  {
   "cell_type": "code",
   "execution_count": 24,
   "metadata": {},
   "outputs": [
    {
     "name": "stderr",
     "output_type": "stream",
     "text": [
      "100%|██████████████████████████████████████████████████████████████████████████████████| 20/20 [00:58<00:00,  2.92s/it]\n",
      "100%|██████████████████████████████████████████████████████████████████████████████████| 20/20 [01:19<00:00,  3.99s/it]\n",
      "100%|██████████████████████████████████████████████████████████████████████████████████| 20/20 [01:39<00:00,  4.98s/it]\n",
      "100%|██████████████████████████████████████████████████████████████████████████████████| 20/20 [02:00<00:00,  6.01s/it]\n"
     ]
    }
   ],
   "source": [
    "df_scores = get_tree_best_params(seed=1)"
   ]
  },
  {
   "cell_type": "code",
   "execution_count": 25,
   "metadata": {},
   "outputs": [],
   "source": [
    "def plot_tree_rmse(df: pd.DataFrame, depth: list):\n",
    "    plt.figure(figsize=(8, 6))\n",
    "    for d in depth:\n",
    "        df_subset = df_scores[df_scores.max_depth == d]\n",
    "        plt.plot(df_subset.n_estimators, df_subset.rmse,\n",
    "                 label=f'max_depth={d}')\n",
    "\n",
    "    plt.xlabel('Estimators number')\n",
    "    plt.ylabel('RMSE');\n",
    "    plt.legend();"
   ]
  },
  {
   "cell_type": "code",
   "execution_count": 26,
   "metadata": {},
   "outputs": [
    {
     "data": {
      "image/png": "[encoded data removed]",
      "text/plain": [
       "<Figure size 576x432 with 1 Axes>"
      ]
     },
     "metadata": {
      "needs_background": "light"
     },
     "output_type": "display_data"
    }
   ],
   "source": [
    "max_depth = [10, 15, 20, 25]\n",
    "plot_tree_rmse(df_scores, max_depth)"
   ]
  },
  {
   "cell_type": "markdown",
   "metadata": {},
   "source": [
    "What's the best `max_depth`:\n",
    "\n",
    "* 10\n",
    "* **15**\n",
    "* 20\n",
    "* 25\n",
    "\n",
    "Bonus question (not graded):\n",
    "\n",
    "Will the answer be different if we change the seed for the model?"
   ]
  },
  {
   "cell_type": "markdown",
   "metadata": {},
   "source": [
    "Guess, it won't affect. Each tree in our RF trains on the subsample of data. So, as far we increase the number of estimators, as the more stable results we get.\n",
    "\n",
    "Let's check it."
   ]
  },
  {
   "cell_type": "code",
   "execution_count": 27,
   "metadata": {},
   "outputs": [
    {
     "name": "stderr",
     "output_type": "stream",
     "text": [
      "100%|██████████████████████████████████████████████████████████████████████████████████| 20/20 [00:56<00:00,  2.83s/it]\n",
      "100%|██████████████████████████████████████████████████████████████████████████████████| 20/20 [01:19<00:00,  3.97s/it]\n",
      "100%|██████████████████████████████████████████████████████████████████████████████████| 20/20 [01:34<00:00,  4.73s/it]\n",
      "100%|██████████████████████████████████████████████████████████████████████████████████| 20/20 [01:43<00:00,  5.19s/it]\n"
     ]
    }
   ],
   "source": [
    "df_scores = get_tree_best_params(seed=42)"
   ]
  },
  {
   "cell_type": "code",
   "execution_count": 28,
   "metadata": {},
   "outputs": [
    {
     "data": {
      "image/png": "[encoded data removed]",
      "text/plain": [
       "<Figure size 576x432 with 1 Axes>"
      ]
     },
     "metadata": {
      "needs_background": "light"
     },
     "output_type": "display_data"
    }
   ],
   "source": [
    "max_depth = [10, 15, 20, 25]\n",
    "plot_tree_rmse(df_scores, max_depth)"
   ]
  },
  {
   "cell_type": "markdown",
   "metadata": {},
   "source": [
    "## Question 5\n",
    "\n",
    "We can extract feature importance information from tree-based models. \n",
    "\n",
    "At each step of the decision tree learning algorith, it finds the best split. \n",
    "When doint it, we can calculate \"gain\" - the reduction in impurity before and after the split. \n",
    "This gain is quite useful in understanding what are the imporatant features \n",
    "for tree-based models.\n",
    "\n",
    "In Scikit-Learn, tree-based models contain this information in the `feature_importances_` field. \n",
    "\n",
    "For this homework question, we'll find the most important feature:\n",
    "\n",
    "* Train the model with these parametes:\n",
    "    * `n_estimators=10`,\n",
    "    * `max_depth=20`,\n",
    "    * `random_state=1`,\n",
    "    * `n_jobs=-1` (optional)\n",
    "* Get the feature importance information from this model"
   ]
  },
  {
   "cell_type": "code",
   "execution_count": 29,
   "metadata": {},
   "outputs": [
    {
     "data": {
      "text/plain": [
       "RandomForestRegressor(max_depth=20, n_estimators=10, n_jobs=-1, random_state=1)"
      ]
     },
     "execution_count": 29,
     "metadata": {},
     "output_type": "execute_result"
    }
   ],
   "source": [
    "rf = RandomForestRegressor(n_estimators=10,\n",
    "                           max_depth=20,\n",
    "                           random_state=1,\n",
    "                           n_jobs=-1)\n",
    "rf.fit(X_train, y_train)"
   ]
  },
  {
   "cell_type": "code",
   "execution_count": 30,
   "metadata": {},
   "outputs": [
    {
     "data": {
      "text/html": [
       "<div>\n",
       "<style scoped>\n",
       "    .dataframe tbody tr th:only-of-type {\n",
       "        vertical-align: middle;\n",
       "    }\n",
       "\n",
       "    .dataframe tbody tr th {\n",
       "        vertical-align: top;\n",
       "    }\n",
       "\n",
       "    .dataframe thead th {\n",
       "        text-align: right;\n",
       "    }\n",
       "</style>\n",
       "<table border=\"1\" class=\"dataframe\">\n",
       "  <thead>\n",
       "    <tr style=\"text-align: right;\">\n",
       "      <th></th>\n",
       "      <th>feature_names</th>\n",
       "      <th>feature_importance</th>\n",
       "    </tr>\n",
       "  </thead>\n",
       "  <tbody>\n",
       "    <tr>\n",
       "      <th>12</th>\n",
       "      <td>room_type=Entire home/apt</td>\n",
       "      <td>0.391898</td>\n",
       "    </tr>\n",
       "    <tr>\n",
       "      <th>3</th>\n",
       "      <td>longitude</td>\n",
       "      <td>0.154101</td>\n",
       "    </tr>\n",
       "    <tr>\n",
       "      <th>2</th>\n",
       "      <td>latitude</td>\n",
       "      <td>0.152775</td>\n",
       "    </tr>\n",
       "    <tr>\n",
       "      <th>0</th>\n",
       "      <td>availability_365</td>\n",
       "      <td>0.076264</td>\n",
       "    </tr>\n",
       "    <tr>\n",
       "      <th>11</th>\n",
       "      <td>reviews_per_month</td>\n",
       "      <td>0.054430</td>\n",
       "    </tr>\n",
       "    <tr>\n",
       "      <th>4</th>\n",
       "      <td>minimum_nights</td>\n",
       "      <td>0.053252</td>\n",
       "    </tr>\n",
       "    <tr>\n",
       "      <th>10</th>\n",
       "      <td>number_of_reviews</td>\n",
       "      <td>0.041594</td>\n",
       "    </tr>\n",
       "    <tr>\n",
       "      <th>7</th>\n",
       "      <td>neighbourhood_group=Manhattan</td>\n",
       "      <td>0.034047</td>\n",
       "    </tr>\n",
       "    <tr>\n",
       "      <th>1</th>\n",
       "      <td>calculated_host_listings_count</td>\n",
       "      <td>0.030102</td>\n",
       "    </tr>\n",
       "    <tr>\n",
       "      <th>14</th>\n",
       "      <td>room_type=Shared room</td>\n",
       "      <td>0.005023</td>\n",
       "    </tr>\n",
       "    <tr>\n",
       "      <th>13</th>\n",
       "      <td>room_type=Private room</td>\n",
       "      <td>0.004032</td>\n",
       "    </tr>\n",
       "    <tr>\n",
       "      <th>8</th>\n",
       "      <td>neighbourhood_group=Queens</td>\n",
       "      <td>0.001166</td>\n",
       "    </tr>\n",
       "    <tr>\n",
       "      <th>6</th>\n",
       "      <td>neighbourhood_group=Brooklyn</td>\n",
       "      <td>0.000966</td>\n",
       "    </tr>\n",
       "    <tr>\n",
       "      <th>5</th>\n",
       "      <td>neighbourhood_group=Bronx</td>\n",
       "      <td>0.000265</td>\n",
       "    </tr>\n",
       "    <tr>\n",
       "      <th>9</th>\n",
       "      <td>neighbourhood_group=Staten Island</td>\n",
       "      <td>0.000084</td>\n",
       "    </tr>\n",
       "  </tbody>\n",
       "</table>\n",
       "</div>"
      ],
      "text/plain": [
       "                        feature_names  feature_importance\n",
       "12          room_type=Entire home/apt            0.391898\n",
       "3                           longitude            0.154101\n",
       "2                            latitude            0.152775\n",
       "0                    availability_365            0.076264\n",
       "11                  reviews_per_month            0.054430\n",
       "4                      minimum_nights            0.053252\n",
       "10                  number_of_reviews            0.041594\n",
       "7       neighbourhood_group=Manhattan            0.034047\n",
       "1      calculated_host_listings_count            0.030102\n",
       "14              room_type=Shared room            0.005023\n",
       "13             room_type=Private room            0.004032\n",
       "8          neighbourhood_group=Queens            0.001166\n",
       "6        neighbourhood_group=Brooklyn            0.000966\n",
       "5           neighbourhood_group=Bronx            0.000265\n",
       "9   neighbourhood_group=Staten Island            0.000084"
      ]
     },
     "execution_count": 30,
     "metadata": {},
     "output_type": "execute_result"
    }
   ],
   "source": [
    "data = {\n",
    "    'feature_names': dv.get_feature_names(),\n",
    "    'feature_importance': rf.feature_importances_\n",
    "}\n",
    "\n",
    "fi_df = pd.DataFrame(data)\n",
    "fi_df.sort_values(by=['feature_importance'], ascending=False, inplace=True)\n",
    "fi_df"
   ]
  },
  {
   "cell_type": "code",
   "execution_count": 31,
   "metadata": {},
   "outputs": [
    {
     "data": {
      "image/png": "[encoded data removed]",
      "text/plain": [
       "<Figure size 720x504 with 1 Axes>"
      ]
     },
     "metadata": {
      "needs_background": "light"
     },
     "output_type": "display_data"
    }
   ],
   "source": [
    "plt.figure(figsize=(10, 7))\n",
    "sns.barplot(x=fi_df['feature_importance'], y=fi_df['feature_names'])\n",
    "plt.title('Random Forest feature importance')\n",
    "plt.xlabel('Feature importance')\n",
    "plt.ylabel('Feature names');"
   ]
  },
  {
   "cell_type": "markdown",
   "metadata": {},
   "source": [
    "What's the most important feature? \n",
    "\n",
    "* `neighbourhood_group=Manhattan`\n",
    "* **`room_type=Entire home/apt`**\n",
    "* `longitude`\n",
    "* `latitude`"
   ]
  },
  {
   "cell_type": "markdown",
   "metadata": {},
   "source": [
    "## Question 6"
   ]
  },
  {
   "cell_type": "markdown",
   "metadata": {},
   "source": [
    "Now let's train an XGBoost model! For this question, we'll tune the `eta` parameter\n",
    "\n",
    "* Install XGBoost\n",
    "* Create DMatrix for train and validation\n",
    "* Create a watchlist\n",
    "* Train a model with these parameters for 100 rounds:\n",
    "\n",
    "```\n",
    "xgb_params = {\n",
    "    'eta': 0.3, \n",
    "    'max_depth': 6,\n",
    "    'min_child_weight': 1,\n",
    "    \n",
    "    'objective': 'reg:squarederror',\n",
    "    'nthread': 8,\n",
    "    \n",
    "    'seed': 1,\n",
    "    'verbosity': 1,\n",
    "}\n",
    "```"
   ]
  },
  {
   "cell_type": "code",
   "execution_count": 32,
   "metadata": {},
   "outputs": [
    {
     "name": "stdout",
     "output_type": "stream",
     "text": [
      "Requirement already satisfied: xgboost in c:\\users\\timur.kamaliev\\anaconda3\\envs\\ml-zoomcamp\\lib\\site-packages (1.5.0)\n",
      "Requirement already satisfied: scipy in c:\\users\\timur.kamaliev\\anaconda3\\envs\\ml-zoomcamp\\lib\\site-packages (from xgboost) (1.7.1)\n",
      "Requirement already satisfied: numpy in c:\\users\\timur.kamaliev\\anaconda3\\envs\\ml-zoomcamp\\lib\\site-packages (from xgboost) (1.21.2)\n"
     ]
    }
   ],
   "source": [
    "!pip install xgboost"
   ]
  },
  {
   "cell_type": "code",
   "execution_count": 33,
   "metadata": {},
   "outputs": [],
   "source": [
    "import xgboost as xgb"
   ]
  },
  {
   "cell_type": "code",
   "execution_count": 34,
   "metadata": {},
   "outputs": [],
   "source": [
    "features = dv.get_feature_names()\n",
    "dtrain = xgb.DMatrix(X_train, label=y_train, feature_names=features)\n",
    "dval = xgb.DMatrix(X_val, label=y_val, feature_names=features)"
   ]
  },
  {
   "cell_type": "code",
   "execution_count": 35,
   "metadata": {},
   "outputs": [],
   "source": [
    "watchlist = [(dtrain, 'train'), (dval, 'val')]"
   ]
  },
  {
   "cell_type": "code",
   "execution_count": 36,
   "metadata": {},
   "outputs": [],
   "source": [
    "def parse_xgb_output(output):\n",
    "    results = []\n",
    "\n",
    "    for line in output.stdout.strip().split('\\n'):\n",
    "        it_line, train_line, val_line = line.split('\\t')\n",
    "\n",
    "        it = int(it_line.strip('[]'))\n",
    "        train = float(train_line.split(':')[1])\n",
    "        val = float(val_line.split(':')[1])\n",
    "\n",
    "        results.append((it, train, val))\n",
    "    \n",
    "    columns = ['num_iter', 'train_rmse', 'val_rmse']\n",
    "    df_results = pd.DataFrame(results, columns=columns)\n",
    "    return df_results"
   ]
  },
  {
   "cell_type": "code",
   "execution_count": 37,
   "metadata": {},
   "outputs": [],
   "source": [
    "scores = {}"
   ]
  },
  {
   "cell_type": "code",
   "execution_count": 43,
   "metadata": {},
   "outputs": [],
   "source": [
    "%%capture output\n",
    "\n",
    "xgb_params = {\n",
    "    'eta': 0.3, \n",
    "    'max_depth': 6,\n",
    "    'min_child_weight': 1,\n",
    "\n",
    "    'objective': 'reg:squarederror',\n",
    "    'nthread': 8,\n",
    "\n",
    "    'seed': 1,\n",
    "    'verbosity': 1,\n",
    "}\n",
    "\n",
    "model = xgb.train(xgb_params, dtrain, num_boost_round=100,\n",
    "                  verbose_eval=1,\n",
    "                  evals=watchlist)"
   ]
  },
  {
   "cell_type": "markdown",
   "metadata": {},
   "source": [
    "Now change `eta` first to `0.1` and then to `0.01`"
   ]
  },
  {
   "cell_type": "code",
   "execution_count": 44,
   "metadata": {},
   "outputs": [
    {
     "data": {
      "text/plain": [
       "'eta=0.3'"
      ]
     },
     "execution_count": 44,
     "metadata": {},
     "output_type": "execute_result"
    }
   ],
   "source": [
    "key = 'eta=%s' % (xgb_params['eta'])\n",
    "scores[key] = parse_xgb_output(output)\n",
    "key"
   ]
  },
  {
   "cell_type": "code",
   "execution_count": 45,
   "metadata": {},
   "outputs": [
    {
     "data": {
      "image/png": "[encoded data removed]",
      "text/plain": [
       "<Figure size 576x432 with 1 Axes>"
      ]
     },
     "metadata": {
      "needs_background": "light"
     },
     "output_type": "display_data"
    }
   ],
   "source": [
    "plt.figure(figsize=(8, 6))\n",
    "for eta, df_score in scores.items():\n",
    "    plt.plot(df_score.num_iter, df_score.val_rmse, label=eta)\n",
    "\n",
    "plt.xlabel('Iterations')\n",
    "plt.ylabel('RMSE')\n",
    "plt.legend();"
   ]
  },
  {
   "cell_type": "markdown",
   "metadata": {},
   "source": [
    "Which eta leads to the best RMSE score on the validation dataset?\n",
    "\n",
    "* **0.3**\n",
    "* 0.1\n",
    "* 0.01"
   ]
  },
  {
   "cell_type": "markdown",
   "metadata": {},
   "source": [
    "## Submit the results\n",
    "\n",
    "\n",
    "Submit your results here: https://forms.gle/wQgFkYE6CtdDed4w8\n",
    "\n",
    "It's possible that your answers won't match exactly. If it's the case, select the closest one.\n",
    "\n",
    "\n",
    "## Deadline\n",
    "\n",
    "\n",
    "The deadline for submitting is 20 October 2021, 17:00 CET (Wednesday). After that, the form will be closed.\n",
    "\n"
   ]
  }
 ],
 "metadata": {
  "kernelspec": {
   "display_name": "Python 3 (ipykernel)",
   "language": "python",
   "name": "python3"
  },
  "language_info": {
   "codemirror_mode": {
    "name": "ipython",
    "version": 3
   },
   "file_extension": ".py",
   "mimetype": "text/x-python",
   "name": "python",
   "nbconvert_exporter": "python",
   "pygments_lexer": "ipython3",
   "version": "3.8.10"
  }
 },
 "nbformat": 4,
 "nbformat_minor": 2
}
