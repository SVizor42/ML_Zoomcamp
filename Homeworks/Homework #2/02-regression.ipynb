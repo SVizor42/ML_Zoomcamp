{
 "cells": [
  {
   "cell_type": "markdown",
   "id": "651f5370",
   "metadata": {},
   "source": [
    "# Session #2 Homework"
   ]
  },
  {
   "cell_type": "markdown",
   "id": "5fb6abfd",
   "metadata": {},
   "source": [
    "## Dataset"
   ]
  },
  {
   "cell_type": "markdown",
   "id": "0663ec5a",
   "metadata": {},
   "source": [
    "In this homework, we will use the New York City Airbnb Open Data. You can take it from <a href='https://www.kaggle.com/dgomonov/new-york-city-airbnb-open-data?select=AB_NYC_2019.csv'>Kaggle</a> or download from <a href='https://raw.githubusercontent.com/alexeygrigorev/datasets/master/AB_NYC_2019.csv'>here</a> if you don't want to sign up to Kaggle.\n",
    "\n",
    "The goal of this homework is to create a regression model for prediction apartment prices (column `'price'`)."
   ]
  },
  {
   "cell_type": "markdown",
   "id": "b91ba6bb",
   "metadata": {},
   "source": [
    "## EDA"
   ]
  },
  {
   "cell_type": "markdown",
   "id": "97530a72",
   "metadata": {},
   "source": [
    "* Load the data.\n",
    "* Look at the price variable. Does it have a long tail?"
   ]
  },
  {
   "cell_type": "code",
   "execution_count": 1,
   "id": "c33244bf",
   "metadata": {},
   "outputs": [],
   "source": [
    "import numpy as np\n",
    "import pandas as pd\n",
    "\n",
    "import matplotlib.pyplot as plt\n",
    "import seaborn as sns\n",
    "%matplotlib inline"
   ]
  },
  {
   "cell_type": "code",
   "execution_count": 2,
   "id": "65c8b237",
   "metadata": {},
   "outputs": [],
   "source": [
    "df = pd.read_csv(\"data/AB_NYC_2019.csv\")"
   ]
  },
  {
   "cell_type": "code",
   "execution_count": 3,
   "id": "944064c4",
   "metadata": {},
   "outputs": [
    {
     "data": {
      "text/html": [
       "<div>\n",
       "<style scoped>\n",
       "    .dataframe tbody tr th:only-of-type {\n",
       "        vertical-align: middle;\n",
       "    }\n",
       "\n",
       "    .dataframe tbody tr th {\n",
       "        vertical-align: top;\n",
       "    }\n",
       "\n",
       "    .dataframe thead th {\n",
       "        text-align: right;\n",
       "    }\n",
       "</style>\n",
       "<table border=\"1\" class=\"dataframe\">\n",
       "  <thead>\n",
       "    <tr style=\"text-align: right;\">\n",
       "      <th></th>\n",
       "      <th>id</th>\n",
       "      <th>name</th>\n",
       "      <th>host_id</th>\n",
       "      <th>host_name</th>\n",
       "      <th>neighbourhood_group</th>\n",
       "      <th>neighbourhood</th>\n",
       "      <th>latitude</th>\n",
       "      <th>longitude</th>\n",
       "      <th>room_type</th>\n",
       "      <th>price</th>\n",
       "      <th>minimum_nights</th>\n",
       "      <th>number_of_reviews</th>\n",
       "      <th>last_review</th>\n",
       "      <th>reviews_per_month</th>\n",
       "      <th>calculated_host_listings_count</th>\n",
       "      <th>availability_365</th>\n",
       "    </tr>\n",
       "  </thead>\n",
       "  <tbody>\n",
       "    <tr>\n",
       "      <th>0</th>\n",
       "      <td>2539</td>\n",
       "      <td>Clean &amp; quiet apt home by the park</td>\n",
       "      <td>2787</td>\n",
       "      <td>John</td>\n",
       "      <td>Brooklyn</td>\n",
       "      <td>Kensington</td>\n",
       "      <td>40.64749</td>\n",
       "      <td>-73.97237</td>\n",
       "      <td>Private room</td>\n",
       "      <td>149</td>\n",
       "      <td>1</td>\n",
       "      <td>9</td>\n",
       "      <td>2018-10-19</td>\n",
       "      <td>0.21</td>\n",
       "      <td>6</td>\n",
       "      <td>365</td>\n",
       "    </tr>\n",
       "    <tr>\n",
       "      <th>1</th>\n",
       "      <td>2595</td>\n",
       "      <td>Skylit Midtown Castle</td>\n",
       "      <td>2845</td>\n",
       "      <td>Jennifer</td>\n",
       "      <td>Manhattan</td>\n",
       "      <td>Midtown</td>\n",
       "      <td>40.75362</td>\n",
       "      <td>-73.98377</td>\n",
       "      <td>Entire home/apt</td>\n",
       "      <td>225</td>\n",
       "      <td>1</td>\n",
       "      <td>45</td>\n",
       "      <td>2019-05-21</td>\n",
       "      <td>0.38</td>\n",
       "      <td>2</td>\n",
       "      <td>355</td>\n",
       "    </tr>\n",
       "    <tr>\n",
       "      <th>2</th>\n",
       "      <td>3647</td>\n",
       "      <td>THE VILLAGE OF HARLEM....NEW YORK !</td>\n",
       "      <td>4632</td>\n",
       "      <td>Elisabeth</td>\n",
       "      <td>Manhattan</td>\n",
       "      <td>Harlem</td>\n",
       "      <td>40.80902</td>\n",
       "      <td>-73.94190</td>\n",
       "      <td>Private room</td>\n",
       "      <td>150</td>\n",
       "      <td>3</td>\n",
       "      <td>0</td>\n",
       "      <td>NaN</td>\n",
       "      <td>NaN</td>\n",
       "      <td>1</td>\n",
       "      <td>365</td>\n",
       "    </tr>\n",
       "    <tr>\n",
       "      <th>3</th>\n",
       "      <td>3831</td>\n",
       "      <td>Cozy Entire Floor of Brownstone</td>\n",
       "      <td>4869</td>\n",
       "      <td>LisaRoxanne</td>\n",
       "      <td>Brooklyn</td>\n",
       "      <td>Clinton Hill</td>\n",
       "      <td>40.68514</td>\n",
       "      <td>-73.95976</td>\n",
       "      <td>Entire home/apt</td>\n",
       "      <td>89</td>\n",
       "      <td>1</td>\n",
       "      <td>270</td>\n",
       "      <td>2019-07-05</td>\n",
       "      <td>4.64</td>\n",
       "      <td>1</td>\n",
       "      <td>194</td>\n",
       "    </tr>\n",
       "    <tr>\n",
       "      <th>4</th>\n",
       "      <td>5022</td>\n",
       "      <td>Entire Apt: Spacious Studio/Loft by central park</td>\n",
       "      <td>7192</td>\n",
       "      <td>Laura</td>\n",
       "      <td>Manhattan</td>\n",
       "      <td>East Harlem</td>\n",
       "      <td>40.79851</td>\n",
       "      <td>-73.94399</td>\n",
       "      <td>Entire home/apt</td>\n",
       "      <td>80</td>\n",
       "      <td>10</td>\n",
       "      <td>9</td>\n",
       "      <td>2018-11-19</td>\n",
       "      <td>0.10</td>\n",
       "      <td>1</td>\n",
       "      <td>0</td>\n",
       "    </tr>\n",
       "  </tbody>\n",
       "</table>\n",
       "</div>"
      ],
      "text/plain": [
       "     id                                              name  host_id  \\\n",
       "0  2539                Clean & quiet apt home by the park     2787   \n",
       "1  2595                             Skylit Midtown Castle     2845   \n",
       "2  3647               THE VILLAGE OF HARLEM....NEW YORK !     4632   \n",
       "3  3831                   Cozy Entire Floor of Brownstone     4869   \n",
       "4  5022  Entire Apt: Spacious Studio/Loft by central park     7192   \n",
       "\n",
       "     host_name neighbourhood_group neighbourhood  latitude  longitude  \\\n",
       "0         John            Brooklyn    Kensington  40.64749  -73.97237   \n",
       "1     Jennifer           Manhattan       Midtown  40.75362  -73.98377   \n",
       "2    Elisabeth           Manhattan        Harlem  40.80902  -73.94190   \n",
       "3  LisaRoxanne            Brooklyn  Clinton Hill  40.68514  -73.95976   \n",
       "4        Laura           Manhattan   East Harlem  40.79851  -73.94399   \n",
       "\n",
       "         room_type  price  minimum_nights  number_of_reviews last_review  \\\n",
       "0     Private room    149               1                  9  2018-10-19   \n",
       "1  Entire home/apt    225               1                 45  2019-05-21   \n",
       "2     Private room    150               3                  0         NaN   \n",
       "3  Entire home/apt     89               1                270  2019-07-05   \n",
       "4  Entire home/apt     80              10                  9  2018-11-19   \n",
       "\n",
       "   reviews_per_month  calculated_host_listings_count  availability_365  \n",
       "0               0.21                               6               365  \n",
       "1               0.38                               2               355  \n",
       "2                NaN                               1               365  \n",
       "3               4.64                               1               194  \n",
       "4               0.10                               1                 0  "
      ]
     },
     "execution_count": 3,
     "metadata": {},
     "output_type": "execute_result"
    }
   ],
   "source": [
    "df.head()"
   ]
  },
  {
   "cell_type": "code",
   "execution_count": 4,
   "id": "3d0848e7",
   "metadata": {},
   "outputs": [
    {
     "data": {
      "text/plain": [
       "(48895, 16)"
      ]
     },
     "execution_count": 4,
     "metadata": {},
     "output_type": "execute_result"
    }
   ],
   "source": [
    "df.shape"
   ]
  },
  {
   "cell_type": "code",
   "execution_count": 5,
   "id": "b29d6ebe",
   "metadata": {},
   "outputs": [
    {
     "data": {
      "image/png": "[encoded data removed]",
      "text/plain": [
       "<Figure size 648x432 with 1 Axes>"
      ]
     },
     "metadata": {
      "needs_background": "light"
     },
     "output_type": "display_data"
    }
   ],
   "source": [
    "plt.figure(figsize=(9, 6))\n",
    "sns.histplot(df.price, bins=80);"
   ]
  },
  {
   "cell_type": "code",
   "execution_count": 6,
   "id": "600e9a5b",
   "metadata": {},
   "outputs": [
    {
     "data": {
      "image/png": "[encoded data removed]",
      "text/plain": [
       "<Figure size 648x432 with 1 Axes>"
      ]
     },
     "metadata": {
      "needs_background": "light"
     },
     "output_type": "display_data"
    }
   ],
   "source": [
    "plt.figure(figsize=(9, 6))\n",
    "sns.histplot(df.price[df.price < 1000], bins=50);"
   ]
  },
  {
   "cell_type": "markdown",
   "id": "b666ac88",
   "metadata": {},
   "source": [
    "Yes, seems like the price variable has a long tail."
   ]
  },
  {
   "cell_type": "markdown",
   "id": "3538b0f7",
   "metadata": {},
   "source": [
    "## Features"
   ]
  },
  {
   "cell_type": "markdown",
   "id": "5a6da616",
   "metadata": {},
   "source": [
    "For the rest of the homework, you'll need to use only these columns:\n",
    "\n",
    "* `'latitude'`,\n",
    "* `'longitude'`,\n",
    "* `'price'`,\n",
    "* `'minimum_nights'`,\n",
    "* `'number_of_reviews'`,\n",
    "* `'reviews_per_month'`,\n",
    "* `'calculated_host_listings_count'`,\n",
    "* `'availability_365'`\n",
    "\n",
    "Select only them."
   ]
  },
  {
   "cell_type": "code",
   "execution_count": 7,
   "id": "570b7cbf",
   "metadata": {},
   "outputs": [],
   "source": [
    "features = [\n",
    "    'latitude',\n",
    "    'longitude',\n",
    "    'price',\n",
    "    'minimum_nights',\n",
    "    'number_of_reviews',\n",
    "    'reviews_per_month',\n",
    "    'calculated_host_listings_count',\n",
    "    'availability_365'\n",
    "]"
   ]
  },
  {
   "cell_type": "code",
   "execution_count": 8,
   "id": "8bc57301",
   "metadata": {},
   "outputs": [
    {
     "data": {
      "text/html": [
       "<div>\n",
       "<style scoped>\n",
       "    .dataframe tbody tr th:only-of-type {\n",
       "        vertical-align: middle;\n",
       "    }\n",
       "\n",
       "    .dataframe tbody tr th {\n",
       "        vertical-align: top;\n",
       "    }\n",
       "\n",
       "    .dataframe thead th {\n",
       "        text-align: right;\n",
       "    }\n",
       "</style>\n",
       "<table border=\"1\" class=\"dataframe\">\n",
       "  <thead>\n",
       "    <tr style=\"text-align: right;\">\n",
       "      <th></th>\n",
       "      <th>latitude</th>\n",
       "      <th>longitude</th>\n",
       "      <th>price</th>\n",
       "      <th>minimum_nights</th>\n",
       "      <th>number_of_reviews</th>\n",
       "      <th>reviews_per_month</th>\n",
       "      <th>calculated_host_listings_count</th>\n",
       "      <th>availability_365</th>\n",
       "    </tr>\n",
       "  </thead>\n",
       "  <tbody>\n",
       "    <tr>\n",
       "      <th>0</th>\n",
       "      <td>40.64749</td>\n",
       "      <td>-73.97237</td>\n",
       "      <td>149</td>\n",
       "      <td>1</td>\n",
       "      <td>9</td>\n",
       "      <td>0.21</td>\n",
       "      <td>6</td>\n",
       "      <td>365</td>\n",
       "    </tr>\n",
       "    <tr>\n",
       "      <th>1</th>\n",
       "      <td>40.75362</td>\n",
       "      <td>-73.98377</td>\n",
       "      <td>225</td>\n",
       "      <td>1</td>\n",
       "      <td>45</td>\n",
       "      <td>0.38</td>\n",
       "      <td>2</td>\n",
       "      <td>355</td>\n",
       "    </tr>\n",
       "    <tr>\n",
       "      <th>2</th>\n",
       "      <td>40.80902</td>\n",
       "      <td>-73.94190</td>\n",
       "      <td>150</td>\n",
       "      <td>3</td>\n",
       "      <td>0</td>\n",
       "      <td>NaN</td>\n",
       "      <td>1</td>\n",
       "      <td>365</td>\n",
       "    </tr>\n",
       "    <tr>\n",
       "      <th>3</th>\n",
       "      <td>40.68514</td>\n",
       "      <td>-73.95976</td>\n",
       "      <td>89</td>\n",
       "      <td>1</td>\n",
       "      <td>270</td>\n",
       "      <td>4.64</td>\n",
       "      <td>1</td>\n",
       "      <td>194</td>\n",
       "    </tr>\n",
       "    <tr>\n",
       "      <th>4</th>\n",
       "      <td>40.79851</td>\n",
       "      <td>-73.94399</td>\n",
       "      <td>80</td>\n",
       "      <td>10</td>\n",
       "      <td>9</td>\n",
       "      <td>0.10</td>\n",
       "      <td>1</td>\n",
       "      <td>0</td>\n",
       "    </tr>\n",
       "    <tr>\n",
       "      <th>...</th>\n",
       "      <td>...</td>\n",
       "      <td>...</td>\n",
       "      <td>...</td>\n",
       "      <td>...</td>\n",
       "      <td>...</td>\n",
       "      <td>...</td>\n",
       "      <td>...</td>\n",
       "      <td>...</td>\n",
       "    </tr>\n",
       "    <tr>\n",
       "      <th>48890</th>\n",
       "      <td>40.67853</td>\n",
       "      <td>-73.94995</td>\n",
       "      <td>70</td>\n",
       "      <td>2</td>\n",
       "      <td>0</td>\n",
       "      <td>NaN</td>\n",
       "      <td>2</td>\n",
       "      <td>9</td>\n",
       "    </tr>\n",
       "    <tr>\n",
       "      <th>48891</th>\n",
       "      <td>40.70184</td>\n",
       "      <td>-73.93317</td>\n",
       "      <td>40</td>\n",
       "      <td>4</td>\n",
       "      <td>0</td>\n",
       "      <td>NaN</td>\n",
       "      <td>2</td>\n",
       "      <td>36</td>\n",
       "    </tr>\n",
       "    <tr>\n",
       "      <th>48892</th>\n",
       "      <td>40.81475</td>\n",
       "      <td>-73.94867</td>\n",
       "      <td>115</td>\n",
       "      <td>10</td>\n",
       "      <td>0</td>\n",
       "      <td>NaN</td>\n",
       "      <td>1</td>\n",
       "      <td>27</td>\n",
       "    </tr>\n",
       "    <tr>\n",
       "      <th>48893</th>\n",
       "      <td>40.75751</td>\n",
       "      <td>-73.99112</td>\n",
       "      <td>55</td>\n",
       "      <td>1</td>\n",
       "      <td>0</td>\n",
       "      <td>NaN</td>\n",
       "      <td>6</td>\n",
       "      <td>2</td>\n",
       "    </tr>\n",
       "    <tr>\n",
       "      <th>48894</th>\n",
       "      <td>40.76404</td>\n",
       "      <td>-73.98933</td>\n",
       "      <td>90</td>\n",
       "      <td>7</td>\n",
       "      <td>0</td>\n",
       "      <td>NaN</td>\n",
       "      <td>1</td>\n",
       "      <td>23</td>\n",
       "    </tr>\n",
       "  </tbody>\n",
       "</table>\n",
       "<p>48895 rows × 8 columns</p>\n",
       "</div>"
      ],
      "text/plain": [
       "       latitude  longitude  price  minimum_nights  number_of_reviews  \\\n",
       "0      40.64749  -73.97237    149               1                  9   \n",
       "1      40.75362  -73.98377    225               1                 45   \n",
       "2      40.80902  -73.94190    150               3                  0   \n",
       "3      40.68514  -73.95976     89               1                270   \n",
       "4      40.79851  -73.94399     80              10                  9   \n",
       "...         ...        ...    ...             ...                ...   \n",
       "48890  40.67853  -73.94995     70               2                  0   \n",
       "48891  40.70184  -73.93317     40               4                  0   \n",
       "48892  40.81475  -73.94867    115              10                  0   \n",
       "48893  40.75751  -73.99112     55               1                  0   \n",
       "48894  40.76404  -73.98933     90               7                  0   \n",
       "\n",
       "       reviews_per_month  calculated_host_listings_count  availability_365  \n",
       "0                   0.21                               6               365  \n",
       "1                   0.38                               2               355  \n",
       "2                    NaN                               1               365  \n",
       "3                   4.64                               1               194  \n",
       "4                   0.10                               1                 0  \n",
       "...                  ...                             ...               ...  \n",
       "48890                NaN                               2                 9  \n",
       "48891                NaN                               2                36  \n",
       "48892                NaN                               1                27  \n",
       "48893                NaN                               6                 2  \n",
       "48894                NaN                               1                23  \n",
       "\n",
       "[48895 rows x 8 columns]"
      ]
     },
     "execution_count": 8,
     "metadata": {},
     "output_type": "execute_result"
    }
   ],
   "source": [
    "df = df[features]\n",
    "df"
   ]
  },
  {
   "cell_type": "markdown",
   "id": "59ce8a67",
   "metadata": {},
   "source": [
    "## Question 1"
   ]
  },
  {
   "cell_type": "markdown",
   "id": "10d2ebd1",
   "metadata": {},
   "source": [
    "Find a feature with missing values. How many missing values does it have?"
   ]
  },
  {
   "cell_type": "code",
   "execution_count": 9,
   "id": "f645b508",
   "metadata": {},
   "outputs": [
    {
     "data": {
      "text/plain": [
       "latitude                              0\n",
       "longitude                             0\n",
       "price                                 0\n",
       "minimum_nights                        0\n",
       "number_of_reviews                     0\n",
       "reviews_per_month                 10052\n",
       "calculated_host_listings_count        0\n",
       "availability_365                      0\n",
       "dtype: int64"
      ]
     },
     "execution_count": 9,
     "metadata": {},
     "output_type": "execute_result"
    }
   ],
   "source": [
    "df.isnull().sum()"
   ]
  },
  {
   "cell_type": "markdown",
   "id": "de8d8c23",
   "metadata": {},
   "source": [
    "## Question 2"
   ]
  },
  {
   "cell_type": "markdown",
   "id": "b1dafe91",
   "metadata": {},
   "source": [
    "What's the median (50% percentile) for variable `'minimum_nights'`?"
   ]
  },
  {
   "cell_type": "markdown",
   "id": "df0f385a",
   "metadata": {},
   "source": [
    "df.describe().T"
   ]
  },
  {
   "cell_type": "code",
   "execution_count": 10,
   "id": "8a35fe39",
   "metadata": {},
   "outputs": [
    {
     "data": {
      "text/plain": [
       "3.0"
      ]
     },
     "execution_count": 10,
     "metadata": {},
     "output_type": "execute_result"
    }
   ],
   "source": [
    "df['minimum_nights'].median()"
   ]
  },
  {
   "cell_type": "markdown",
   "id": "b7ab0dd5",
   "metadata": {},
   "source": [
    "## Split the data"
   ]
  },
  {
   "cell_type": "markdown",
   "id": "437c09ea",
   "metadata": {},
   "source": [
    "* Shuffle the initial dataset, use seed `42`.\n",
    "* Split your data in train/val/test sets, with 60%/20%/20% distribution.\n",
    "* Make sure that the target value (`'price'`) is not in your dataframe.\n",
    "* Apply the log transformation to the price variable using the `np.log1p()` function."
   ]
  },
  {
   "cell_type": "code",
   "execution_count": 11,
   "id": "80ba7544",
   "metadata": {},
   "outputs": [],
   "source": [
    "SEED = 42"
   ]
  },
  {
   "cell_type": "code",
   "execution_count": 12,
   "id": "fb00f7a0",
   "metadata": {},
   "outputs": [
    {
     "name": "stdout",
     "output_type": "stream",
     "text": [
      "48895 29337 9779 9779\n"
     ]
    }
   ],
   "source": [
    "n = len(df)\n",
    "n_val = int(n * 0.2)\n",
    "n_test = int(n * 0.2)\n",
    "n_train = n - n_val - n_test\n",
    "print(n, n_train, n_val, n_test)\n",
    "\n",
    "assert n == (n_train + n_val + n_test)"
   ]
  },
  {
   "cell_type": "code",
   "execution_count": 13,
   "id": "710a490e",
   "metadata": {},
   "outputs": [],
   "source": [
    "idx = np.arange(n)"
   ]
  },
  {
   "cell_type": "code",
   "execution_count": 14,
   "id": "b2c53771",
   "metadata": {},
   "outputs": [],
   "source": [
    "np.random.seed(seed=SEED)\n",
    "np.random.shuffle(idx)"
   ]
  },
  {
   "cell_type": "code",
   "execution_count": 15,
   "id": "bc745259",
   "metadata": {},
   "outputs": [],
   "source": [
    "df_train = df.iloc[idx[:n_train]]\n",
    "df_val = df.iloc[idx[n_train:n_train+n_val]]\n",
    "df_test = df.iloc[idx[n_train+n_val:]]"
   ]
  },
  {
   "cell_type": "code",
   "execution_count": 16,
   "id": "18c65717",
   "metadata": {},
   "outputs": [
    {
     "data": {
      "text/plain": [
       "(29337, 9779, 9779)"
      ]
     },
     "execution_count": 16,
     "metadata": {},
     "output_type": "execute_result"
    }
   ],
   "source": [
    "len(df_train), len(df_val), len(df_test)"
   ]
  },
  {
   "cell_type": "code",
   "execution_count": 17,
   "id": "131738d4",
   "metadata": {},
   "outputs": [
    {
     "data": {
      "text/html": [
       "<div>\n",
       "<style scoped>\n",
       "    .dataframe tbody tr th:only-of-type {\n",
       "        vertical-align: middle;\n",
       "    }\n",
       "\n",
       "    .dataframe tbody tr th {\n",
       "        vertical-align: top;\n",
       "    }\n",
       "\n",
       "    .dataframe thead th {\n",
       "        text-align: right;\n",
       "    }\n",
       "</style>\n",
       "<table border=\"1\" class=\"dataframe\">\n",
       "  <thead>\n",
       "    <tr style=\"text-align: right;\">\n",
       "      <th></th>\n",
       "      <th>latitude</th>\n",
       "      <th>longitude</th>\n",
       "      <th>price</th>\n",
       "      <th>minimum_nights</th>\n",
       "      <th>number_of_reviews</th>\n",
       "      <th>reviews_per_month</th>\n",
       "      <th>calculated_host_listings_count</th>\n",
       "      <th>availability_365</th>\n",
       "    </tr>\n",
       "  </thead>\n",
       "  <tbody>\n",
       "    <tr>\n",
       "      <th>879</th>\n",
       "      <td>40.64354</td>\n",
       "      <td>-73.97777</td>\n",
       "      <td>89</td>\n",
       "      <td>3</td>\n",
       "      <td>62</td>\n",
       "      <td>0.71</td>\n",
       "      <td>1</td>\n",
       "      <td>189</td>\n",
       "    </tr>\n",
       "    <tr>\n",
       "      <th>44383</th>\n",
       "      <td>40.70666</td>\n",
       "      <td>-73.90779</td>\n",
       "      <td>30</td>\n",
       "      <td>21</td>\n",
       "      <td>0</td>\n",
       "      <td>NaN</td>\n",
       "      <td>1</td>\n",
       "      <td>73</td>\n",
       "    </tr>\n",
       "    <tr>\n",
       "      <th>15394</th>\n",
       "      <td>40.76116</td>\n",
       "      <td>-73.99016</td>\n",
       "      <td>120</td>\n",
       "      <td>2</td>\n",
       "      <td>17</td>\n",
       "      <td>0.43</td>\n",
       "      <td>1</td>\n",
       "      <td>0</td>\n",
       "    </tr>\n",
       "    <tr>\n",
       "      <th>43230</th>\n",
       "      <td>40.70763</td>\n",
       "      <td>-74.01050</td>\n",
       "      <td>470</td>\n",
       "      <td>2</td>\n",
       "      <td>5</td>\n",
       "      <td>1.88</td>\n",
       "      <td>327</td>\n",
       "      <td>272</td>\n",
       "    </tr>\n",
       "    <tr>\n",
       "      <th>16332</th>\n",
       "      <td>40.79658</td>\n",
       "      <td>-73.93287</td>\n",
       "      <td>199</td>\n",
       "      <td>2</td>\n",
       "      <td>30</td>\n",
       "      <td>0.80</td>\n",
       "      <td>1</td>\n",
       "      <td>30</td>\n",
       "    </tr>\n",
       "  </tbody>\n",
       "</table>\n",
       "</div>"
      ],
      "text/plain": [
       "       latitude  longitude  price  minimum_nights  number_of_reviews  \\\n",
       "879    40.64354  -73.97777     89               3                 62   \n",
       "44383  40.70666  -73.90779     30              21                  0   \n",
       "15394  40.76116  -73.99016    120               2                 17   \n",
       "43230  40.70763  -74.01050    470               2                  5   \n",
       "16332  40.79658  -73.93287    199               2                 30   \n",
       "\n",
       "       reviews_per_month  calculated_host_listings_count  availability_365  \n",
       "879                 0.71                               1               189  \n",
       "44383                NaN                               1                73  \n",
       "15394               0.43                               1                 0  \n",
       "43230               1.88                             327               272  \n",
       "16332               0.80                               1                30  "
      ]
     },
     "execution_count": 17,
     "metadata": {},
     "output_type": "execute_result"
    }
   ],
   "source": [
    "df_train.head()"
   ]
  },
  {
   "cell_type": "code",
   "execution_count": 18,
   "id": "799454d9",
   "metadata": {},
   "outputs": [],
   "source": [
    "df_train = df_train.reset_index(drop=True)\n",
    "df_val = df_val.reset_index(drop=True)\n",
    "df_test = df_test.reset_index(drop=True)"
   ]
  },
  {
   "cell_type": "code",
   "execution_count": 19,
   "id": "d53491d9",
   "metadata": {},
   "outputs": [
    {
     "data": {
      "text/html": [
       "<div>\n",
       "<style scoped>\n",
       "    .dataframe tbody tr th:only-of-type {\n",
       "        vertical-align: middle;\n",
       "    }\n",
       "\n",
       "    .dataframe tbody tr th {\n",
       "        vertical-align: top;\n",
       "    }\n",
       "\n",
       "    .dataframe thead th {\n",
       "        text-align: right;\n",
       "    }\n",
       "</style>\n",
       "<table border=\"1\" class=\"dataframe\">\n",
       "  <thead>\n",
       "    <tr style=\"text-align: right;\">\n",
       "      <th></th>\n",
       "      <th>latitude</th>\n",
       "      <th>longitude</th>\n",
       "      <th>price</th>\n",
       "      <th>minimum_nights</th>\n",
       "      <th>number_of_reviews</th>\n",
       "      <th>reviews_per_month</th>\n",
       "      <th>calculated_host_listings_count</th>\n",
       "      <th>availability_365</th>\n",
       "    </tr>\n",
       "  </thead>\n",
       "  <tbody>\n",
       "    <tr>\n",
       "      <th>0</th>\n",
       "      <td>40.64354</td>\n",
       "      <td>-73.97777</td>\n",
       "      <td>89</td>\n",
       "      <td>3</td>\n",
       "      <td>62</td>\n",
       "      <td>0.71</td>\n",
       "      <td>1</td>\n",
       "      <td>189</td>\n",
       "    </tr>\n",
       "    <tr>\n",
       "      <th>1</th>\n",
       "      <td>40.70666</td>\n",
       "      <td>-73.90779</td>\n",
       "      <td>30</td>\n",
       "      <td>21</td>\n",
       "      <td>0</td>\n",
       "      <td>NaN</td>\n",
       "      <td>1</td>\n",
       "      <td>73</td>\n",
       "    </tr>\n",
       "    <tr>\n",
       "      <th>2</th>\n",
       "      <td>40.76116</td>\n",
       "      <td>-73.99016</td>\n",
       "      <td>120</td>\n",
       "      <td>2</td>\n",
       "      <td>17</td>\n",
       "      <td>0.43</td>\n",
       "      <td>1</td>\n",
       "      <td>0</td>\n",
       "    </tr>\n",
       "    <tr>\n",
       "      <th>3</th>\n",
       "      <td>40.70763</td>\n",
       "      <td>-74.01050</td>\n",
       "      <td>470</td>\n",
       "      <td>2</td>\n",
       "      <td>5</td>\n",
       "      <td>1.88</td>\n",
       "      <td>327</td>\n",
       "      <td>272</td>\n",
       "    </tr>\n",
       "    <tr>\n",
       "      <th>4</th>\n",
       "      <td>40.79658</td>\n",
       "      <td>-73.93287</td>\n",
       "      <td>199</td>\n",
       "      <td>2</td>\n",
       "      <td>30</td>\n",
       "      <td>0.80</td>\n",
       "      <td>1</td>\n",
       "      <td>30</td>\n",
       "    </tr>\n",
       "  </tbody>\n",
       "</table>\n",
       "</div>"
      ],
      "text/plain": [
       "   latitude  longitude  price  minimum_nights  number_of_reviews  \\\n",
       "0  40.64354  -73.97777     89               3                 62   \n",
       "1  40.70666  -73.90779     30              21                  0   \n",
       "2  40.76116  -73.99016    120               2                 17   \n",
       "3  40.70763  -74.01050    470               2                  5   \n",
       "4  40.79658  -73.93287    199               2                 30   \n",
       "\n",
       "   reviews_per_month  calculated_host_listings_count  availability_365  \n",
       "0               0.71                               1               189  \n",
       "1                NaN                               1                73  \n",
       "2               0.43                               1                 0  \n",
       "3               1.88                             327               272  \n",
       "4               0.80                               1                30  "
      ]
     },
     "execution_count": 19,
     "metadata": {},
     "output_type": "execute_result"
    }
   ],
   "source": [
    "df_train.head()"
   ]
  },
  {
   "cell_type": "code",
   "execution_count": 20,
   "id": "a147e642",
   "metadata": {},
   "outputs": [],
   "source": [
    "y_train = np.log1p(df_train.price.values)\n",
    "y_val = np.log1p(df_val.price.values)\n",
    "y_test = np.log1p(df_test.price.values)"
   ]
  },
  {
   "cell_type": "code",
   "execution_count": 21,
   "id": "af2380b9",
   "metadata": {},
   "outputs": [],
   "source": [
    "del df_train['price'], df_val['price'], df_test['price']"
   ]
  },
  {
   "cell_type": "code",
   "execution_count": 22,
   "id": "16dff239",
   "metadata": {},
   "outputs": [
    {
     "data": {
      "text/html": [
       "<div>\n",
       "<style scoped>\n",
       "    .dataframe tbody tr th:only-of-type {\n",
       "        vertical-align: middle;\n",
       "    }\n",
       "\n",
       "    .dataframe tbody tr th {\n",
       "        vertical-align: top;\n",
       "    }\n",
       "\n",
       "    .dataframe thead th {\n",
       "        text-align: right;\n",
       "    }\n",
       "</style>\n",
       "<table border=\"1\" class=\"dataframe\">\n",
       "  <thead>\n",
       "    <tr style=\"text-align: right;\">\n",
       "      <th></th>\n",
       "      <th>latitude</th>\n",
       "      <th>longitude</th>\n",
       "      <th>minimum_nights</th>\n",
       "      <th>number_of_reviews</th>\n",
       "      <th>reviews_per_month</th>\n",
       "      <th>calculated_host_listings_count</th>\n",
       "      <th>availability_365</th>\n",
       "    </tr>\n",
       "  </thead>\n",
       "  <tbody>\n",
       "    <tr>\n",
       "      <th>0</th>\n",
       "      <td>40.64354</td>\n",
       "      <td>-73.97777</td>\n",
       "      <td>3</td>\n",
       "      <td>62</td>\n",
       "      <td>0.71</td>\n",
       "      <td>1</td>\n",
       "      <td>189</td>\n",
       "    </tr>\n",
       "    <tr>\n",
       "      <th>1</th>\n",
       "      <td>40.70666</td>\n",
       "      <td>-73.90779</td>\n",
       "      <td>21</td>\n",
       "      <td>0</td>\n",
       "      <td>NaN</td>\n",
       "      <td>1</td>\n",
       "      <td>73</td>\n",
       "    </tr>\n",
       "    <tr>\n",
       "      <th>2</th>\n",
       "      <td>40.76116</td>\n",
       "      <td>-73.99016</td>\n",
       "      <td>2</td>\n",
       "      <td>17</td>\n",
       "      <td>0.43</td>\n",
       "      <td>1</td>\n",
       "      <td>0</td>\n",
       "    </tr>\n",
       "    <tr>\n",
       "      <th>3</th>\n",
       "      <td>40.70763</td>\n",
       "      <td>-74.01050</td>\n",
       "      <td>2</td>\n",
       "      <td>5</td>\n",
       "      <td>1.88</td>\n",
       "      <td>327</td>\n",
       "      <td>272</td>\n",
       "    </tr>\n",
       "    <tr>\n",
       "      <th>4</th>\n",
       "      <td>40.79658</td>\n",
       "      <td>-73.93287</td>\n",
       "      <td>2</td>\n",
       "      <td>30</td>\n",
       "      <td>0.80</td>\n",
       "      <td>1</td>\n",
       "      <td>30</td>\n",
       "    </tr>\n",
       "  </tbody>\n",
       "</table>\n",
       "</div>"
      ],
      "text/plain": [
       "   latitude  longitude  minimum_nights  number_of_reviews  reviews_per_month  \\\n",
       "0  40.64354  -73.97777               3                 62               0.71   \n",
       "1  40.70666  -73.90779              21                  0                NaN   \n",
       "2  40.76116  -73.99016               2                 17               0.43   \n",
       "3  40.70763  -74.01050               2                  5               1.88   \n",
       "4  40.79658  -73.93287               2                 30               0.80   \n",
       "\n",
       "   calculated_host_listings_count  availability_365  \n",
       "0                               1               189  \n",
       "1                               1                73  \n",
       "2                               1                 0  \n",
       "3                             327               272  \n",
       "4                               1                30  "
      ]
     },
     "execution_count": 22,
     "metadata": {},
     "output_type": "execute_result"
    }
   ],
   "source": [
    "df_train.head()"
   ]
  },
  {
   "cell_type": "code",
   "execution_count": 23,
   "id": "9d128b76",
   "metadata": {},
   "outputs": [
    {
     "data": {
      "text/plain": [
       "array([4.49980967, 3.4339872 , 4.79579055, ..., 4.61512052, 4.2341065 ,\n",
       "       3.8286414 ])"
      ]
     },
     "execution_count": 23,
     "metadata": {},
     "output_type": "execute_result"
    }
   ],
   "source": [
    "y_train"
   ]
  },
  {
   "cell_type": "markdown",
   "id": "7b4ba596",
   "metadata": {},
   "source": [
    "## Question 3"
   ]
  },
  {
   "cell_type": "markdown",
   "id": "58d51c11",
   "metadata": {},
   "source": [
    "* We need to deal with missing values for the column from Q1.\n",
    "* We have two options: fill it with 0 or with the mean of this variable.\n",
    "* Try both options. For each, train a linear regression model without regularization using the code from the lessons.\n",
    "* For computing the mean, use the training only!\n",
    "* Use the validation dataset to evaluate the models and compare the RMSE of each option.\n",
    "* Round the RMSE scores to 2 decimal digits using `round(score, 2)`.\n",
    "* Which option gives better RMSE?"
   ]
  },
  {
   "cell_type": "code",
   "execution_count": 24,
   "id": "8438d288",
   "metadata": {},
   "outputs": [
    {
     "data": {
      "text/plain": [
       "['latitude',\n",
       " 'longitude',\n",
       " 'minimum_nights',\n",
       " 'number_of_reviews',\n",
       " 'reviews_per_month',\n",
       " 'calculated_host_listings_count',\n",
       " 'availability_365']"
      ]
     },
     "execution_count": 24,
     "metadata": {},
     "output_type": "execute_result"
    }
   ],
   "source": [
    "base = list(df_train.columns.values)\n",
    "base"
   ]
  },
  {
   "cell_type": "code",
   "execution_count": 25,
   "id": "c7c4513b",
   "metadata": {},
   "outputs": [],
   "source": [
    "def prepare_X(df, value=0):\n",
    "    df_num = df[base]\n",
    "    df_num = df_num.fillna(value)\n",
    "    X = df_num.values\n",
    "    return X"
   ]
  },
  {
   "cell_type": "code",
   "execution_count": 26,
   "id": "bf9ca802",
   "metadata": {},
   "outputs": [],
   "source": [
    "def train_linear_regression(X, y):\n",
    "    ones = np.ones(X.shape[0])\n",
    "    X = np.column_stack([ones, X])\n",
    "\n",
    "    XTX = X.T.dot(X)\n",
    "    XTX_inv = np.linalg.inv(XTX)\n",
    "    w_full = XTX_inv.dot(X.T).dot(y)\n",
    "    \n",
    "    return w_full[0], w_full[1:]"
   ]
  },
  {
   "cell_type": "code",
   "execution_count": 27,
   "id": "fcadabcd",
   "metadata": {},
   "outputs": [],
   "source": [
    "def rmse(y, y_pred):\n",
    "    se = (y - y_pred) ** 2\n",
    "    mse = se.mean()\n",
    "    return np.sqrt(mse)"
   ]
  },
  {
   "cell_type": "markdown",
   "id": "a6113c50",
   "metadata": {},
   "source": [
    "First, try to fill missing values with zeros."
   ]
  },
  {
   "cell_type": "code",
   "execution_count": 28,
   "id": "200ec280",
   "metadata": {},
   "outputs": [
    {
     "data": {
      "text/plain": [
       "latitude                             0\n",
       "longitude                            0\n",
       "minimum_nights                       0\n",
       "number_of_reviews                    0\n",
       "reviews_per_month                 5998\n",
       "calculated_host_listings_count       0\n",
       "availability_365                     0\n",
       "dtype: int64"
      ]
     },
     "execution_count": 28,
     "metadata": {},
     "output_type": "execute_result"
    }
   ],
   "source": [
    "df_train.isnull().sum()"
   ]
  },
  {
   "cell_type": "code",
   "execution_count": 29,
   "id": "7d81b15a",
   "metadata": {},
   "outputs": [],
   "source": [
    "X_train = prepare_X(df_train, 0)"
   ]
  },
  {
   "cell_type": "code",
   "execution_count": 30,
   "id": "3d932eef",
   "metadata": {},
   "outputs": [
    {
     "data": {
      "text/plain": [
       "(29337, 7)"
      ]
     },
     "execution_count": 30,
     "metadata": {},
     "output_type": "execute_result"
    }
   ],
   "source": [
    "X_train.shape"
   ]
  },
  {
   "cell_type": "code",
   "execution_count": 31,
   "id": "5804c008",
   "metadata": {},
   "outputs": [],
   "source": [
    "w0, w = train_linear_regression(X_train, y_train)"
   ]
  },
  {
   "cell_type": "code",
   "execution_count": 32,
   "id": "538ce475",
   "metadata": {},
   "outputs": [
    {
     "data": {
      "text/plain": [
       "0.64"
      ]
     },
     "execution_count": 32,
     "metadata": {},
     "output_type": "execute_result"
    }
   ],
   "source": [
    "X_val = prepare_X(df_val, 0)\n",
    "y_pred = w0 + X_val.dot(w)\n",
    "score_zero = rmse(y_val, y_pred)\n",
    "round(score_zero, 2)"
   ]
  },
  {
   "cell_type": "markdown",
   "id": "c464d626",
   "metadata": {},
   "source": [
    "Now, let's try to fill it with mean value of this variabl."
   ]
  },
  {
   "cell_type": "code",
   "execution_count": 33,
   "id": "27a7c6be",
   "metadata": {},
   "outputs": [
    {
     "data": {
      "text/plain": [
       "1.3685492094776983"
      ]
     },
     "execution_count": 33,
     "metadata": {},
     "output_type": "execute_result"
    }
   ],
   "source": [
    "mean_val = df_train['reviews_per_month'].mean()\n",
    "mean_val"
   ]
  },
  {
   "cell_type": "code",
   "execution_count": 34,
   "id": "068916c6",
   "metadata": {},
   "outputs": [],
   "source": [
    "X_train = prepare_X(df_train, mean_val)\n",
    "w0, w = train_linear_regression(X_train, y_train)"
   ]
  },
  {
   "cell_type": "code",
   "execution_count": 35,
   "id": "ad32c467",
   "metadata": {},
   "outputs": [
    {
     "data": {
      "text/plain": [
       "0.64"
      ]
     },
     "execution_count": 35,
     "metadata": {},
     "output_type": "execute_result"
    }
   ],
   "source": [
    "X_val = prepare_X(df_val, mean_val)\n",
    "y_pred = w0 + X_val.dot(w)\n",
    "score_mean = rmse(y_val, y_pred)\n",
    "round(score_mean, 2)"
   ]
  },
  {
   "cell_type": "markdown",
   "id": "05cd0c4a",
   "metadata": {},
   "source": [
    "They are equal with such kind of precision."
   ]
  },
  {
   "cell_type": "markdown",
   "id": "25fba0eb",
   "metadata": {},
   "source": [
    "## Question 4"
   ]
  },
  {
   "cell_type": "markdown",
   "id": "02122ce5",
   "metadata": {},
   "source": [
    "* Now let's train a regularized linear regression.\n",
    "* For this question, fill the NAs with 0.\n",
    "* Try different values of `r` from this list: `[0, 0.000001, 0.0001, 0.001, 0.01, 0.1, 1, 5, 10]`.\n",
    "* Use RMSE to evaluate the model on the validation dataset.\n",
    "* Round the RMSE scores to 2 decimal digits.\n",
    "* Which `r` gives the best RMSE?\n",
    "\n",
    "If there are multiple options, select the smallest `r`."
   ]
  },
  {
   "cell_type": "code",
   "execution_count": 36,
   "id": "c5673534",
   "metadata": {},
   "outputs": [],
   "source": [
    "def train_linear_regression_reg(X, y, r=0.001):\n",
    "    ones = np.ones(X.shape[0])\n",
    "    X = np.column_stack([ones, X])\n",
    "\n",
    "    XTX = X.T.dot(X)\n",
    "    XTX = XTX + r * np.eye(XTX.shape[0])\n",
    "\n",
    "    XTX_inv = np.linalg.inv(XTX)\n",
    "    w_full = XTX_inv.dot(X.T).dot(y)\n",
    "    \n",
    "    return w_full[0], w_full[1:]"
   ]
  },
  {
   "cell_type": "code",
   "execution_count": 37,
   "id": "0303ce91",
   "metadata": {},
   "outputs": [
    {
     "name": "stdout",
     "output_type": "stream",
     "text": [
      "r=0: w0=-419.91265863459563, rmse=0.6430337788649609\n",
      "r=1e-06: w0=-419.86271586621507, rmse=0.6430341157340052\n",
      "r=0.0001: w0=-414.97649263761593, rmse=0.6430723153643709\n",
      "r=0.001: w0=-375.27365275360376, rmse=0.6437669735254038\n",
      "r=0.01: w0=-191.78384053419808, rmse=0.6557528427434279\n",
      "r=0.1: w0=-32.56256054996282, rmse=0.6773299642450078\n",
      "r=1: w0=-3.4992168360568994, rmse=0.6823116950157346\n",
      "r=5: w0=-0.7033623167239721, rmse=0.6827915727845701\n",
      "r=10: w0=-0.3512767588949242, rmse=0.6828430212099271\n"
     ]
    }
   ],
   "source": [
    "scores = {}\n",
    "for r in [0, 0.000001, 0.0001, 0.001, 0.01, 0.1, 1, 5, 10]:\n",
    "    X_train = prepare_X(df_train, 0)\n",
    "    w0, w = train_linear_regression_reg(X_train, y_train, r=r)\n",
    "\n",
    "    X_val = prepare_X(df_val, 0)\n",
    "    y_pred = w0 + X_val.dot(w)\n",
    "    score = rmse(y_val, y_pred)\n",
    "    scores[r] = round(score, 2)\n",
    "    \n",
    "    print(f'r={r}: w0={w0}, rmse={score}')"
   ]
  },
  {
   "cell_type": "code",
   "execution_count": 38,
   "id": "1a0f2214",
   "metadata": {},
   "outputs": [
    {
     "data": {
      "text/plain": [
       "{0: 0.64,\n",
       " 1e-06: 0.64,\n",
       " 0.0001: 0.64,\n",
       " 0.001: 0.64,\n",
       " 0.01: 0.66,\n",
       " 0.1: 0.68,\n",
       " 1: 0.68,\n",
       " 5: 0.68,\n",
       " 10: 0.68}"
      ]
     },
     "execution_count": 38,
     "metadata": {},
     "output_type": "execute_result"
    }
   ],
   "source": [
    "scores"
   ]
  },
  {
   "cell_type": "code",
   "execution_count": 39,
   "id": "289ec47d",
   "metadata": {},
   "outputs": [
    {
     "name": "stdout",
     "output_type": "stream",
     "text": [
      "The smallest r is 0.\n"
     ]
    }
   ],
   "source": [
    "print(f'The smallest r is {min(scores, key=scores.get)}.')"
   ]
  },
  {
   "cell_type": "markdown",
   "id": "90b95285",
   "metadata": {},
   "source": [
    "## Question 5"
   ]
  },
  {
   "cell_type": "markdown",
   "id": "ad76b1fa",
   "metadata": {},
   "source": [
    "* We used seed 42 for splitting the data. Let's find out how selecting the seed influences our score.\n",
    "* Try different seed values: `[0, 1, 2, 3, 4, 5, 6, 7, 8, 9]`.\n",
    "* For each seed, do the train/validation/test split with 60%/20%/20% distribution.\n",
    "* Fill the missing values with 0 and train a model without regularization.\n",
    "* For each seed, evaluate the model on the validation dataset and collect the RMSE scores.\n",
    "* What's the standard deviation of all the scores? To compute the standard deviation, use `np.std`.\n",
    "* Round the result to 3 decimal digits (`round(std, 3)`)"
   ]
  },
  {
   "cell_type": "code",
   "execution_count": 40,
   "id": "24d40ff6",
   "metadata": {},
   "outputs": [],
   "source": [
    "n = len(df)\n",
    "n_val = int(n * 0.2)\n",
    "n_test = int(n * 0.2)\n",
    "n_train = n - n_val - n_test"
   ]
  },
  {
   "cell_type": "code",
   "execution_count": 41,
   "id": "5838e4a2",
   "metadata": {},
   "outputs": [
    {
     "name": "stdout",
     "output_type": "stream",
     "text": [
      "seed=0: w0=-427.62844626626065, rmse=0.6549779961248613\n",
      "seed=1: w0=-414.70554910891815, rmse=0.6462523685844072\n",
      "seed=2: w0=-423.25413365944166, rmse=0.6476558177376243\n",
      "seed=3: w0=-421.8933158935208, rmse=0.6375145070438151\n",
      "seed=4: w0=-422.0609909896383, rmse=0.6445809083258727\n",
      "seed=5: w0=-429.178752317333, rmse=0.6305809996849548\n",
      "seed=6: w0=-427.4918955501337, rmse=0.629785191745815\n",
      "seed=7: w0=-428.18846990339546, rmse=0.6506184267134921\n",
      "seed=8: w0=-427.69291185977454, rmse=0.6489780353719417\n",
      "seed=9: w0=-426.9826895634907, rmse=0.6437565168202272\n",
      "std = 0.008\n"
     ]
    }
   ],
   "source": [
    "seeds = [0, 1, 2, 3, 4, 5, 6, 7, 8, 9]\n",
    "scores = []\n",
    "for seed in seeds:\n",
    "    idx = np.arange(n)\n",
    "    np.random.seed(seed=seed)\n",
    "    np.random.shuffle(idx)\n",
    "    \n",
    "    df_train = df.iloc[idx[:n_train]]\n",
    "    df_val = df.iloc[idx[n_train:n_train+n_val]]\n",
    "    df_test = df.iloc[idx[n_train+n_val:]]\n",
    "    \n",
    "    df_train = df_train.reset_index(drop=True)\n",
    "    df_val = df_val.reset_index(drop=True)\n",
    "    df_test = df_test.reset_index(drop=True)\n",
    "    \n",
    "    y_train = np.log1p(df_train.price.values)\n",
    "    y_val = np.log1p(df_val.price.values)\n",
    "    y_test = np.log1p(df_test.price.values)\n",
    "    \n",
    "    del df_train['price'], df_val['price'], df_test['price']\n",
    "    \n",
    "    X_train = prepare_X(df_train, 0)\n",
    "    w0, w = train_linear_regression(X_train, y_train)\n",
    "    \n",
    "    X_val = prepare_X(df_val, 0)\n",
    "    y_pred = w0 + X_val.dot(w)\n",
    "    score = rmse(y_val, y_pred)\n",
    "    print(f'seed={seed}: w0={w0}, rmse={score}')\n",
    "    scores.append(score)\n",
    "\n",
    "std = np.std(scores)\n",
    "print(f'std = {round(std, 3)}')"
   ]
  },
  {
   "cell_type": "markdown",
   "id": "1d3c4c03",
   "metadata": {},
   "source": [
    "## Question 6"
   ]
  },
  {
   "cell_type": "markdown",
   "id": "66f75d1b",
   "metadata": {},
   "source": [
    "* Split the dataset like previously, use seed 9.\n",
    "* Combine train and validation datasets.\n",
    "* Fill the missing values with 0 and train a model with `r=0.001`.\n",
    "* What's the RMSE on the test dataset?"
   ]
  },
  {
   "cell_type": "code",
   "execution_count": 42,
   "id": "f7fb5970",
   "metadata": {},
   "outputs": [],
   "source": [
    "SEED = 9"
   ]
  },
  {
   "cell_type": "code",
   "execution_count": 43,
   "id": "a0c92b31",
   "metadata": {},
   "outputs": [],
   "source": [
    "idx = np.arange(n)\n",
    "np.random.seed(seed=SEED)\n",
    "np.random.shuffle(idx)\n",
    "    \n",
    "df_train = df.iloc[idx[:n_train]]\n",
    "df_val = df.iloc[idx[n_train:n_train+n_val]]\n",
    "df_test = df.iloc[idx[n_train+n_val:]]\n",
    "    \n",
    "df_train = df_train.reset_index(drop=True)\n",
    "df_val = df_val.reset_index(drop=True)\n",
    "df_test = df_test.reset_index(drop=True)\n",
    "    \n",
    "y_train = np.log1p(df_train.price.values)\n",
    "y_val = np.log1p(df_val.price.values)\n",
    "y_test = np.log1p(df_test.price.values)\n",
    "    \n",
    "del df_train['price'], df_val['price'], df_test['price']"
   ]
  },
  {
   "cell_type": "code",
   "execution_count": 44,
   "id": "3e954842",
   "metadata": {},
   "outputs": [],
   "source": [
    "df_full_train = pd.concat([df_train, df_val])"
   ]
  },
  {
   "cell_type": "code",
   "execution_count": 45,
   "id": "598d0b29",
   "metadata": {},
   "outputs": [],
   "source": [
    "df_full_train = df_full_train.reset_index(drop=True)"
   ]
  },
  {
   "cell_type": "code",
   "execution_count": 46,
   "id": "8cb4b2a0",
   "metadata": {},
   "outputs": [],
   "source": [
    "X_full_train = prepare_X(df_full_train, 0)"
   ]
  },
  {
   "cell_type": "code",
   "execution_count": 47,
   "id": "9b540507",
   "metadata": {},
   "outputs": [],
   "source": [
    "y_full_train = np.concatenate([y_train, y_val])"
   ]
  },
  {
   "cell_type": "code",
   "execution_count": 48,
   "id": "133554b9",
   "metadata": {},
   "outputs": [
    {
     "data": {
      "text/plain": [
       "array([[ 4.070423e+01, -7.391595e+01,  1.000000e+00, ...,  1.300000e-01,\n",
       "         1.000000e+00,  0.000000e+00],\n",
       "       [ 4.077115e+01, -7.392275e+01,  4.000000e+01, ...,  2.700000e-01,\n",
       "         1.000000e+00,  2.070000e+02],\n",
       "       [ 4.070401e+01, -7.400932e+01,  2.900000e+01, ...,  0.000000e+00,\n",
       "         9.600000e+01,  1.000000e+00],\n",
       "       ...,\n",
       "       [ 4.072982e+01, -7.398593e+01,  2.000000e+00, ...,  1.100000e-01,\n",
       "         1.000000e+00,  0.000000e+00],\n",
       "       [ 4.071969e+01, -7.395620e+01,  1.000000e+00, ...,  2.000000e-02,\n",
       "         1.000000e+00,  0.000000e+00],\n",
       "       [ 4.066949e+01, -7.392172e+01,  1.000000e+00, ...,  1.910000e+00,\n",
       "         2.000000e+00,  3.230000e+02]])"
      ]
     },
     "execution_count": 48,
     "metadata": {},
     "output_type": "execute_result"
    }
   ],
   "source": [
    "X_full_train"
   ]
  },
  {
   "cell_type": "code",
   "execution_count": 49,
   "id": "b19a52bf",
   "metadata": {},
   "outputs": [
    {
     "data": {
      "text/plain": [
       "array([4.33073334, 4.24849524, 5.19295685, ..., 4.94875989, 5.37527841,\n",
       "       4.18965474])"
      ]
     },
     "execution_count": 49,
     "metadata": {},
     "output_type": "execute_result"
    }
   ],
   "source": [
    "y_full_train"
   ]
  },
  {
   "cell_type": "code",
   "execution_count": 50,
   "id": "149b7018",
   "metadata": {},
   "outputs": [],
   "source": [
    "w0, w = train_linear_regression_reg(X_full_train, y_full_train, r=0.001)"
   ]
  },
  {
   "cell_type": "code",
   "execution_count": 51,
   "id": "6fb0ab13",
   "metadata": {},
   "outputs": [
    {
     "name": "stdout",
     "output_type": "stream",
     "text": [
      "RMSE_test = 0.65\n"
     ]
    }
   ],
   "source": [
    "X_test = prepare_X(df_test, 0)\n",
    "y_pred = w0 + X_test.dot(w)\n",
    "score = rmse(y_test, y_pred)\n",
    "print(f'RMSE_test = {round(score, 2)}')"
   ]
  }
 ],
 "metadata": {
  "kernelspec": {
   "display_name": "Python 3 (ipykernel)",
   "language": "python",
   "name": "python3"
  },
  "language_info": {
   "codemirror_mode": {
    "name": "ipython",
    "version": 3
   },
   "file_extension": ".py",
   "mimetype": "text/x-python",
   "name": "python",
   "nbconvert_exporter": "python",
   "pygments_lexer": "ipython3",
   "version": "3.8.10"
  }
 },
 "nbformat": 4,
 "nbformat_minor": 5
}
