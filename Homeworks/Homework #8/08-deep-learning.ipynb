{
 "cells": [
  {
   "cell_type": "markdown",
   "id": "bdbd4722-9747-42dd-87fd-b7356760b02b",
   "metadata": {},
   "source": [
    "## Homework 8"
   ]
  },
  {
   "cell_type": "markdown",
   "id": "dc31770a-b07b-4916-9226-4e3f1a069190",
   "metadata": {},
   "source": [
    "### Dataset"
   ]
  },
  {
   "cell_type": "markdown",
   "id": "65f94327-52c7-4c83-b4cc-74471535ca82",
   "metadata": {},
   "source": [
    "In this homework, we'll build a model for predicting if we have an image of a dog or a cat. For this, we will use the \"Dogs & Cats\" dataset that can be downloaded from [Kaggle](https://www.kaggle.com/c/dogs-vs-cats/data).\n",
    "\n",
    "You need to download the `train.zip` file.\n",
    "\n",
    "If you have troubles downloading from Kaggle, use [this link](https://github.com/alexeygrigorev/large-datasets/releases/download/dogs-cats/train.zip) instead:\n",
    "```bash\n",
    "wget https://github.com/alexeygrigorev/large-datasets/releases/download/dogs-cats/train.zip\n",
    "```\n",
    "In the lectures we saw how to use a pre-trained neural network. In the homework, we'll train a much smaller model from scratch.\n",
    "\n",
    "**Note:** You don't need a computer with a GPU for this homework. A laptop or any personal computer should be sufficient."
   ]
  },
  {
   "cell_type": "code",
   "execution_count": null,
   "id": "34b89a08-0519-405c-a127-8f63e51b50c8",
   "metadata": {},
   "outputs": [],
   "source": [
    "!wget --directory-prefix=data/ https://github.com/alexeygrigorev/large-datasets/releases/download/dogs-cats/train.zip"
   ]
  },
  {
   "cell_type": "markdown",
   "id": "02b4352b-d7db-46cc-ac79-3813c20255dd",
   "metadata": {},
   "source": [
    "### Data Preparation"
   ]
  },
  {
   "cell_type": "markdown",
   "id": "4172ee02-a3a7-429a-8ed2-e75e5f72d079",
   "metadata": {},
   "source": [
    "The dataset contains 12,500 images of cats and 12,500 images of dogs.\n",
    "\n",
    "Now we need to split this data into train and validation\n",
    "\n",
    "* Create a `train` and `validation` folders\n",
    "* In each folder, create `cats` and `dogs` folders\n",
    "* Move the first 10,000 images to the train folder (from 0 to 9999) for boths cats and dogs - and put them in respective folders\n",
    "* Move the remaining 2,500 images to the validation folder (from 10000 to 12499)\n",
    "\n",
    "You can do this manually or with Python (check `os` and `shutil` packages)."
   ]
  },
  {
   "cell_type": "code",
   "execution_count": 2,
   "id": "b3572a77-5a9f-4f1f-897c-d5813dc54b69",
   "metadata": {},
   "outputs": [],
   "source": [
    "import shutil\n",
    "import os"
   ]
  },
  {
   "cell_type": "code",
   "execution_count": 3,
   "id": "db2e4344-24dd-40cd-ae78-864ed925b36f",
   "metadata": {},
   "outputs": [],
   "source": [
    "data_path = 'data'\n",
    "source_names = ['train', 'validation']\n",
    "class_names = ['cats', 'dogs']\n",
    "\n",
    "for dir_name in source_names:\n",
    "    for class_name in class_names:\n",
    "        os.makedirs(os.path.join(data_path, dir_name, class_name), exist_ok=True)"
   ]
  },
  {
   "cell_type": "code",
   "execution_count": null,
   "id": "ad38a2eb-4008-463c-b91c-e479370d0236",
   "metadata": {},
   "outputs": [],
   "source": [
    "shutil.unpack_archive('data/train.zip', data_path)\n",
    "\n",
    "train_path = os.path.join(data_path, 'train')\n",
    "val_path = os.path.join(data_path, 'validation')\n",
    "for class_name in class_names:\n",
    "    for i in range(12500):\n",
    "        filename = class_name[:-1] + '.' + str(i) + '.jpg'\n",
    "        src_path = os.path.join(train_path, filename)\n",
    "        if i < 10000:\n",
    "            dest_path = os.path.join(train_path, class_name)\n",
    "        else:\n",
    "            dest_path = os.path.join(val_path, class_name)\n",
    "        shutil.move(src_path, dest_path)"
   ]
  },
  {
   "cell_type": "markdown",
   "id": "6ff9c41a-603d-4845-89a3-b84dd22b9d04",
   "metadata": {},
   "source": [
    "### Model"
   ]
  },
  {
   "cell_type": "markdown",
   "id": "cf129d08-b39c-4216-ab08-c36c1a0bd070",
   "metadata": {},
   "source": [
    "For this homework we will use Convolutional Neural Network (CNN. Like in the lectures, we'll use Keras.\n",
    "\n",
    "You need to develop the model with following structure:\n",
    "\n",
    "* The shape for input should be `(150, 150, 3)`\n",
    "* Next, create a covolutional layer ([`Conv2D`](https://keras.io/api/layers/convolution_layers/convolution2d/)):\n",
    "    * Use 32 filters\n",
    "    * Kernel size should be `(3, 3)` (that's the size of the filter)\n",
    "    * Use `'relu'` as activation \n",
    "* Reduce the size of the feature map with max pooling ([`MaxPooling2D`](https://keras.io/api/layers/pooling_layers/max_pooling2d/))\n",
    "    * Set the pooling size to `(2, 2)`\n",
    "* Turn the multi-dimensional result into vectors using a [`Flatten`](https://keras.io/api/layers/reshaping_layers/flatten/) layer\n",
    "* Next, add a `Dense` layer with 64 neurons and `'relu'` activation\n",
    "* Finally, create the `Dense` layer with 1 neuron - this will be the output\n",
    "    * The output layer should have an activation - use the appropriate activation for the binary classification case\n",
    "\n",
    "As optimizer use [`SGD`](https://keras.io/api/optimizers/sgd/) with the following parameters:\n",
    "\n",
    "* `SGD(lr=0.002, momentum=0.8)`\n",
    "\n",
    "For clarification about kernel size and max pooling, check [Week #11 Office Hours](https://www.youtube.com/watch?v=1WRgdBTUaAc)."
   ]
  },
  {
   "cell_type": "code",
   "execution_count": 5,
   "id": "1eee187b-4abb-4a81-a929-f8a7f2b6c084",
   "metadata": {},
   "outputs": [],
   "source": [
    "from tensorflow import keras\n",
    "from tensorflow.keras import layers\n",
    "import matplotlib.pyplot as plt\n",
    "\n",
    "%matplotlib inline"
   ]
  },
  {
   "cell_type": "code",
   "execution_count": 6,
   "id": "26fcc290-a672-4ed7-b3cb-f5a4bac075be",
   "metadata": {},
   "outputs": [],
   "source": [
    "def make_model(learning_rate=0.1, size_inner=100):\n",
    "    inputs = keras.Input(shape=(150, 150, 3))\n",
    "    conv_out = layers.Conv2D(filters=32, kernel_size=3, activation='relu')(inputs)\n",
    "    pool_out = layers.MaxPooling2D(pool_size=(2, 2))(conv_out)\n",
    "    vectors = layers.Flatten()(pool_out)\n",
    "    inner = layers.Dense(size_inner, activation='relu')(vectors)\n",
    "    outputs = layers.Dense(1, activation='sigmoid')(inner)\n",
    "    model = keras.Model(inputs, outputs)\n",
    "    \n",
    "    optimizer = keras.optimizers.SGD(learning_rate=learning_rate, momentum=0.8)\n",
    "    loss = keras.losses.BinaryCrossentropy()\n",
    "\n",
    "    model.compile(optimizer=optimizer, loss=loss, metrics=['accuracy'])\n",
    "    \n",
    "    return model"
   ]
  },
  {
   "cell_type": "code",
   "execution_count": 7,
   "id": "5aecd7bc-4bdf-41ad-ad4f-753b7f38052e",
   "metadata": {},
   "outputs": [],
   "source": [
    "learning_rate = 0.002\n",
    "size = 64\n",
    "model = make_model(learning_rate=learning_rate, size_inner=size)"
   ]
  },
  {
   "cell_type": "markdown",
   "id": "2b5dcf67-9682-46f8-9969-713b4b92e689",
   "metadata": {},
   "source": [
    "### Question 1"
   ]
  },
  {
   "cell_type": "markdown",
   "id": "25d1bebe-8f3e-49d1-a586-0606e858ebcb",
   "metadata": {},
   "source": [
    "Since we have a binary classification problem, what is the best loss function for us?\n",
    "\n",
    "Note: since we specify an activation for the output layer, we don't need to set `from_logits=True`"
   ]
  },
  {
   "cell_type": "markdown",
   "id": "68d2aadc-251b-4d63-91fe-19bc4b02d5e6",
   "metadata": {},
   "source": [
    "**Answer:** should be BinaryCrossentropy."
   ]
  },
  {
   "cell_type": "markdown",
   "id": "3bb1c2c3-7c6b-4517-a71c-6fdfcca493e4",
   "metadata": {},
   "source": [
    "### Question 2"
   ]
  },
  {
   "cell_type": "markdown",
   "id": "47776174-e854-4b1d-b783-41b93d4823d1",
   "metadata": {},
   "source": [
    "What's the total number of parameters of the model? You can use the `summary` method for that."
   ]
  },
  {
   "cell_type": "code",
   "execution_count": 8,
   "id": "f5e9cce2-0431-49d0-9a58-1bd7a9bd6708",
   "metadata": {},
   "outputs": [
    {
     "name": "stdout",
     "output_type": "stream",
     "text": [
      "Model: \"functional_1\"\n",
      "_________________________________________________________________\n",
      "Layer (type)                 Output Shape              Param #   \n",
      "=================================================================\n",
      "input_1 (InputLayer)         [(None, 150, 150, 3)]     0         \n",
      "_________________________________________________________________\n",
      "conv2d (Conv2D)              (None, 148, 148, 32)      896       \n",
      "_________________________________________________________________\n",
      "max_pooling2d (MaxPooling2D) (None, 74, 74, 32)        0         \n",
      "_________________________________________________________________\n",
      "flatten (Flatten)            (None, 175232)            0         \n",
      "_________________________________________________________________\n",
      "dense (Dense)                (None, 64)                11214912  \n",
      "_________________________________________________________________\n",
      "dense_1 (Dense)              (None, 1)                 65        \n",
      "=================================================================\n",
      "Total params: 11,215,873\n",
      "Trainable params: 11,215,873\n",
      "Non-trainable params: 0\n",
      "_________________________________________________________________\n"
     ]
    }
   ],
   "source": [
    "model.summary()"
   ]
  },
  {
   "cell_type": "markdown",
   "id": "a6f7a567-e92a-4b65-b4fe-7b8537784703",
   "metadata": {},
   "source": [
    "### Generators and Training"
   ]
  },
  {
   "cell_type": "markdown",
   "id": "3ade801f-6eab-42fa-8599-d5043804b3b6",
   "metadata": {},
   "source": [
    "For the next two questions, use the following data generator for both train and validation:\n",
    "\n",
    "```python\n",
    "ImageDataGenerator(rescale=1./255)\n",
    "```\n",
    "\n",
    "* We don't need to do any additional pre-processing for the images.\n",
    "* When reading the data from train/val directories, check the `class_mode` parameter. Which value should it be for a binary classification problem?\n",
    "* Use `batch_size=20`\n",
    "* Use `shuffle=True` for both training and validaition \n",
    "\n",
    "For training use `.fit()` with the following params:\n",
    "\n",
    "```python\n",
    "model.fit(\n",
    "    train_generator,\n",
    "    steps_per_epoch=100,\n",
    "    epochs=10,\n",
    "    validation_data=validation_generator,\n",
    "    validation_steps=50\n",
    ")\n",
    "```\n",
    "\n",
    "Note `validation_steps=50` - this parameter says \"run only 50 steps on the validation data for evaluating the results\". \n",
    "This way we iterate a bit faster, but don't use the entire validation dataset.\n",
    "That's why it's important to shuffle the validation dataset as well. "
   ]
  },
  {
   "cell_type": "code",
   "execution_count": 9,
   "id": "b982b23e-1f31-46da-b8cb-dd2dcbe07597",
   "metadata": {},
   "outputs": [],
   "source": [
    "import numpy as np\n",
    "from tensorflow.keras.preprocessing.image import ImageDataGenerator"
   ]
  },
  {
   "cell_type": "code",
   "execution_count": 10,
   "id": "4657513a-9464-438f-89f0-bc03a77fc836",
   "metadata": {},
   "outputs": [
    {
     "name": "stdout",
     "output_type": "stream",
     "text": [
      "Found 20000 images belonging to 2 classes.\n",
      "Found 5000 images belonging to 2 classes.\n"
     ]
    }
   ],
   "source": [
    "datagen = ImageDataGenerator(rescale=1./255)\n",
    "\n",
    "train_generator = datagen.flow_from_directory(\n",
    "    'data/train',\n",
    "    target_size=(150, 150),\n",
    "    batch_size=20,\n",
    "    class_mode='binary'\n",
    ")\n",
    "\n",
    "validation_generator = datagen.flow_from_directory(\n",
    "    'data/validation',\n",
    "    target_size=(150, 150),\n",
    "    batch_size=20,\n",
    "    class_mode='binary'\n",
    ")"
   ]
  },
  {
   "cell_type": "code",
   "execution_count": 11,
   "id": "9cf6a1e4-ee58-406f-a867-5e2e022a1d41",
   "metadata": {},
   "outputs": [
    {
     "data": {
      "text/plain": [
       "('binary', 'binary')"
      ]
     },
     "execution_count": 11,
     "metadata": {},
     "output_type": "execute_result"
    }
   ],
   "source": [
    "train_generator.class_mode, validation_generator.class_mode"
   ]
  },
  {
   "cell_type": "code",
   "execution_count": 12,
   "id": "19f972df-e4e8-4005-9344-bd0a18eff250",
   "metadata": {},
   "outputs": [
    {
     "data": {
      "text/plain": [
       "{'cats': 0, 'dogs': 1}"
      ]
     },
     "execution_count": 12,
     "metadata": {},
     "output_type": "execute_result"
    }
   ],
   "source": [
    "train_generator.class_indices"
   ]
  },
  {
   "cell_type": "code",
   "execution_count": 13,
   "id": "d146c5af-166d-4d21-93be-5336ca951b0a",
   "metadata": {},
   "outputs": [
    {
     "name": "stdout",
     "output_type": "stream",
     "text": [
      "Epoch 1/10\n",
      "100/100 [==============================] - 56s 557ms/step - loss: 0.6986 - accuracy: 0.5060 - val_loss: 0.6886 - val_accuracy: 0.5510\n",
      "Epoch 2/10\n",
      "100/100 [==============================] - 55s 553ms/step - loss: 0.6886 - accuracy: 0.5430 - val_loss: 0.6860 - val_accuracy: 0.5610\n",
      "Epoch 3/10\n",
      "100/100 [==============================] - 55s 555ms/step - loss: 0.6839 - accuracy: 0.5560 - val_loss: 0.6796 - val_accuracy: 0.5380\n",
      "Epoch 4/10\n",
      "100/100 [==============================] - 55s 552ms/step - loss: 0.6807 - accuracy: 0.5785 - val_loss: 0.6826 - val_accuracy: 0.5650\n",
      "Epoch 5/10\n",
      "100/100 [==============================] - 54s 543ms/step - loss: 0.6821 - accuracy: 0.5725 - val_loss: 0.6647 - val_accuracy: 0.6250\n",
      "Epoch 6/10\n",
      "100/100 [==============================] - 53s 533ms/step - loss: 0.6787 - accuracy: 0.5795 - val_loss: 0.6726 - val_accuracy: 0.5790\n",
      "Epoch 7/10\n",
      "100/100 [==============================] - 53s 526ms/step - loss: 0.6804 - accuracy: 0.5635 - val_loss: 0.6882 - val_accuracy: 0.5390\n",
      "Epoch 8/10\n",
      "100/100 [==============================] - 52s 521ms/step - loss: 0.6682 - accuracy: 0.5980 - val_loss: 0.6608 - val_accuracy: 0.6160\n",
      "Epoch 9/10\n",
      "100/100 [==============================] - 51s 509ms/step - loss: 0.6736 - accuracy: 0.5945 - val_loss: 0.6559 - val_accuracy: 0.6290\n",
      "Epoch 10/10\n",
      "100/100 [==============================] - 50s 502ms/step - loss: 0.6688 - accuracy: 0.6050 - val_loss: 0.6631 - val_accuracy: 0.6020\n"
     ]
    }
   ],
   "source": [
    "history = model.fit(\n",
    "    train_generator,\n",
    "    steps_per_epoch=100,\n",
    "    epochs=10,\n",
    "    validation_data=validation_generator,\n",
    "    validation_steps=50\n",
    ")"
   ]
  },
  {
   "cell_type": "code",
   "execution_count": 14,
   "id": "2fff6fbf-92dc-4f3f-a242-890d71c74080",
   "metadata": {},
   "outputs": [
    {
     "data": {
      "image/png": "[encoded data removed]",
      "text/plain": [
       "<Figure size 432x288 with 1 Axes>"
      ]
     },
     "metadata": {
      "needs_background": "light"
     },
     "output_type": "display_data"
    }
   ],
   "source": [
    "hist = history.history\n",
    "plt.plot(hist['val_accuracy'], label='val')\n",
    "plt.plot(hist['accuracy'], label='train')\n",
    "plt.legend();"
   ]
  },
  {
   "cell_type": "markdown",
   "id": "cba8f42b-b58d-423e-adf9-5eedf8fe9c14",
   "metadata": {},
   "source": [
    "### Question 3"
   ]
  },
  {
   "cell_type": "markdown",
   "id": "d766bb7d-d603-4385-9625-119b5a2b126c",
   "metadata": {},
   "source": [
    "What is the median of training accuracy for this model?"
   ]
  },
  {
   "cell_type": "code",
   "execution_count": 15,
   "id": "3734edf8-f85b-406f-89cb-3f478f2cde53",
   "metadata": {},
   "outputs": [
    {
     "data": {
      "text/plain": [
       "0.5754999816417694"
      ]
     },
     "execution_count": 15,
     "metadata": {},
     "output_type": "execute_result"
    }
   ],
   "source": [
    "np.median(history.history['accuracy'])"
   ]
  },
  {
   "cell_type": "markdown",
   "id": "17da0f86-14e0-4bb9-b77a-b8adbef05f88",
   "metadata": {},
   "source": [
    "### Question 4"
   ]
  },
  {
   "cell_type": "markdown",
   "id": "40bca86a-8e27-44e4-a770-7a3b3871b2db",
   "metadata": {},
   "source": [
    "What is the standard deviation of training loss for this model?"
   ]
  },
  {
   "cell_type": "code",
   "execution_count": 16,
   "id": "a3b97ff9-b2dd-4f56-a1cb-9451293b57fa",
   "metadata": {},
   "outputs": [
    {
     "data": {
      "text/plain": [
       "0.008639343809373676"
      ]
     },
     "execution_count": 16,
     "metadata": {},
     "output_type": "execute_result"
    }
   ],
   "source": [
    "np.std(history.history['loss'])"
   ]
  },
  {
   "cell_type": "markdown",
   "id": "cd14b8a6-b6b3-4286-ab47-2c01bcd4187c",
   "metadata": {},
   "source": [
    "### Data Augmentation"
   ]
  },
  {
   "cell_type": "markdown",
   "id": "cdd6cc7e-96d8-4b31-899d-6b5ffca9a415",
   "metadata": {},
   "source": [
    "For the next two questions, we'll generate more data using data augmentations. \n",
    "\n",
    "Add the following augmentations to your training data generator:\n",
    "\n",
    "* `rotation_range=40,`\n",
    "* `width_shift_range=0.2,`\n",
    "* `height_shift_range=0.2,`\n",
    "* `shear_range=0.2,`\n",
    "* `zoom_range=0.2,`\n",
    "* `horizontal_flip=True,`\n",
    "* `fill_mode='nearest'`"
   ]
  },
  {
   "cell_type": "code",
   "execution_count": 17,
   "id": "78721c6a-896c-4f3d-82de-fca9540bec6e",
   "metadata": {},
   "outputs": [
    {
     "name": "stdout",
     "output_type": "stream",
     "text": [
      "Found 20000 images belonging to 2 classes.\n"
     ]
    }
   ],
   "source": [
    "train_datagen_aug = ImageDataGenerator(\n",
    "    rescale=1./255,\n",
    "    rotation_range=40,\n",
    "    width_shift_range=0.2,\n",
    "    height_shift_range=0.2,\n",
    "    shear_range=0.2,\n",
    "    zoom_range=0.2,\n",
    "    horizontal_flip=True,\n",
    "    fill_mode='nearest',\n",
    ")\n",
    "\n",
    "train_generator_aug = train_datagen_aug.flow_from_directory(\n",
    "    'data/train',\n",
    "    target_size=(150, 150),\n",
    "    batch_size=20,\n",
    "    class_mode='binary'\n",
    ")"
   ]
  },
  {
   "cell_type": "markdown",
   "id": "b6f98d7c-1e10-4d82-979f-e85c4652ab05",
   "metadata": {},
   "source": [
    "### Question 5"
   ]
  },
  {
   "cell_type": "markdown",
   "id": "2d4f66b5-95ff-435e-9134-3ee44682fff2",
   "metadata": {},
   "source": [
    "Let's train our model for 10 more epochs using the same code as previously. Make sure you don't re-create the model - we want to continue training the model we already started training.\n",
    "\n",
    "What is the mean of validation loss for the model trained with augmentations?"
   ]
  },
  {
   "cell_type": "code",
   "execution_count": 18,
   "id": "013bde33-8d7b-4d79-a3f3-de1e91397b69",
   "metadata": {},
   "outputs": [
    {
     "name": "stdout",
     "output_type": "stream",
     "text": [
      "Epoch 1/10\n",
      "100/100 [==============================] - 57s 568ms/step - loss: 0.6582 - accuracy: 0.6020 - val_loss: 0.6512 - val_accuracy: 0.6270\n",
      "Epoch 2/10\n",
      "100/100 [==============================] - 52s 519ms/step - loss: 0.6483 - accuracy: 0.6165 - val_loss: 0.6734 - val_accuracy: 0.5970\n",
      "Epoch 3/10\n",
      "100/100 [==============================] - 51s 507ms/step - loss: 0.6629 - accuracy: 0.5910 - val_loss: 0.6914 - val_accuracy: 0.5450\n",
      "Epoch 4/10\n",
      "100/100 [==============================] - 53s 527ms/step - loss: 0.6532 - accuracy: 0.6070 - val_loss: 0.6606 - val_accuracy: 0.6070\n",
      "Epoch 5/10\n",
      "100/100 [==============================] - 49s 486ms/step - loss: 0.6411 - accuracy: 0.6345 - val_loss: 0.6503 - val_accuracy: 0.6070\n",
      "Epoch 6/10\n",
      "100/100 [==============================] - 48s 484ms/step - loss: 0.6434 - accuracy: 0.6220 - val_loss: 0.6502 - val_accuracy: 0.6240\n",
      "Epoch 7/10\n",
      "100/100 [==============================] - 47s 466ms/step - loss: 0.6359 - accuracy: 0.6335 - val_loss: 0.6399 - val_accuracy: 0.6260\n",
      "Epoch 8/10\n",
      "100/100 [==============================] - 48s 478ms/step - loss: 0.6243 - accuracy: 0.6375 - val_loss: 0.6726 - val_accuracy: 0.6140\n",
      "Epoch 9/10\n",
      "100/100 [==============================] - 53s 534ms/step - loss: 0.6324 - accuracy: 0.6345 - val_loss: 0.6574 - val_accuracy: 0.6190\n",
      "Epoch 10/10\n",
      "100/100 [==============================] - 33s 334ms/step - loss: 0.6421 - accuracy: 0.6285 - val_loss: 0.6621 - val_accuracy: 0.6100\n"
     ]
    }
   ],
   "source": [
    "history_aug = model.fit(\n",
    "    train_generator,\n",
    "    steps_per_epoch=100,\n",
    "    epochs=10,\n",
    "    validation_data=validation_generator,\n",
    "    validation_steps=50\n",
    ")"
   ]
  },
  {
   "cell_type": "code",
   "execution_count": 19,
   "id": "a53ab5db-858a-4988-8393-4c0dbe019089",
   "metadata": {},
   "outputs": [
    {
     "data": {
      "text/plain": [
       "[0.6511610150337219,\n",
       " 0.6734278798103333,\n",
       " 0.6913506388664246,\n",
       " 0.6605825424194336,\n",
       " 0.6503498554229736,\n",
       " 0.6501848697662354,\n",
       " 0.639933705329895,\n",
       " 0.6725988984107971,\n",
       " 0.6573658585548401,\n",
       " 0.6620637774467468]"
      ]
     },
     "execution_count": 19,
     "metadata": {},
     "output_type": "execute_result"
    }
   ],
   "source": [
    "history_aug.history['val_loss']"
   ]
  },
  {
   "cell_type": "code",
   "execution_count": 20,
   "id": "0d1761cd-4d59-4330-a243-eba0c22a294d",
   "metadata": {},
   "outputs": [
    {
     "data": {
      "image/png": "[encoded data removed]",
      "text/plain": [
       "<Figure size 432x288 with 1 Axes>"
      ]
     },
     "metadata": {
      "needs_background": "light"
     },
     "output_type": "display_data"
    }
   ],
   "source": [
    "hist = history_aug.history\n",
    "plt.plot(hist['val_loss'], label='val')\n",
    "plt.plot(hist['loss'], label='train')\n",
    "plt.legend();"
   ]
  },
  {
   "cell_type": "code",
   "execution_count": 21,
   "id": "88ca66e1-4660-463b-806b-49a45ccc8c21",
   "metadata": {},
   "outputs": [
    {
     "data": {
      "text/plain": [
       "0.6609019041061401"
      ]
     },
     "execution_count": 21,
     "metadata": {},
     "output_type": "execute_result"
    }
   ],
   "source": [
    "np.mean(history_aug.history['val_loss'])"
   ]
  },
  {
   "cell_type": "markdown",
   "id": "9b9f1dd2-4efc-46cc-b05f-c39f94d9e3bb",
   "metadata": {},
   "source": [
    "### Question 6"
   ]
  },
  {
   "cell_type": "markdown",
   "id": "4e88f0a4-97d3-4eeb-893d-0ecb2a8ec4c3",
   "metadata": {},
   "source": [
    "What's the average of validation accuracy for the last 5 epochs (from 6 to 10) for the model trained with augmentations?"
   ]
  },
  {
   "cell_type": "code",
   "execution_count": 22,
   "id": "a62abde5-5e2a-454e-8968-5ee17c1908af",
   "metadata": {},
   "outputs": [
    {
     "data": {
      "text/plain": [
       "[0.6269999742507935,\n",
       " 0.597000002861023,\n",
       " 0.5450000166893005,\n",
       " 0.6069999933242798,\n",
       " 0.6069999933242798,\n",
       " 0.6240000128746033,\n",
       " 0.6259999871253967,\n",
       " 0.6140000224113464,\n",
       " 0.6190000176429749,\n",
       " 0.6100000143051147]"
      ]
     },
     "execution_count": 22,
     "metadata": {},
     "output_type": "execute_result"
    }
   ],
   "source": [
    "history_aug.history['val_accuracy']"
   ]
  },
  {
   "cell_type": "code",
   "execution_count": 23,
   "id": "d815d05a-6964-4b82-84c5-1fcc87f06bd8",
   "metadata": {},
   "outputs": [
    {
     "data": {
      "image/png": "[encoded data removed]",
      "text/plain": [
       "<Figure size 432x288 with 1 Axes>"
      ]
     },
     "metadata": {
      "needs_background": "light"
     },
     "output_type": "display_data"
    }
   ],
   "source": [
    "hist = history_aug.history\n",
    "plt.plot(hist['val_accuracy'], label='val')\n",
    "plt.plot(hist['accuracy'], label='train')\n",
    "plt.legend();"
   ]
  },
  {
   "cell_type": "code",
   "execution_count": 24,
   "id": "cc3a4d3a-50c0-44b0-875b-6ec86b3a4b13",
   "metadata": {},
   "outputs": [
    {
     "data": {
      "text/plain": [
       "0.6186000108718872"
      ]
     },
     "execution_count": 24,
     "metadata": {},
     "output_type": "execute_result"
    }
   ],
   "source": [
    "np.average(history_aug.history['val_accuracy'][-5:])"
   ]
  }
 ],
 "metadata": {
  "kernelspec": {
   "display_name": "Python 3 (ipykernel)",
   "language": "python",
   "name": "python3"
  },
  "language_info": {
   "codemirror_mode": {
    "name": "ipython",
    "version": 3
   },
   "file_extension": ".py",
   "mimetype": "text/x-python",
   "name": "python",
   "nbconvert_exporter": "python",
   "pygments_lexer": "ipython3",
   "version": "3.8.10"
  }
 },
 "nbformat": 4,
 "nbformat_minor": 5
}
