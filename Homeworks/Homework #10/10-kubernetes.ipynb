{
 "cells": [
  {
   "cell_type": "markdown",
   "id": "dffd76b8-2fe4-418d-bc37-5b89dc8b8ee6",
   "metadata": {},
   "source": [
    "## Homework 10"
   ]
  },
  {
   "cell_type": "markdown",
   "id": "4d5b909d-b0b1-458a-9bdc-c6dc51cf3430",
   "metadata": {},
   "source": [
    "In this homework, we'll deploy the churn preduction model from session 5.\n",
    "We already have a docker image for this model - we'll use it for \n",
    "deploying the model to Kubernetes."
   ]
  },
  {
   "cell_type": "markdown",
   "id": "c1ba4997-be50-4071-affd-cb7224ee8ffc",
   "metadata": {},
   "source": [
    "## Bulding the image"
   ]
  },
  {
   "cell_type": "markdown",
   "id": "0954bb8c-03f9-4a96-abca-2c82ea4d37ca",
   "metadata": {},
   "source": [
    "Clone the course repo if you haven't:\n",
    "\n",
    "```\n",
    "git clone https://github.com/alexeygrigorev/mlbookcamp-code.git\n",
    "```\n",
    "\n",
    "Go to the `course-zoomcamp/05-deployment/code` folder and \n",
    "execute the following:\n",
    "\n",
    "\n",
    "```bash\n",
    "docker build -t churn-model:v001 .\n",
    "```\n",
    "\n",
    "> **Note:** If you have troubles building the image, you can \n",
    "> use the image I built and published to docker hub:\n",
    "> `agrigorev/zoomcamp-model:churn-v001`\n",
    "\n",
    "Run it to test that it's working locally:\n",
    "\n",
    "```bash\n",
    "docker run -it --rm -p 9696:9696 churn-model:v001\n",
    "```\n",
    "\n",
    "And in another terminal, execute `predict-test.py` file:\n",
    "\n",
    "```bash\n",
    "python predict-test.py\n",
    "```\n",
    "\n",
    "You should see this:\n",
    "\n",
    "```\n",
    "{'churn': False, 'churn_probability': 0.3257561103397851}\n",
    "not sending promo email to xyz-123\n",
    "```\n",
    "\n",
    "Now you can stop the container running in Docker."
   ]
  },
  {
   "cell_type": "markdown",
   "id": "b087110b-bfdf-47b7-97d1-9574a8b88dc7",
   "metadata": {},
   "source": [
    "## Installing `kubectl` and `kind`\n"
   ]
  },
  {
   "cell_type": "markdown",
   "id": "eb87d9a6-cb5c-4671-be1f-751e06d4da58",
   "metadata": {},
   "source": [
    "You need to install:\n",
    "\n",
    "* `kubectl` - https://kubernetes.io/docs/tasks/tools/ (you might already have it - check before installing)\n",
    "* `kind` - https://kind.sigs.k8s.io/docs/user/quick-start/"
   ]
  },
  {
   "cell_type": "markdown",
   "id": "a23c91f0-90eb-4ffc-832c-18dc37da24b4",
   "metadata": {},
   "source": [
    "## Quesion 1: Version of kind"
   ]
  },
  {
   "cell_type": "markdown",
   "id": "a13b5eb5-7d46-46d1-bf43-54543c8f5723",
   "metadata": {},
   "source": [
    "What's the version of `kind` that you have? \n",
    "\n",
    "Use `kind --version` to find out."
   ]
  },
  {
   "cell_type": "code",
   "execution_count": 1,
   "id": "944e72dc-af4b-462e-9ecc-3a21f775e03c",
   "metadata": {},
   "outputs": [
    {
     "name": "stdout",
     "output_type": "stream",
     "text": [
      "kind version 0.11.1\n"
     ]
    }
   ],
   "source": [
    "!kind --version"
   ]
  },
  {
   "cell_type": "markdown",
   "id": "efd0ef11-4fb1-4dc8-8733-d75d7c4def0c",
   "metadata": {},
   "source": [
    "## Creating a cluster"
   ]
  },
  {
   "cell_type": "markdown",
   "id": "70108a84-e2a6-4b6d-800c-ba87ff043945",
   "metadata": {},
   "source": [
    "Now let's create a cluster with `kind`:\n",
    "\n",
    "```bash\n",
    "kind create cluster\n",
    "```"
   ]
  },
  {
   "cell_type": "markdown",
   "id": "7d06721e-d2c5-44a8-8223-ff08dbcd3529",
   "metadata": {},
   "source": [
    "## Question 2: Verifying that everything works"
   ]
  },
  {
   "cell_type": "markdown",
   "id": "42ab94dc-3c54-41f2-b554-4bd95b3d9d40",
   "metadata": {},
   "source": [
    "Now let's test if everything works. Use `kubectl` to get the list of running services. \n",
    "\n",
    "What's `CLUSTER-IP` of the service that is already running there? "
   ]
  },
  {
   "cell_type": "code",
   "execution_count": 2,
   "id": "abe49182-175d-4b08-891d-3531c7edcde1",
   "metadata": {},
   "outputs": [
    {
     "name": "stdout",
     "output_type": "stream",
     "text": [
      "NAME         TYPE        CLUSTER-IP   EXTERNAL-IP   PORT(S)   AGE\n",
      "kubernetes   ClusterIP   10.96.0.1    <none>        443/TCP   22h\n"
     ]
    }
   ],
   "source": [
    "!kubectl get services"
   ]
  },
  {
   "cell_type": "markdown",
   "id": "5b98353a-8a94-4349-9046-c45b808b6034",
   "metadata": {},
   "source": [
    "`CLUSTER-IP: 10.96.0.1`"
   ]
  },
  {
   "cell_type": "markdown",
   "id": "45061e2d-e11c-47b2-b1d1-a11ce913a654",
   "metadata": {},
   "source": [
    "## Question 3: Uploading the image to kind"
   ]
  },
  {
   "cell_type": "markdown",
   "id": "92a7dcdf-0072-4ebd-a312-cad35e2eac5d",
   "metadata": {},
   "source": [
    "To be able to use the docker image we previously created (`churn-model:v001`),\n",
    "we need to register it with kind.\n",
    "\n",
    "What's the command we need to run for that?"
   ]
  },
  {
   "cell_type": "markdown",
   "id": "181ed3ac-a8af-45ec-9dcd-7271e4604517",
   "metadata": {},
   "source": [
    "```bash\n",
    "kind load docker-image churn-model:v001\n",
    "```"
   ]
  },
  {
   "cell_type": "markdown",
   "id": "c2f86ede-9a39-444a-8b6c-0561bd3a5822",
   "metadata": {},
   "source": [
    "## Question 4: Creating a deployment"
   ]
  },
  {
   "cell_type": "markdown",
   "id": "507bb6d2-b330-403a-ae8c-d81811eee064",
   "metadata": {},
   "source": [
    "Now let's create a deployment (e.g. `deployment.yaml`):\n",
    "\n",
    "```yaml\n",
    "apiVersion: apps/v1\n",
    "kind: Deployment\n",
    "metadata:\n",
    "  name: churn\n",
    "spec:\n",
    "  selector:\n",
    "    matchLabels:\n",
    "      app: churn\n",
    "  template:\n",
    "    metadata:\n",
    "      labels:\n",
    "        app: churn\n",
    "    spec:\n",
    "      containers:\n",
    "      - name: churn\n",
    "        image: <Image>\n",
    "        resources:\n",
    "          limits:\n",
    "            memory: \"128Mi\"\n",
    "            cpu: \"500m\"\n",
    "        ports:\n",
    "        - containerPort: <Port>\n",
    "```\n",
    "\n",
    "Replace `<Image>` and `<Port>` with the correct values.\n",
    "\n",
    "What is the value for `<Port>`?"
   ]
  },
  {
   "cell_type": "markdown",
   "id": "4b14811e-8a66-4ed3-84ac-3a1856488448",
   "metadata": {},
   "source": [
    "The value for `<Port>` is `9696`."
   ]
  },
  {
   "cell_type": "markdown",
   "id": "3b04f944-ef68-4242-a92c-de086598531b",
   "metadata": {},
   "source": [
    "## Question 5: Pod name"
   ]
  },
  {
   "cell_type": "markdown",
   "id": "3228d541-4920-4a0a-bffd-43de36e4e2a8",
   "metadata": {},
   "source": [
    "Apply this deployment:\n",
    "\n",
    "```yaml\n",
    "kubectl apply -f deployment\n",
    "```\n",
    "\n",
    "Now get a list of running pods.\n",
    "What's the name of the pod that just started? \n"
   ]
  },
  {
   "cell_type": "code",
   "execution_count": 3,
   "id": "1014bc7f-b69f-4c94-b3bb-5e14d8e4ff80",
   "metadata": {},
   "outputs": [
    {
     "name": "stdout",
     "output_type": "stream",
     "text": [
      "NAME                     READY   STATUS    RESTARTS   AGE\n",
      "churn-8449c67c88-kqssj   1/1     Running   0          79m\n"
     ]
    }
   ],
   "source": [
    "!kubectl get pod"
   ]
  },
  {
   "cell_type": "markdown",
   "id": "26b07448-148c-4837-ab10-b346148d56b8",
   "metadata": {},
   "source": [
    "Pod name is `churn-8449c67c88-kqssj`."
   ]
  },
  {
   "cell_type": "markdown",
   "id": "03e866da-8b2d-4f3d-8320-557fe5f01fbd",
   "metadata": {},
   "source": [
    "## Question 6: Creating a service "
   ]
  },
  {
   "cell_type": "markdown",
   "id": "a024b656-64a8-42d5-912b-7df52af0a90c",
   "metadata": {},
   "source": [
    "Let's create a service for this deployment (`service.yaml`):\n",
    "\n",
    "```yaml\n",
    "apiVersion: v1\n",
    "kind: Service\n",
    "metadata:\n",
    "  name: <Service name>\n",
    "spec:\n",
    "  type: LoadBalancer\n",
    "  selector:\n",
    "    app: <???>\n",
    "  ports:\n",
    "  - port: 80\n",
    "    targetPort: <PORT>\n",
    "```\n",
    "\n",
    "Fill it in. What do we need to write instead of `<???>`?\n",
    "\n",
    "Apply this config file."
   ]
  },
  {
   "cell_type": "markdown",
   "id": "c24c50e4-7d1f-4b2b-9f15-7b51670c6136",
   "metadata": {},
   "source": [
    "We need to write `churn` instead of `<???>`."
   ]
  },
  {
   "cell_type": "markdown",
   "id": "fdc50bf9-d980-46a9-8c67-d398ccfd946e",
   "metadata": {},
   "source": [
    "## Testing the service locally"
   ]
  },
  {
   "cell_type": "markdown",
   "id": "82dd9e73-2861-4f1c-8c0c-8e54b31a270d",
   "metadata": {},
   "source": [
    "We can do it by forwarding the 9696 port on our computer to the port 80 on the service:\n",
    "\n",
    "```bash\n",
    "kubectl port-forward service/churn 9696:80\n",
    "```\n",
    "\n",
    "Run `predict-test.py` from session 5 to verify that everything is working."
   ]
  }
 ],
 "metadata": {
  "kernelspec": {
   "display_name": "Python 3 (ipykernel)",
   "language": "python",
   "name": "python3"
  },
  "language_info": {
   "codemirror_mode": {
    "name": "ipython",
    "version": 3
   },
   "file_extension": ".py",
   "mimetype": "text/x-python",
   "name": "python",
   "nbconvert_exporter": "python",
   "pygments_lexer": "ipython3",
   "version": "3.9.0"
  }
 },
 "nbformat": 4,
 "nbformat_minor": 5
}
